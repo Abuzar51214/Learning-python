{
  "cells": [
    {
      "cell_type": "markdown",
      "metadata": {
        "id": "view-in-github",
        "colab_type": "text"
      },
      "source": [
        "<a href=\"https://colab.research.google.com/github/Abuzar51214/Learning-python/blob/main/04_natural_language_programming/02_ai_python_for_beginners/course2_automating_tasks/Lesson_1/Lesson_1.ipynb\" target=\"_parent\"><img src=\"https://colab.research.google.com/assets/colab-badge.svg\" alt=\"Open In Colab\"/></a>"
      ]
    },
    {
      "cell_type": "markdown",
      "id": "4bd8fbd2-de5c-47bd-bcd9-cbbe8cdc3104",
      "metadata": {
        "id": "4bd8fbd2-de5c-47bd-bcd9-cbbe8cdc3104"
      },
      "source": [
        "# Lesson 1 - Completing a task list with AI"
      ]
    },
    {
      "cell_type": "markdown",
      "id": "5dfc7231",
      "metadata": {
        "id": "5dfc7231"
      },
      "source": [
        "### Download helper_function.py\n",
        "* pls set Secrets Variable for Gemini in Collab\n",
        "* `GEMINI_API_KEY`\n",
        "\n",
        "[Get API KEY From Google AI Studio](https://aistudio.google.com/app/apikey)"
      ]
    },
    {
      "cell_type": "code",
      "execution_count": 1,
      "id": "a9a0cd47",
      "metadata": {
        "id": "a9a0cd47",
        "outputId": "4416cfe4-132b-4e50-978e-e73e74c95da4",
        "colab": {
          "base_uri": "https://localhost:8080/"
        }
      },
      "outputs": [
        {
          "output_type": "stream",
          "name": "stdout",
          "text": [
            "  % Total    % Received % Xferd  Average Speed   Time    Time     Time  Current\n",
            "                                 Dload  Upload   Total   Spent    Left  Speed\n",
            "\r  0     0    0     0    0     0      0      0 --:--:-- --:--:-- --:--:--     0\r100  3944  100  3944    0     0  22904      0 --:--:-- --:--:-- --:--:-- 22930\n"
          ]
        }
      ],
      "source": [
        "### Download helper_function.py\n",
        "# * Set Secrets Variable for Gemini\n",
        "# * `GEMINI_API_KEY`\n",
        "\n",
        "!curl -o helper_functions.py https://raw.githubusercontent.com/panaversity/learn-cloud-native-modern-ai-python/main/04_natural_language_programming/02_ai_python_for_beginners/course1_basics/Lesson_9/helper_functions.py"
      ]
    },
    {
      "cell_type": "markdown",
      "id": "f2ba7ff3",
      "metadata": {
        "id": "f2ba7ff3"
      },
      "source": [
        "In this course, you'll learn how to automate tasks using Python. This means you'll be able to have Python **do repetitive things** and **make decisions** for you. One important skill you'll develop is the ability to store multiple pieces of data together. This lesson will introduce you to **lists**, a powerful tool for this purpose.\n",
        "\n",
        "To get started, let's load some functions that you'll use in this lesson."
      ]
    },
    {
      "cell_type": "code",
      "execution_count": 2,
      "id": "41ef33ad-2b5c-40db-a1ab-9f3c689edd55",
      "metadata": {
        "id": "41ef33ad-2b5c-40db-a1ab-9f3c689edd55"
      },
      "outputs": [],
      "source": [
        "from helper_functions import print_llm_response, get_llm_response"
      ]
    },
    {
      "cell_type": "markdown",
      "id": "f156dba3",
      "metadata": {
        "id": "f156dba3"
      },
      "source": [
        "### What are lists?\n",
        "In the last course, you learned about variables. Each variable holds a single piece of data.\n",
        "\n",
        "For example:"
      ]
    },
    {
      "cell_type": "code",
      "execution_count": 9,
      "id": "73758fc8",
      "metadata": {
        "id": "73758fc8",
        "outputId": "ee7f3944-df21-448d-ed79-ce8d1d79bb84",
        "colab": {
          "base_uri": "https://localhost:8080/"
        }
      },
      "outputs": [
        {
          "output_type": "stream",
          "name": "stdout",
          "text": [
            "['Junaid', 'Abuzar']\n",
            "2\n"
          ]
        }
      ],
      "source": [
        "name:str = \"Tommy\"\n",
        "student_list:list=[\"Junaid\",\"Abuzar\"]\n",
        "print(student_list)\n",
        "print(len(student_list))\n"
      ]
    },
    {
      "cell_type": "markdown",
      "id": "b8e315cf",
      "metadata": {
        "id": "b8e315cf"
      },
      "source": [
        "Let's say I want to write a poem for all my friends... all three of them. Run the cell below, then change the name above to Isabel and rerun the cell."
      ]
    },
    {
      "cell_type": "code",
      "execution_count": 10,
      "id": "30a8e543",
      "metadata": {
        "id": "30a8e543",
        "outputId": "6a445b2f-720b-4023-deb0-26f5c64ead05",
        "colab": {
          "base_uri": "https://localhost:8080/",
          "height": 108
        }
      },
      "outputs": [
        {
          "output_type": "stream",
          "name": "stdout",
          "text": [
            "Tommy, a true friend, kind and bright,\n",
            "Today we celebrate your shining light.\n",
            "With laughter and joy, we raise a cheer,\n",
            "For you, dear friend, a happy year! \n",
            "\n"
          ]
        }
      ],
      "source": [
        "prompt = f\"\"\"\n",
        "Write a four line birthday poem for my friend {name}.\n",
        "The poem should be inspired by the first letter of my friend's name.\n",
        "\"\"\"\n",
        "print_llm_response(prompt)"
      ]
    },
    {
      "cell_type": "markdown",
      "id": "cb48382c",
      "metadata": {
        "id": "cb48382c"
      },
      "source": [
        "Changing the value held by a variable requires lots of updates to the variables. A better way to handle this is by using a list.\n",
        "\n",
        "Lists are a data type in Python that can hold multiple pieces of data. This reduces the need for repetitive variable assignments since you can include all the pieces of data together."
      ]
    },
    {
      "cell_type": "markdown",
      "id": "5d36fc84-7238-478c-a70b-8b4988dae5b9",
      "metadata": {
        "id": "5d36fc84-7238-478c-a70b-8b4988dae5b9"
      },
      "source": [
        "## Creating  a list\n",
        "\n",
        "Below, you will create a list that holds the names `\"Tommy\"`, `\"Isabel\"` and `\"Daniel\"`."
      ]
    },
    {
      "cell_type": "code",
      "execution_count": 11,
      "id": "b2cdf52d-f8be-4eb9-870b-19b0ed83fc25",
      "metadata": {
        "id": "b2cdf52d-f8be-4eb9-870b-19b0ed83fc25"
      },
      "outputs": [],
      "source": [
        "#position =        0        1        2\n",
        "friends_list = [\"Tommy\", \"Isabel\", \"Daniel\"]"
      ]
    },
    {
      "cell_type": "code",
      "execution_count": 12,
      "id": "343fb2a6-3bfc-44b8-9dd3-a3d8e177906a",
      "metadata": {
        "id": "343fb2a6-3bfc-44b8-9dd3-a3d8e177906a",
        "outputId": "8fae841b-c9e1-46b4-fc8b-a68035a744b0",
        "colab": {
          "base_uri": "https://localhost:8080/"
        }
      },
      "outputs": [
        {
          "output_type": "stream",
          "name": "stdout",
          "text": [
            "['Tommy', 'Isabel', 'Daniel']\n"
          ]
        }
      ],
      "source": [
        "print(friends_list)"
      ]
    },
    {
      "cell_type": "markdown",
      "id": "10fe72bf",
      "metadata": {
        "id": "10fe72bf"
      },
      "source": [
        "`friends_list` is a single variable of type `list` that holds multiple values."
      ]
    },
    {
      "cell_type": "code",
      "execution_count": 13,
      "id": "bfae06d5",
      "metadata": {
        "id": "bfae06d5",
        "outputId": "0f813bba-c1cd-440c-ada8-4b6e8c88d165",
        "colab": {
          "base_uri": "https://localhost:8080/"
        }
      },
      "outputs": [
        {
          "output_type": "execute_result",
          "data": {
            "text/plain": [
              "list"
            ]
          },
          "metadata": {},
          "execution_count": 13
        }
      ],
      "source": [
        "type(friends_list)"
      ]
    },
    {
      "cell_type": "markdown",
      "id": "7df5e778",
      "metadata": {
        "id": "7df5e778"
      },
      "source": [
        "You can check how many values are stored in the list by using `len()`:"
      ]
    },
    {
      "cell_type": "code",
      "execution_count": 14,
      "id": "c675bd49",
      "metadata": {
        "id": "c675bd49",
        "outputId": "f36b0b3b-508b-4402-9f31-52396896e393",
        "colab": {
          "base_uri": "https://localhost:8080/"
        }
      },
      "outputs": [
        {
          "output_type": "execute_result",
          "data": {
            "text/plain": [
              "3"
            ]
          },
          "metadata": {},
          "execution_count": 14
        }
      ],
      "source": [
        "len(friends_list)"
      ]
    },
    {
      "cell_type": "markdown",
      "id": "54e11255",
      "metadata": {
        "id": "54e11255"
      },
      "source": [
        "So this list has three elements."
      ]
    },
    {
      "cell_type": "markdown",
      "id": "5ae55d3c",
      "metadata": {
        "id": "5ae55d3c"
      },
      "source": [
        "You can use lists as you used variables before within LLM prompts. Below, you are including the `friends_list` in the prompt to write four-line birthday poems for `'Tommy'`, `'Isabel'` and `'Daniel'`."
      ]
    },
    {
      "cell_type": "code",
      "execution_count": 18,
      "id": "e0b59524",
      "metadata": {
        "id": "e0b59524",
        "outputId": "a2a02f0b-7d62-47ec-b8f5-d9bee937c864",
        "colab": {
          "base_uri": "https://localhost:8080/"
        }
      },
      "outputs": [
        {
          "output_type": "stream",
          "name": "stdout",
          "text": [
            "\n",
            "Write a set of four line birthday poems for my friends ['Tommy', 'Isabel', 'Daniel']. \n",
            "The poems should be insipred by the first letter of each friend's name.\n",
            "\n"
          ]
        }
      ],
      "source": [
        "prompt = f\"\"\"\n",
        "Write a set of four line birthday poems for my friends {friends_list}.\n",
        "The poems should be insipred by the first letter of each friend's name.\n",
        "\"\"\"\n",
        "print(prompt)"
      ]
    },
    {
      "cell_type": "markdown",
      "id": "2cf56776",
      "metadata": {
        "id": "2cf56776"
      },
      "source": [
        "Now, you can use that prompt with the LLM:"
      ]
    },
    {
      "cell_type": "code",
      "execution_count": 16,
      "id": "ac8ed4b1",
      "metadata": {
        "id": "ac8ed4b1",
        "outputId": "52a6e2c1-6855-4dd8-a144-217b1d42b72d",
        "colab": {
          "base_uri": "https://localhost:8080/",
          "height": 437
        }
      },
      "outputs": [
        {
          "output_type": "stream",
          "name": "stdout",
          "text": [
            "## Birthday Poems:\n",
            "\n",
            "**For Tommy:**\n",
            "\n",
            "Tiny hands, a heart so true,\n",
            "Today's for you, it's all for you.\n",
            "May joy and laughter fill your day,\n",
            "Happy Birthday, Tommy, hooray!\n",
            "\n",
            "**For Isabel:**\n",
            "\n",
            "In every smile, a spark so bright,\n",
            "So full of love, your spirit's light.\n",
            "May dreams take flight, reach for the stars,\n",
            "Happy Birthday, Isabel, from near and far.\n",
            "\n",
            "**For Daniel:**\n",
            "\n",
            "Daring adventures, a heart so bold,\n",
            "Stories to be told, both new and old.\n",
            "May every wish come true today,\n",
            "Happy Birthday, Daniel, on your special day. \n",
            "\n"
          ]
        }
      ],
      "source": [
        "print_llm_response(prompt)"
      ]
    },
    {
      "cell_type": "markdown",
      "id": "2d0a44bf",
      "metadata": {
        "id": "2d0a44bf"
      },
      "source": [
        "## Accessing individual elements of a list"
      ]
    },
    {
      "cell_type": "markdown",
      "id": "d7de8ba8",
      "metadata": {
        "id": "d7de8ba8"
      },
      "source": [
        "You can access individual elements from a list. Let's ask the chatbot how to do that."
      ]
    },
    {
      "cell_type": "markdown",
      "id": "82fe4e72",
      "metadata": {
        "id": "82fe4e72"
      },
      "source": [
        "<p style=\"background-color:#F5C780; padding:15px\"> 🤖 <b>Use the Chatbot</b>: How do I access a specific element of this list:\n",
        "friends_list = [\"Tommy\", \"Isabel\", \"Daniel\"]\n",
        "</p>"
      ]
    },
    {
      "cell_type": "markdown",
      "id": "05ad7e82",
      "metadata": {
        "id": "05ad7e82"
      },
      "source": [
        "For instance, to access the first element, you would use the following code:"
      ]
    },
    {
      "cell_type": "code",
      "execution_count": 19,
      "id": "db3b8120",
      "metadata": {
        "id": "db3b8120",
        "outputId": "ebc8fa5e-4251-4b10-e336-43d2ed811c6f",
        "colab": {
          "base_uri": "https://localhost:8080/"
        }
      },
      "outputs": [
        {
          "output_type": "stream",
          "name": "stdout",
          "text": [
            "Tommy\n"
          ]
        }
      ],
      "source": [
        "first_friend = friends_list[0]\n",
        "print(first_friend)  # Output: Tommy"
      ]
    },
    {
      "cell_type": "markdown",
      "id": "e4630495-74c9-4d0b-906e-9655b9087f81",
      "metadata": {
        "id": "e4630495-74c9-4d0b-906e-9655b9087f81"
      },
      "source": [
        "To access the second element, you would use the following code:"
      ]
    },
    {
      "cell_type": "code",
      "execution_count": 20,
      "id": "ef6ddceb",
      "metadata": {
        "id": "ef6ddceb",
        "outputId": "b6586a09-b1a2-4ec4-a80a-c8917d59e41c",
        "colab": {
          "base_uri": "https://localhost:8080/"
        }
      },
      "outputs": [
        {
          "output_type": "stream",
          "name": "stdout",
          "text": [
            "Isabel\n"
          ]
        }
      ],
      "source": [
        "print(friends_list[1]) # Output: Isabel"
      ]
    },
    {
      "cell_type": "markdown",
      "id": "9ba91b9a-4bd7-4cc7-b9f1-87fa15e55dfc",
      "metadata": {
        "id": "9ba91b9a-4bd7-4cc7-b9f1-87fa15e55dfc"
      },
      "source": [
        "Note that for accessing the first element you used the index 0, and for accessing the second element you used 1."
      ]
    },
    {
      "cell_type": "markdown",
      "id": "59eed6c3",
      "metadata": {
        "id": "59eed6c3"
      },
      "source": [
        "So, if you do the following, you'll get an error."
      ]
    },
    {
      "cell_type": "code",
      "execution_count": 21,
      "id": "c19112dc",
      "metadata": {
        "id": "c19112dc",
        "outputId": "3a81c83b-e404-4ef4-d016-86b37e6a3686",
        "colab": {
          "base_uri": "https://localhost:8080/",
          "height": 147
        }
      },
      "outputs": [
        {
          "output_type": "error",
          "ename": "IndexError",
          "evalue": "list index out of range",
          "traceback": [
            "\u001b[0;31m---------------------------------------------------------------------------\u001b[0m",
            "\u001b[0;31mIndexError\u001b[0m                                Traceback (most recent call last)",
            "\u001b[0;32m<ipython-input-21-93b7e852eef3>\u001b[0m in \u001b[0;36m<cell line: 1>\u001b[0;34m()\u001b[0m\n\u001b[0;32m----> 1\u001b[0;31m \u001b[0mprint\u001b[0m\u001b[0;34m(\u001b[0m\u001b[0mfriends_list\u001b[0m\u001b[0;34m[\u001b[0m\u001b[0;36m3\u001b[0m\u001b[0;34m]\u001b[0m\u001b[0;34m)\u001b[0m \u001b[0;31m# Gives an error\u001b[0m\u001b[0;34m\u001b[0m\u001b[0;34m\u001b[0m\u001b[0m\n\u001b[0m",
            "\u001b[0;31mIndexError\u001b[0m: list index out of range"
          ]
        }
      ],
      "source": [
        "print(friends_list[3]) # Gives an error"
      ]
    },
    {
      "cell_type": "markdown",
      "id": "73cabe3b",
      "metadata": {
        "id": "73cabe3b"
      },
      "source": [
        "But, if you run the following code, you will be able to access the last element from that list."
      ]
    },
    {
      "cell_type": "code",
      "execution_count": 22,
      "id": "408eff97",
      "metadata": {
        "id": "408eff97",
        "outputId": "327588a2-16b4-4e6d-e9d6-cde9a8f6e54e",
        "colab": {
          "base_uri": "https://localhost:8080/"
        }
      },
      "outputs": [
        {
          "output_type": "stream",
          "name": "stdout",
          "text": [
            "Daniel\n"
          ]
        }
      ],
      "source": [
        "print(friends_list[2])"
      ]
    },
    {
      "cell_type": "markdown",
      "id": "88cef078",
      "metadata": {
        "id": "88cef078"
      },
      "source": [
        "## Adding another element to the list"
      ]
    },
    {
      "cell_type": "code",
      "execution_count": null,
      "id": "77705088-bfb4-40ed-8cc8-76b17b8f1357",
      "metadata": {
        "id": "77705088-bfb4-40ed-8cc8-76b17b8f1357"
      },
      "outputs": [],
      "source": [
        "print(friends_list)"
      ]
    },
    {
      "cell_type": "markdown",
      "id": "6a9f875a-5fc9-4bde-be57-3ba9b0d4f1d5",
      "metadata": {
        "id": "6a9f875a-5fc9-4bde-be57-3ba9b0d4f1d5"
      },
      "source": [
        "If you want to add some data to an list, you will use `list.append(new_data)`. So, to add `\"Otto\"` to your `friends_list`, you can run the following code:"
      ]
    },
    {
      "cell_type": "code",
      "execution_count": 24,
      "id": "c2c816b9-f7c7-4f0b-a3e2-8fdf3d2e31f7",
      "metadata": {
        "id": "c2c816b9-f7c7-4f0b-a3e2-8fdf3d2e31f7"
      },
      "outputs": [],
      "source": [
        "# add single element to list\n",
        "friends_list.append(\"Otto\")"
      ]
    },
    {
      "cell_type": "code",
      "execution_count": 25,
      "id": "5ed4248d-367d-4432-873d-229f084ca42c",
      "metadata": {
        "id": "5ed4248d-367d-4432-873d-229f084ca42c",
        "outputId": "36fc38d2-8fa2-484c-8df3-62b5a7b545dc",
        "colab": {
          "base_uri": "https://localhost:8080/"
        }
      },
      "outputs": [
        {
          "output_type": "stream",
          "name": "stdout",
          "text": [
            "['Tommy', 'Isabel', 'Daniel', 'Otto']\n"
          ]
        }
      ],
      "source": [
        "print(friends_list)"
      ]
    },
    {
      "cell_type": "markdown",
      "id": "b6c04751",
      "metadata": {
        "id": "b6c04751"
      },
      "source": [
        "Try for yourself - modify code to add another friend, or yourself"
      ]
    },
    {
      "cell_type": "code",
      "execution_count": 41,
      "id": "ed18d3a1",
      "metadata": {
        "id": "ed18d3a1"
      },
      "outputs": [],
      "source": [
        "# Modify the code below to add another friend:\n",
        "friends_list.append(90)\n"
      ]
    },
    {
      "cell_type": "code",
      "source": [
        "print(friends_list)\n",
        "print(friends_list[4])\n",
        "print(type(friends_list[4]))\n",
        "print(type(friends_list[2]))\n",
        "\n"
      ],
      "metadata": {
        "id": "uItZMDoJ3vNO",
        "outputId": "b96c7958-afe0-475e-8ac4-541709b4bc9a",
        "colab": {
          "base_uri": "https://localhost:8080/"
        }
      },
      "id": "uItZMDoJ3vNO",
      "execution_count": 47,
      "outputs": [
        {
          "output_type": "stream",
          "name": "stdout",
          "text": [
            "['Tommy', 'Isabel', 'Daniel', 'Otto', 90]\n",
            "90\n",
            "<class 'int'>\n",
            "<class 'str'>\n"
          ]
        }
      ]
    },
    {
      "cell_type": "markdown",
      "id": "1b22945c-42b3-4ed5-aa1c-bc64c6845897",
      "metadata": {
        "id": "1b22945c-42b3-4ed5-aa1c-bc64c6845897"
      },
      "source": [
        "## Deleting elements"
      ]
    },
    {
      "cell_type": "markdown",
      "id": "91c62ca8",
      "metadata": {
        "id": "91c62ca8"
      },
      "source": [
        "Tommy moved to Bora Bora, so we can't be friends anymore. Let's remove Tommy from `friends_list` by using `.remove()`:"
      ]
    },
    {
      "cell_type": "code",
      "execution_count": 48,
      "id": "999f5ce1-a7d0-4f17-a3de-b09eb524b130",
      "metadata": {
        "id": "999f5ce1-a7d0-4f17-a3de-b09eb524b130"
      },
      "outputs": [],
      "source": [
        "#using remove\n",
        "friends_list.remove(\"Tommy\")"
      ]
    },
    {
      "cell_type": "code",
      "execution_count": 49,
      "id": "8b8fdd0f-709b-4076-ba2c-a5bb767dfa21",
      "metadata": {
        "id": "8b8fdd0f-709b-4076-ba2c-a5bb767dfa21",
        "outputId": "e6d7f952-8385-4c2d-c4ca-f63b60b4be45",
        "colab": {
          "base_uri": "https://localhost:8080/"
        }
      },
      "outputs": [
        {
          "output_type": "stream",
          "name": "stdout",
          "text": [
            "['Isabel', 'Daniel', 'Otto', 90]\n"
          ]
        }
      ],
      "source": [
        "print(friends_list)"
      ]
    },
    {
      "cell_type": "markdown",
      "id": "e8eca359-4e2d-4f2e-8a3e-29a706cd5097",
      "metadata": {
        "id": "e8eca359-4e2d-4f2e-8a3e-29a706cd5097"
      },
      "source": [
        "## Lists with other data types\n",
        "\n",
        "Lists can hold any type of data. For instance, here is a list of numbers"
      ]
    },
    {
      "cell_type": "code",
      "execution_count": 50,
      "id": "8b884de4",
      "metadata": {
        "id": "8b884de4"
      },
      "outputs": [],
      "source": [
        "list_ages:list = [42, 28, 30]"
      ]
    },
    {
      "cell_type": "code",
      "execution_count": 51,
      "id": "53d6be61-0b24-4c3a-84c8-fd800296c2bb",
      "metadata": {
        "id": "53d6be61-0b24-4c3a-84c8-fd800296c2bb",
        "outputId": "3a9d4d62-a14e-4324-a30f-55e924659dd3",
        "colab": {
          "base_uri": "https://localhost:8080/"
        }
      },
      "outputs": [
        {
          "output_type": "stream",
          "name": "stdout",
          "text": [
            "[42, 28, 30]\n"
          ]
        }
      ],
      "source": [
        "print(list_ages)"
      ]
    },
    {
      "cell_type": "markdown",
      "id": "3fe09e1c",
      "metadata": {
        "id": "3fe09e1c"
      },
      "source": [
        "Lists can also hold long strings. Here's a list of tasks that might make up a todo list"
      ]
    },
    {
      "cell_type": "code",
      "execution_count": 52,
      "id": "b3eded47-a74d-4f79-938b-f1580753a706",
      "metadata": {
        "id": "b3eded47-a74d-4f79-938b-f1580753a706"
      },
      "outputs": [],
      "source": [
        "#list of tasks in priority order. Multi-line lists are allowed in python!\n",
        "list_of_tasks = [\n",
        "    \"Compose a brief email to my boss explaining that I will be late for tomorrow's meeting.\",\n",
        "    \"Write a birthday poem for Otto, celebrating his 28th birthday.\",\n",
        "    \"Write a 300-word review of the movie 'The Arrival'.\"\n",
        "]"
      ]
    },
    {
      "cell_type": "markdown",
      "id": "62c4c86c",
      "metadata": {
        "id": "62c4c86c"
      },
      "source": [
        "If you were wondering how to use lists with AI, take this example. Each element in the previous list is a string that you can pass to `print_llm_response()`. If you want an LLM to do each of these tasks for you, here's what you would do:\n",
        "\n",
        "Set a variable called `task` to each element in the list in turn, then pass it to `print_llm_response()`."
      ]
    },
    {
      "cell_type": "code",
      "execution_count": 55,
      "id": "642ab497-32dd-45b9-996b-e06861b2b7dc",
      "metadata": {
        "id": "642ab497-32dd-45b9-996b-e06861b2b7dc",
        "outputId": "ea5fa9c7-a57b-425b-a435-5f665392b84c",
        "colab": {
          "base_uri": "https://localhost:8080/",
          "height": 238
        }
      },
      "outputs": [
        {
          "output_type": "stream",
          "name": "stdout",
          "text": [
            "Subject: Running Late for Tomorrow's Meeting\n",
            "\n",
            "Hi [Boss's Name],\n",
            "\n",
            "Just wanted to let you know that I will be running a bit late for tomorrow's meeting at [time]. I expect to arrive around [estimated arrival time]. \n",
            "\n",
            "I apologize for any inconvenience this may cause. \n",
            "\n",
            "Best,\n",
            "[Your Name] \n",
            "\n"
          ]
        }
      ],
      "source": [
        "task = list_of_tasks[0]\n",
        "print_llm_response(task)"
      ]
    },
    {
      "cell_type": "code",
      "execution_count": 56,
      "id": "d5040f08-d01a-4b7f-acd0-70a9bfffe805",
      "metadata": {
        "id": "d5040f08-d01a-4b7f-acd0-70a9bfffe805",
        "outputId": "65ee4564-1e50-49d3-fd4f-05bedca6a384",
        "colab": {
          "base_uri": "https://localhost:8080/",
          "height": 291
        }
      },
      "outputs": [
        {
          "output_type": "stream",
          "name": "stdout",
          "text": [
            "To Otto, dear friend, on this day so bright,\n",
            "We gather to celebrate, with joy and light.\n",
            "Twenty-eight years you've graced this earth, it's true,\n",
            "And filled it with laughter, kindness, and something new.\n",
            "\n",
            "Your spirit, a beacon, shining ever so clear,\n",
            "A heart full of warmth, banishing all fear.\n",
            "You face each new challenge with courage and grace,\n",
            "A smile on your face, a light in your embrace.\n",
            "\n",
            "So raise a glass high, let the music play,\n",
            "For Otto, our friend, on his special day.\n",
            "May joy and good fortune surround you each year,\n",
            "Happy birthday, dear Otto, our love is sincere. \n",
            "\n"
          ]
        }
      ],
      "source": [
        "task = list_of_tasks[1]\n",
        "print_llm_response(task)"
      ]
    },
    {
      "cell_type": "code",
      "execution_count": 57,
      "id": "2085c168-21ee-4675-b10e-082945b80af4",
      "metadata": {
        "id": "2085c168-21ee-4675-b10e-082945b80af4",
        "outputId": "63f6140b-8080-4ef6-9058-c934bbbeceaa",
        "colab": {
          "base_uri": "https://localhost:8080/",
          "height": 220
        }
      },
      "outputs": [
        {
          "output_type": "stream",
          "name": "stdout",
          "text": [
            "##  The Arrival: A Thought-Provoking Journey Through Time and Language\n",
            "\n",
            "\"The Arrival\" is more than a science fiction film; it's a meditation on communication, loss, and the profound human desire for connection. The film beautifully crafts a narrative around the arrival of mysterious alien spacecraft, weaving together the intricate lives of Dr. Louise Banks (Amy Adams), a linguist tasked with deciphering their language, and Ian Donnelly (Jeremy Renner), a physicist seeking scientific understanding.\n",
            "\n",
            "The film's strength lies in its visual storytelling. The alien language, presented through mesmerizing visual sequences, is a captivating element that transcends the typical Hollywood tropes of \"alien invasion\" and \"space battles\". The alien's communication, a complex system of swirling, shifting patterns, compels the viewer to contemplate the nature of language and the limits of human understanding.\n",
            "\n",
            "\"The Arrival\" isn't just a movie about aliens, it's a film about human experience. The narrative explores themes of grief, the weight of choices, and the bittersweet beauty of time. Louise's personal journey is deeply moving, her struggles with loss and her yearning for connection forming a powerful parallel to the larger story of humanity's attempt to connect with the unknown. \n",
            "\n",
            "The film's pacing is deliberate, allowing for moments of quiet contemplation and emotional resonance. While the film might not be for everyone, its intelligence and emotional depth will resonate with viewers seeking something beyond the typical Hollywood fare. \"The Arrival\" is a film that stays with you long after the credits roll, leaving you pondering the mysteries of the universe and the enduring power of human connection. \n",
            "\n"
          ]
        }
      ],
      "source": [
        "task = list_of_tasks[2]\n",
        "print_llm_response(task)"
      ]
    },
    {
      "cell_type": "markdown",
      "id": "dcac3fe6",
      "metadata": {
        "id": "dcac3fe6"
      },
      "source": [
        "You worked through all the elements in the list, but there is still a lot of repetition here. You had to specify each element separately. There is actually a much better way to do this using something called a for loop. Let's go to the next video to see it in action.\n"
      ]
    },
    {
      "cell_type": "markdown",
      "id": "ba8d2d3b-8745-4d96-b175-08cffdc856a4",
      "metadata": {
        "id": "ba8d2d3b-8745-4d96-b175-08cffdc856a4"
      },
      "source": [
        "## Extra practice"
      ]
    },
    {
      "cell_type": "markdown",
      "id": "558ae3a6-972f-45a2-bfc3-7dbbda7f1c7b",
      "metadata": {
        "id": "558ae3a6-972f-45a2-bfc3-7dbbda7f1c7b"
      },
      "source": [
        "Please go through the exercises in the cells below if you want some extra practice for the topics you covered in this lesson."
      ]
    },
    {
      "cell_type": "code",
      "execution_count": 58,
      "id": "a52ac3fe-7e72-44c4-9556-8f872ec6bf73",
      "metadata": {
        "id": "a52ac3fe-7e72-44c4-9556-8f872ec6bf73",
        "outputId": "327cbfd7-b662-4cbf-d0cb-87bb1484ed54",
        "colab": {
          "base_uri": "https://localhost:8080/"
        }
      },
      "outputs": [
        {
          "output_type": "stream",
          "name": "stdout",
          "text": [
            "['Fast & furious', 'The jungle book', 'Farzi', 'Welcome to karachi', 'The Pilot']\n"
          ]
        }
      ],
      "source": [
        "# Create a list with the titles\n",
        "# of five of your favorite movies\n",
        "\n",
        "### WRITE CODE HERE ###\n",
        "movie_list =[\"Fast & furious\", \"The jungle book\", \"Farzi\", \"Welcome to karachi\", \"The Pilot\"]\n",
        "print(movie_list)\n",
        "### --------------- ###"
      ]
    },
    {
      "cell_type": "code",
      "execution_count": 59,
      "id": "a2f8afeb-ee8e-46f9-ad39-751a1ab9fdf3",
      "metadata": {
        "id": "a2f8afeb-ee8e-46f9-ad39-751a1ab9fdf3",
        "outputId": "d0b7ee49-01ce-4d18-99a7-e9d797ea9e36",
        "colab": {
          "base_uri": "https://localhost:8080/"
        }
      },
      "outputs": [
        {
          "output_type": "stream",
          "name": "stdout",
          "text": [
            "7\n"
          ]
        }
      ],
      "source": [
        "# Display the fourth element of\n",
        "# the following list using print()\n",
        "\n",
        "prime_numbers = [2, 3, 5, 7, 11]\n",
        "print(prime_numbers[3])\n",
        "\n",
        "### WRITE CODE HERE ###\n",
        "\n",
        "### --------------- ###"
      ]
    },
    {
      "cell_type": "code",
      "execution_count": 61,
      "id": "ca358297-651e-4ad7-912f-921af007ef01",
      "metadata": {
        "id": "ca358297-651e-4ad7-912f-921af007ef01",
        "outputId": "3a2abec0-20d0-42c7-cffe-2d2f806269b2",
        "colab": {
          "base_uri": "https://localhost:8080/"
        }
      },
      "outputs": [
        {
          "output_type": "stream",
          "name": "stdout",
          "text": [
            "7\n"
          ]
        }
      ],
      "source": [
        "# Fix the bug in the following code\n",
        "\n",
        "prime_numbers = [2, 3, 5, 7, 11]\n",
        "\n",
        "### FIX THIS CODE ###\n",
        "# print(prime_numbers(3))\n",
        "print(prime_numbers[3]) #access and print() the fourth element\n",
        "### --------------- ###"
      ]
    },
    {
      "cell_type": "code",
      "execution_count": 62,
      "id": "a823e76b-18b1-45d9-a678-1aa481d17496",
      "metadata": {
        "id": "a823e76b-18b1-45d9-a678-1aa481d17496",
        "outputId": "dfb69963-87e3-4e29-c43c-a27edcad5cca",
        "colab": {
          "base_uri": "https://localhost:8080/"
        }
      },
      "outputs": [
        {
          "output_type": "stream",
          "name": "stdout",
          "text": [
            "['Tommy', 'Isabel', 'Daniel', 'Otto', 'Manzar']\n"
          ]
        }
      ],
      "source": [
        "# Add one name to friends_list using append\n",
        "\n",
        "friends_list = [\"Tommy\", \"Isabel\", \"Daniel\", \"Otto\"]\n",
        "friends_list.append(\"Manzar\")\n",
        "\n",
        "### WRITE CODE HERE ###\n",
        "\n",
        "### --------------- ###\n",
        "\n",
        "print(friends_list)"
      ]
    },
    {
      "cell_type": "code",
      "execution_count": 65,
      "id": "bae37d2d-3736-410b-983b-2e40fe5b1302",
      "metadata": {
        "id": "bae37d2d-3736-410b-983b-2e40fe5b1302",
        "outputId": "fcd1d6c8-a7c0-4cdb-a18f-7eee26d47222",
        "colab": {
          "base_uri": "https://localhost:8080/"
        }
      },
      "outputs": [
        {
          "output_type": "stream",
          "name": "stdout",
          "text": [
            "['Colombia', 'Peru', 'Brasil', 'Argentina']\n"
          ]
        }
      ],
      "source": [
        "# In the following code, remove the country\n",
        "# that is not in South America\n",
        "\n",
        "countries_in_south_america = [\"Colombia\", \"Peru\",\n",
        "                              \"Brasil\", \"Japan\",\n",
        "                              \"Argentina\"]\n",
        "countries_in_south_america.remove(\"Japan\")\n",
        "\n",
        "\n",
        "### WRITE CODE HERE ###\n",
        "\n",
        "### --------------- ###\n",
        "\n",
        "print(countries_in_south_america)"
      ]
    }
  ],
  "metadata": {
    "kernelspec": {
      "display_name": "Python 3 (ipykernel)",
      "language": "python",
      "name": "python3"
    },
    "language_info": {
      "codemirror_mode": {
        "name": "ipython",
        "version": 3
      },
      "file_extension": ".py",
      "mimetype": "text/x-python",
      "name": "python",
      "nbconvert_exporter": "python",
      "pygments_lexer": "ipython3",
      "version": "3.12.2"
    },
    "colab": {
      "provenance": [],
      "include_colab_link": true
    }
  },
  "nbformat": 4,
  "nbformat_minor": 5
}