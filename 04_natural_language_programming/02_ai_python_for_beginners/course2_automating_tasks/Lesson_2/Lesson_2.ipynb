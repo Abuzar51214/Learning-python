{
  "cells": [
    {
      "cell_type": "markdown",
      "id": "4bd8fbd2-de5c-47bd-bcd9-cbbe8cdc3104",
      "metadata": {
        "id": "4bd8fbd2-de5c-47bd-bcd9-cbbe8cdc3104"
      },
      "source": [
        "# Lesson 2 - Repeating tasks with for loops"
      ]
    },
    {
      "cell_type": "markdown",
      "id": "f6556a1e",
      "metadata": {
        "id": "f6556a1e"
      },
      "source": [
        "### Download helper_function.py\n",
        "* pls set Secrets Variable for Gemini in Collab\n",
        "* `GEMINI_API_KEY`\n",
        "\n",
        "[Get API KEY From Google AI Studio](https://aistudio.google.com/app/apikey)"
      ]
    },
    {
      "cell_type": "code",
      "execution_count": 1,
      "id": "2435d49a",
      "metadata": {
        "id": "2435d49a",
        "outputId": "c7a90f84-9afd-40d8-bed3-620a680730f3",
        "colab": {
          "base_uri": "https://localhost:8080/"
        }
      },
      "outputs": [
        {
          "output_type": "stream",
          "name": "stdout",
          "text": [
            "  % Total    % Received % Xferd  Average Speed   Time    Time     Time  Current\n",
            "                                 Dload  Upload   Total   Spent    Left  Speed\n",
            "100  3944  100  3944    0     0  17815      0 --:--:-- --:--:-- --:--:-- 17846\n"
          ]
        }
      ],
      "source": [
        "### Download helper_function.py\n",
        "# * Set Secrets Variable for Gemini\n",
        "# * `GEMINI_API_KEY`\n",
        "\n",
        "!curl -o helper_functions.py https://raw.githubusercontent.com/panaversity/learn-cloud-native-modern-ai-python/main/04_natural_language_programming/02_ai_python_for_beginners/course1_basics/Lesson_9/helper_functions.py"
      ]
    },
    {
      "cell_type": "markdown",
      "id": "e270cc1f",
      "metadata": {
        "id": "e270cc1f"
      },
      "source": [
        "This lesson will introduce you to a very important concept in programming: the `for` loop. A `for` loop is a special code pattern found in many languages that allows you to repeatedly perform actions on all the items in a list in an automated way. Let's take a look by starting with loading some functions."
      ]
    },
    {
      "cell_type": "code",
      "execution_count": 2,
      "id": "41ef33ad-2b5c-40db-a1ab-9f3c689edd55",
      "metadata": {
        "id": "41ef33ad-2b5c-40db-a1ab-9f3c689edd55"
      },
      "outputs": [],
      "source": [
        "from helper_functions import print_llm_response, get_llm_response"
      ]
    },
    {
      "cell_type": "markdown",
      "id": "db2a457b",
      "metadata": {
        "id": "db2a457b"
      },
      "source": [
        "## From previous lesson\n",
        "\n",
        "At the end of last lesson you saw this list of tasks"
      ]
    },
    {
      "cell_type": "code",
      "execution_count": 3,
      "id": "c2f3989f",
      "metadata": {
        "id": "c2f3989f",
        "outputId": "ed5be24b-ab06-4675-cdb8-06bae1e62a19",
        "colab": {
          "base_uri": "https://localhost:8080/"
        }
      },
      "outputs": [
        {
          "output_type": "stream",
          "name": "stdout",
          "text": [
            "[\"Compose a brief email to my boss explaining that I will be late for tomorrow's meeting.\", 'Write a birthday poem for Otto, celebrating his 28th birthday.', \"Write a 300-word review of the movie 'The Arrival'.\"]\n"
          ]
        }
      ],
      "source": [
        "#from previous lesson:\n",
        "list_of_tasks = [\n",
        "    \"Compose a brief email to my boss explaining that I will be late for tomorrow's meeting.\",\n",
        "    \"Write a birthday poem for Otto, celebrating his 28th birthday.\",\n",
        "    \"Write a 300-word review of the movie 'The Arrival'.\"\n",
        "]\n",
        "print(list_of_tasks)"
      ]
    },
    {
      "cell_type": "markdown",
      "id": "e5bae794",
      "metadata": {
        "id": "e5bae794"
      },
      "source": [
        "You passed them one by one to the LLM, repeatedly updated the task variable, then re-executed the function call with this code:"
      ]
    },
    {
      "cell_type": "code",
      "execution_count": 4,
      "id": "9f426b72",
      "metadata": {
        "id": "9f426b72",
        "outputId": "a75cbf84-56f1-403d-a5fd-5745588ee7cc",
        "colab": {
          "base_uri": "https://localhost:8080/",
          "height": 218
        }
      },
      "outputs": [
        {
          "output_type": "stream",
          "name": "stdout",
          "text": [
            "Subject: Running Late for Tomorrow's Meeting\n",
            "\n",
            "Hi [Boss's name],\n",
            "\n",
            "Just wanted to let you know that I will be running a few minutes late for tomorrow's meeting at [Time]. I'll be there as soon as possible.\n",
            "\n",
            "Thanks for your understanding.\n",
            "\n",
            "Best,\n",
            "[Your name] \n",
            "\n"
          ]
        }
      ],
      "source": [
        "task = list_of_tasks[0]\n",
        "print_llm_response(task)"
      ]
    },
    {
      "cell_type": "markdown",
      "id": "c46ed944-05e1-4ae0-a238-f172413b1771",
      "metadata": {
        "id": "c46ed944-05e1-4ae0-a238-f172413b1771"
      },
      "source": [
        "If you wanted to complete all the tasks in your list, you would have to re-write the same code multiple times. Alternatively, you can use a `for` loop."
      ]
    },
    {
      "cell_type": "markdown",
      "id": "b40551bc",
      "metadata": {
        "id": "b40551bc"
      },
      "source": [
        "## Iterating through task lists with AI"
      ]
    },
    {
      "cell_type": "markdown",
      "id": "58985454-e28e-49c8-9fe9-3b9057bafd08",
      "metadata": {
        "id": "58985454-e28e-49c8-9fe9-3b9057bafd08"
      },
      "source": [
        "When you run the cell below you will see how the for loop iterates through the elements in `list_of_tasks`."
      ]
    },
    {
      "cell_type": "code",
      "source": [
        "print(list_of_tasks)"
      ],
      "metadata": {
        "id": "UJRCtH7ic4oi",
        "outputId": "b8cf1180-aa2f-4d95-dfd1-f51243d50302",
        "colab": {
          "base_uri": "https://localhost:8080/"
        }
      },
      "id": "UJRCtH7ic4oi",
      "execution_count": 5,
      "outputs": [
        {
          "output_type": "stream",
          "name": "stdout",
          "text": [
            "[\"Compose a brief email to my boss explaining that I will be late for tomorrow's meeting.\", 'Write a birthday poem for Otto, celebrating his 28th birthday.', \"Write a 300-word review of the movie 'The Arrival'.\"]\n"
          ]
        }
      ]
    },
    {
      "cell_type": "code",
      "source": [
        "print(list_of_tasks[0],\"new value\")"
      ],
      "metadata": {
        "id": "TsHxhZqTexiD",
        "outputId": "0e6703f4-1ec1-4d2f-c9cd-b39c30462734",
        "colab": {
          "base_uri": "https://localhost:8080/"
        }
      },
      "id": "TsHxhZqTexiD",
      "execution_count": 6,
      "outputs": [
        {
          "output_type": "stream",
          "name": "stdout",
          "text": [
            "Compose a brief email to my boss explaining that I will be late for tomorrow's meeting. new value\n"
          ]
        }
      ]
    },
    {
      "cell_type": "code",
      "execution_count": 11,
      "id": "0c05dc28-4833-46ae-aad1-3607fab9cd67",
      "metadata": {
        "id": "0c05dc28-4833-46ae-aad1-3607fab9cd67",
        "outputId": "0b569fe9-d999-48eb-df85-0f05254a8c3d",
        "colab": {
          "base_uri": "https://localhost:8080/"
        }
      },
      "outputs": [
        {
          "output_type": "stream",
          "name": "stdout",
          "text": [
            "Compose a brief email to my boss explaining that I will be late for tomorrow's meeting. new value\n",
            "Write a birthday poem for Otto, celebrating his 28th birthday. new value\n",
            "Write a 300-word review of the movie 'The Arrival'. new value\n"
          ]
        }
      ],
      "source": [
        "for task in list_of_tasks:\n",
        "    print(task,\"new value\")"
      ]
    },
    {
      "cell_type": "markdown",
      "id": "e7dedcb5",
      "metadata": {
        "id": "e7dedcb5"
      },
      "source": [
        "Here's the code that automatically passes all items in list to `print_llm_response`"
      ]
    },
    {
      "cell_type": "code",
      "execution_count": 7,
      "id": "721136bd",
      "metadata": {
        "id": "721136bd",
        "outputId": "1c70a7a4-7b86-4b7a-d4eb-26cdc799f8d5",
        "colab": {
          "base_uri": "https://localhost:8080/",
          "height": 822
        }
      },
      "outputs": [
        {
          "output_type": "stream",
          "name": "stdout",
          "text": [
            "Task Start\n",
            "Subject: Late Arrival to Tomorrow's Meeting\n",
            "\n",
            "Hi [Boss's Name],\n",
            "\n",
            "Please be advised that I will be running a bit late to tomorrow's meeting at [time] due to [briefly explain reason].  I apologize for any inconvenience this may cause and will be there as soon as possible.\n",
            "\n",
            "Thanks,\n",
            "\n",
            "[Your Name] \n",
            "\n",
            "Task Completed\n",
            "Task Start\n",
            "Twenty-eight years have spun their thread,\n",
            "Around a life, a heart, a head.\n",
            "Otto, dear friend, with spirit bright,\n",
            "You fill each day with warmth and light.\n",
            "\n",
            "From childhood dreams to youthful grace,\n",
            "You've carved your path, with steady pace.\n",
            "Your laughter rings, a joyful sound,\n",
            "And kindness blooms on every ground.\n",
            "\n",
            "So raise a glass, let spirits soar,\n",
            "To Otto's day, forevermore.\n",
            "May fortune smile, and dreams take flight,\n",
            "With twenty-eight candles burning bright. \n",
            "\n",
            "Task Completed\n",
            "Task Start\n",
            "## The Arrival: A Quiet, Thought-Provoking Journey Through Time\n",
            "\n",
            "Denis Villeneuve's \"The Arrival\" isn't your typical alien invasion flick. It's a slow burn, a meditative exploration of communication, grief, and the profound implications of time itself. Amy Adams delivers a captivating performance as Louise Banks, a linguist tasked with deciphering the language of extraterrestrial beings who have landed in 12 locations across the globe.\n",
            "\n",
            "The film's strength lies in its masterful world-building. The sleek, minimalist design of the alien ships and the tense atmosphere surrounding their presence create a palpable sense of wonder and unease. The intricate, circular language of the aliens, rendered with stunning visuals, is both beautiful and deeply enigmatic, mirroring the complexity of the film's themes.\n",
            "\n",
            "While the pacing may feel deliberate to some, it allows for an immersive experience, drawing the audience into Louise's internal struggles. As she grapples with the alien language, she also confronts her own personal loss, experiencing a poignant and complex relationship with time that defies linear understanding.\n",
            "\n",
            "\"The Arrival\" is not about action or spectacle, but about the profound impact of encountering something beyond human comprehension. It challenges our assumptions about time and language, suggesting that the true power of communication lies in the ability to understand and connect with the other.\n",
            "\n",
            "The film's ending, both subtle and profound, leaves a lasting impression. It lingers in the mind long after the credits roll, prompting reflection on the nature of existence and the interconnectedness of all things. \"The Arrival\" is a powerful and moving film, a testament to Villeneuve's directorial prowess and a reminder of the human capacity for both intellectual curiosity and emotional depth. \n",
            "\n",
            "Task Completed\n"
          ]
        }
      ],
      "source": [
        "for task in list_of_tasks:\n",
        "    print(\"Task Start\")\n",
        "    print_llm_response(task)\n",
        "    print(\"Task Completed\")"
      ]
    },
    {
      "cell_type": "markdown",
      "id": "f9a7a927",
      "metadata": {
        "id": "f9a7a927"
      },
      "source": [
        "Let's break this down.\n",
        "\n",
        "The `for task in list` pattern works as follows:\n",
        "\n",
        "- `task` is assigned the first item in the list. In this case, it's the string `\"Compose a brief email to my boss explaining that I will be late for tomorrow's meeting.\"`\n",
        "- The next indented line is called a block and contains an action to carry out on `task`. In this example, the string gets passed to the LLM, and the result appears on the screen.\n",
        "- Then the loop starts again. Now, `task` is assigned the string \"Write a birthday poem for Otto, celebrating his 28th birthday.\" It's the same variable, but with a different value.\n",
        "- `get_llm_response` runs again, and so on.\n",
        "\n",
        "Be sure to call out the `:` at the end of the line. Indentation is crucial; if it’s not correct, you'll get an error."
      ]
    },
    {
      "cell_type": "code",
      "execution_count": 9,
      "id": "8516a3dc",
      "metadata": {
        "id": "8516a3dc",
        "outputId": "cb17afb3-c111-47f1-8970-be5c1ca4d2d8",
        "colab": {
          "base_uri": "https://localhost:8080/",
          "height": 110
        }
      },
      "outputs": [
        {
          "output_type": "error",
          "ename": "IndentationError",
          "evalue": "expected an indented block after 'for' statement on line 1 (<ipython-input-9-7d5e77be2665>, line 2)",
          "traceback": [
            "\u001b[0;36m  File \u001b[0;32m\"<ipython-input-9-7d5e77be2665>\"\u001b[0;36m, line \u001b[0;32m2\u001b[0m\n\u001b[0;31m    print_llm_response(task)\u001b[0m\n\u001b[0m    ^\u001b[0m\n\u001b[0;31mIndentationError\u001b[0m\u001b[0;31m:\u001b[0m expected an indented block after 'for' statement on line 1\n"
          ]
        }
      ],
      "source": [
        "for task in list_of_tasks:\n",
        "print_llm_response(task)"
      ]
    },
    {
      "cell_type": "markdown",
      "id": "2d8e58be",
      "metadata": {
        "id": "2d8e58be"
      },
      "source": [
        "<p style=\"background-color:#F5C780; padding:15px\"> 🤖 <b>Use the Chatbot</b>: Explain indentation error and help me fix it in this for loop: <br>\n",
        "for task in list_of_tasks:<br>\n",
        "print_llm_response(task)\n",
        "</p>"
      ]
    },
    {
      "cell_type": "markdown",
      "id": "8fdafdba-1a33-4bbd-9061-6950bd8bc488",
      "metadata": {
        "id": "8fdafdba-1a33-4bbd-9061-6950bd8bc488"
      },
      "source": [
        "## Iteratively updating AI prompts using lists"
      ]
    },
    {
      "cell_type": "markdown",
      "id": "09cf3e07",
      "metadata": {
        "id": "09cf3e07"
      },
      "source": [
        "You can even use lists with for loops to iteratively update more complex prompts with the list items. For instance, let's say that you have a list of ice-cream flavors:"
      ]
    },
    {
      "cell_type": "code",
      "execution_count": 10,
      "id": "385f6ec5",
      "metadata": {
        "id": "385f6ec5"
      },
      "outputs": [],
      "source": [
        "#ice cream flavor example\n",
        "ice_cream_flavors = [\n",
        "    \"Vanilla\",\n",
        "    \"Chocolate\",\n",
        "    \"Strawberry\",\n",
        "    \"Mint Chocolate Chip\"\n",
        "]"
      ]
    },
    {
      "cell_type": "markdown",
      "id": "bf5219ea",
      "metadata": {
        "id": "bf5219ea"
      },
      "source": [
        "You can use a for loop to iterate through the flavors and create a captivating description for each of them."
      ]
    },
    {
      "cell_type": "code",
      "execution_count": 11,
      "id": "d732762f",
      "metadata": {
        "id": "d732762f",
        "outputId": "31c433bf-98d3-491c-80d1-f296805e2792",
        "colab": {
          "base_uri": "https://localhost:8080/",
          "height": 658
        }
      },
      "outputs": [
        {
          "output_type": "stream",
          "name": "stdout",
          "text": [
            "start...\n",
            "## Vanilla: The Classic, Reimagined.\n",
            "\n",
            "Forget bland and boring. This isn't your grandma's vanilla.  **Our Vanilla** is a symphony of pure, rich flavor, crafted with the finest Madagascar beans.  Every scoop is a smooth, creamy journey that's as familiar as a warm hug, yet sophisticated enough to satisfy the most discerning palate.  \n",
            "\n",
            "**It's the perfect canvas for any topping, or simply a timeless treat to savor on its own.** \n",
            "\n",
            "end...\n",
            "start...\n",
            "##  Indulge in the Dark Side: Our Decadent Chocolate Ice Cream\n",
            "\n",
            "**Imagine this:**  A velvety smooth, rich chocolate base, crafted from the finest cocoa beans, swirled with swirls of pure chocolate bliss. Each spoonful is an explosion of pure chocolate decadence, leaving you wanting more. \n",
            "\n",
            "Our Chocolate ice cream isn't just a flavor, it's an experience.  A journey to the heart of chocolate heaven.  So ditch the boring vanilla and embrace the dark side -  you won't regret it. \n",
            "\n",
            "end...\n",
            "start...\n",
            "## Dive into a summer dream with our Strawberry ice cream! \n",
            "\n",
            "This isn't your average strawberry. We're talking **bursting, sun-kissed berries** blended into a creamy, dreamy base, leaving you with a flavor that's **bright, juicy, and oh-so-refreshing**.  \n",
            "\n",
            "Each spoonful is a **delicious journey to the strawberry patch**, perfect for a **sweet escape** on a hot day or a **nostalgic treat** anytime.  \n",
            "\n",
            "**Don't just taste it, experience it!** Our Strawberry ice cream is more than just a flavor, it's a **summer in a bowl**. \n",
            "\n",
            "end...\n",
            "start...\n",
            "##  Escape the ordinary. Dive into the cool, refreshing bliss of **Mint Chocolate Chip**.\n",
            "\n",
            "**Imagine this:**  A velvety smooth mint ice cream, bursting with the invigorating flavor of fresh mint, dances on your tongue. Then, the sweet surprise!  Rich, decadent chocolate chips, like tiny treasures, melt and mingle with the minty coolness, creating an irresistible harmony. It's the perfect balance of refreshing and indulgent, a taste sensation that will leave you craving for more. \n",
            "\n",
            "**Mint Chocolate Chip:**  It's not just ice cream, it's an experience. \n",
            "\n",
            "end...\n"
          ]
        }
      ],
      "source": [
        "for flavor in ice_cream_flavors:\n",
        "    prompt = f\"\"\"For the ice cream flavor listed below,\n",
        "    provide a captivating description that could be used for promotional purposes.\n",
        "\n",
        "    Flavor: {flavor}\n",
        "\n",
        "    \"\"\"\n",
        "    print(\"start...\")\n",
        "    print_llm_response(prompt)\n",
        "    print(\"end...\")"
      ]
    },
    {
      "cell_type": "markdown",
      "id": "d3f3ead6",
      "metadata": {
        "id": "d3f3ead6"
      },
      "source": [
        "Now that you know how to use lists, you can even save the promortional descriptions to another list using `.append()`:"
      ]
    },
    {
      "cell_type": "code",
      "execution_count": 14,
      "id": "db66a442",
      "metadata": {
        "id": "db66a442"
      },
      "outputs": [],
      "source": [
        "#saving results to a list\n",
        "promotional_descriptions = []\n",
        "for flavor in ice_cream_flavors:\n",
        "    prompt = f\"\"\"For the ice cream flavor listed below,\n",
        "    provide a captivating description that could be used for promotional purposes.\n",
        "\n",
        "    Flavor: {flavor}\n",
        "\n",
        "    \"\"\"\n",
        "    description = get_llm_response(prompt)\n",
        "    promotional_descriptions.append(description)"
      ]
    },
    {
      "cell_type": "code",
      "source": [
        "for dec in promotional_descriptions:\n",
        "  print(\"start..\")\n",
        "  print(dec)\n",
        "  print(\"end\")"
      ],
      "metadata": {
        "id": "9FQBEKHJZ4sk",
        "outputId": "251ca820-ac9a-4422-ebe8-e3304c00ebd2",
        "colab": {
          "base_uri": "https://localhost:8080/"
        }
      },
      "id": "9FQBEKHJZ4sk",
      "execution_count": 17,
      "outputs": [
        {
          "output_type": "stream",
          "name": "stdout",
          "text": [
            "start..\n",
            "## Vanilla: The Classic Reinvented\n",
            "\n",
            "**Forget the boring vanilla of your childhood.** This isn't your grandma's ice cream. \n",
            "\n",
            "**Our Vanilla is a symphony of pure, creamy perfection.**  Made with the finest Madagascar vanilla beans, each scoop explodes with a rich, warm aroma and a subtly sweet flavor that lingers on your tongue.  \n",
            "\n",
            "**This is vanilla redefined.**  It's the perfect canvas for any topping, or simply enjoy it on its own for a taste of pure, unadulterated happiness. \n",
            "\n",
            "end\n",
            "start..\n",
            "## Indulge in the Darkest Desire: Our Decadent Chocolate Ice Cream\n",
            "\n",
            "**Prepare to be whisked away to a world of pure chocolate bliss.**  Our rich, velvety chocolate ice cream is crafted with the finest cocoa beans, expertly blended to deliver an intense, deeply satisfying flavor. Each spoonful is a symphony of dark chocolate notes, culminating in a smooth, creamy finish that will leave you craving for more. \n",
            "\n",
            "**This is not just any chocolate ice cream; it's an experience.**  Whether you savor it on its own, top it with your favorite toppings, or layer it in a decadent dessert, our chocolate ice cream is sure to please the most discerning palate.  \n",
            "\n",
            "**Don't settle for ordinary, embrace the extraordinary.**  Indulge in the dark side, and discover the magic of our decadent chocolate ice cream. \n",
            "\n",
            "end\n",
            "start..\n",
            "##  Strawberry: A Taste of Summer Sunshine\n",
            "\n",
            "**Imagine sinking your spoon into a bowl of sunshine.** That's the feeling you'll get with our Strawberry ice cream.  This creamy, dreamy treat captures the essence of sun-ripened strawberries, bursting with juicy sweetness and a hint of tartness.  Each spoonful is like a summer picnic on your tongue, reminding you of warm days and sweet memories. \n",
            "\n",
            "**More than just a flavor, it's an experience.** So ditch the boring vanilla and embrace the irresistible charm of our Strawberry ice cream. It's the perfect way to brighten your day and satisfy your sweet tooth. \n",
            "\n",
            "end\n",
            "start..\n",
            "##  Escape to a Mint Chocolate Chip Wonderland \n",
            "\n",
            "**Indulge in the cool, refreshing bliss of our Mint Chocolate Chip ice cream.** Every spoonful is a symphony of flavors: **crisp, invigorating mint** awakens your senses, while **rich, decadent chocolate chips** provide a delightful counterpoint.  The **creamy texture** melts in your mouth, leaving you feeling refreshed and utterly satisfied. \n",
            "\n",
            "This isn't just ice cream, it's an experience. **A taste of pure indulgence, a moment of pure bliss.**\n",
            "\n",
            "**Perfect for any occasion,** this classic flavor is sure to please everyone. \n",
            "\n",
            "end\n"
          ]
        }
      ]
    },
    {
      "cell_type": "markdown",
      "id": "ebdbcfa5",
      "metadata": {
        "id": "ebdbcfa5"
      },
      "source": [
        "After you run that code, you should be able to access the promotional descriptions for each of your ice-cream flavors."
      ]
    },
    {
      "cell_type": "code",
      "execution_count": 16,
      "id": "cad94172",
      "metadata": {
        "id": "cad94172",
        "outputId": "9e2554d9-a8bb-4668-be12-b2bf197313f8",
        "colab": {
          "base_uri": "https://localhost:8080/"
        }
      },
      "outputs": [
        {
          "output_type": "stream",
          "name": "stdout",
          "text": [
            "[\"## Vanilla: The Classic Reinvented\\n\\n**Forget the boring vanilla of your childhood.** This isn't your grandma's ice cream. \\n\\n**Our Vanilla is a symphony of pure, creamy perfection.**  Made with the finest Madagascar vanilla beans, each scoop explodes with a rich, warm aroma and a subtly sweet flavor that lingers on your tongue.  \\n\\n**This is vanilla redefined.**  It's the perfect canvas for any topping, or simply enjoy it on its own for a taste of pure, unadulterated happiness. \\n\", \"## Indulge in the Darkest Desire: Our Decadent Chocolate Ice Cream\\n\\n**Prepare to be whisked away to a world of pure chocolate bliss.**  Our rich, velvety chocolate ice cream is crafted with the finest cocoa beans, expertly blended to deliver an intense, deeply satisfying flavor. Each spoonful is a symphony of dark chocolate notes, culminating in a smooth, creamy finish that will leave you craving for more. \\n\\n**This is not just any chocolate ice cream; it's an experience.**  Whether you savor it on its own, top it with your favorite toppings, or layer it in a decadent dessert, our chocolate ice cream is sure to please the most discerning palate.  \\n\\n**Don't settle for ordinary, embrace the extraordinary.**  Indulge in the dark side, and discover the magic of our decadent chocolate ice cream. \\n\", \"##  Strawberry: A Taste of Summer Sunshine\\n\\n**Imagine sinking your spoon into a bowl of sunshine.** That's the feeling you'll get with our Strawberry ice cream.  This creamy, dreamy treat captures the essence of sun-ripened strawberries, bursting with juicy sweetness and a hint of tartness.  Each spoonful is like a summer picnic on your tongue, reminding you of warm days and sweet memories. \\n\\n**More than just a flavor, it's an experience.** So ditch the boring vanilla and embrace the irresistible charm of our Strawberry ice cream. It's the perfect way to brighten your day and satisfy your sweet tooth. \\n\", \"##  Escape to a Mint Chocolate Chip Wonderland \\n\\n**Indulge in the cool, refreshing bliss of our Mint Chocolate Chip ice cream.** Every spoonful is a symphony of flavors: **crisp, invigorating mint** awakens your senses, while **rich, decadent chocolate chips** provide a delightful counterpoint.  The **creamy texture** melts in your mouth, leaving you feeling refreshed and utterly satisfied. \\n\\nThis isn't just ice cream, it's an experience. **A taste of pure indulgence, a moment of pure bliss.**\\n\\n**Perfect for any occasion,** this classic flavor is sure to please everyone. \\n\"]\n"
          ]
        }
      ],
      "source": [
        "print(promotional_descriptions)"
      ]
    },
    {
      "cell_type": "markdown",
      "id": "7135f13d-0f36-4de4-9365-bdadb8e6d611",
      "metadata": {
        "id": "7135f13d-0f36-4de4-9365-bdadb8e6d611"
      },
      "source": [
        "## Extra practice"
      ]
    },
    {
      "cell_type": "markdown",
      "id": "c01cc56d-92c7-4632-8cf9-aef3f9f9e3c7",
      "metadata": {
        "id": "c01cc56d-92c7-4632-8cf9-aef3f9f9e3c7"
      },
      "source": [
        "Please go through the exercises in the cells below if you want some extra practice for the topics you covered in this lesson."
      ]
    },
    {
      "cell_type": "code",
      "execution_count": 18,
      "id": "f5a19e85-cd80-4e02-a5e1-762284bd27b6",
      "metadata": {
        "id": "f5a19e85-cd80-4e02-a5e1-762284bd27b6",
        "outputId": "f4b67455-b05d-430d-bbc9-c43d2b2b2ec1",
        "colab": {
          "base_uri": "https://localhost:8080/"
        }
      },
      "outputs": [
        {
          "output_type": "stream",
          "name": "stdout",
          "text": [
            "Chocolate\n",
            "Mint Chocolate Chip\n"
          ]
        }
      ],
      "source": [
        "# Fix the following code.\n",
        "# It should print the flavors in\n",
        "# ice_cream_flavors one by one.\n",
        "\n",
        "ice_cream_flavors = [\"Chocolate\", \"Mint Chocolate Chip\"]\n",
        "\n",
        "### EDIT THE FOLLOWING CODE ###\n",
        "# for flavor in ice_cream_flavors;\n",
        "#     print(ice_cream_flavors)\n",
        "for flavor in ice_cream_flavors:\n",
        "  print(flavor)\n",
        "### --------------- ###"
      ]
    },
    {
      "cell_type": "code",
      "execution_count": 20,
      "id": "7b7480c4-ae67-42bd-8cac-189f1f087053",
      "metadata": {
        "id": "7b7480c4-ae67-42bd-8cac-189f1f087053",
        "outputId": "6f130034-907a-4d39-c49c-5d2d89f4f30a",
        "colab": {
          "base_uri": "https://localhost:8080/",
          "height": 90
        }
      },
      "outputs": [
        {
          "output_type": "stream",
          "name": "stdout",
          "text": [
            "Vanilla in Spanish is **Vainilla**. \n",
            "\n",
            "The Spanish translation for \"Strawberry\" is **\"Fresa\"**. \n",
            "\n"
          ]
        }
      ],
      "source": [
        "# Translate the flavors in ice_cream_flavors to Spanish\n",
        "ice_cream_flavors = [\"Vanilla\", \"Strawberry\"]\n",
        "\n",
        "for flavor in ice_cream_flavors:\n",
        "    ### EDIT THE FOLLOWING CODE ###\n",
        "    #Hint: you only need to add one or two sentences to the prompt\n",
        "    prompt = f\"\"\"For the ice cream flavor listed below,\n",
        "    translate them into spanish\n",
        "    flavors: {flavor}\n",
        "\n",
        "    \"\"\"\n",
        "    ### --------------- ###\n",
        "\n",
        "    print_llm_response(prompt)"
      ]
    },
    {
      "cell_type": "code",
      "execution_count": 31,
      "id": "6394bb74-a839-4732-8dbf-1b96bd8e97f9",
      "metadata": {
        "id": "6394bb74-a839-4732-8dbf-1b96bd8e97f9"
      },
      "outputs": [],
      "source": [
        "# Write code to get a list with\n",
        "# words without typos\n",
        "\n",
        "words_with_typos = [\"Aple\", \"Wether\", \"Newpaper\"]\n",
        "words_without_typos = []\n",
        "\n",
        "for word in words_with_typos:\n",
        "    prompt = f\"\"\"Fix the spelling mistake in the following word: {word}\n",
        "    Provide only the word.\n",
        "    \"\"\"\n",
        "    correct_word = get_llm_response(prompt)\n",
        "    ### WRITE CODE HERE  ###\n",
        "    #Hint: Append the correct_word to the words_without_typos list\n",
        "    ### --------------- ###\n",
        "words_without_typos.append(correct_word)\n",
        "#print(words_without_typos)"
      ]
    },
    {
      "cell_type": "code",
      "source": [
        "print(words_without_typos)"
      ],
      "metadata": {
        "id": "WtN_-JWwgYZn"
      },
      "id": "WtN_-JWwgYZn",
      "execution_count": null,
      "outputs": []
    }
  ],
  "metadata": {
    "kernelspec": {
      "display_name": "Python 3 (ipykernel)",
      "language": "python",
      "name": "python3"
    },
    "language_info": {
      "codemirror_mode": {
        "name": "ipython",
        "version": 3
      },
      "file_extension": ".py",
      "mimetype": "text/x-python",
      "name": "python",
      "nbconvert_exporter": "python",
      "pygments_lexer": "ipython3",
      "version": "3.9.19"
    },
    "colab": {
      "provenance": []
    }
  },
  "nbformat": 4,
  "nbformat_minor": 5
}