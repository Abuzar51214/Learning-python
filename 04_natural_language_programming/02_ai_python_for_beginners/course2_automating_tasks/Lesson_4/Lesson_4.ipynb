{
  "cells": [
    {
      "cell_type": "markdown",
      "metadata": {
        "id": "view-in-github",
        "colab_type": "text"
      },
      "source": [
        "<a href=\"https://colab.research.google.com/github/Abuzar51214/Learning-python/blob/main/04_natural_language_programming/02_ai_python_for_beginners/course2_automating_tasks/Lesson_4/Lesson_4.ipynb\" target=\"_parent\"><img src=\"https://colab.research.google.com/assets/colab-badge.svg\" alt=\"Open In Colab\"/></a>"
      ]
    },
    {
      "cell_type": "markdown",
      "id": "f6bf49f7-21f0-47bc-9a3e-7fd325a0b9bf",
      "metadata": {
        "id": "f6bf49f7-21f0-47bc-9a3e-7fd325a0b9bf"
      },
      "source": [
        "# Lesson 4 - Customizing recipes with lists, dictionaries and AI"
      ]
    },
    {
      "cell_type": "markdown",
      "id": "3afb15ea",
      "metadata": {
        "id": "3afb15ea"
      },
      "source": [
        "### Download helper_function.py\n",
        "* pls set Secrets Variable for Gemini in Collab\n",
        "* `GEMINI_API_KEY`\n",
        "\n",
        "[Get API KEY From Google AI Studio](https://aistudio.google.com/app/apikey)"
      ]
    },
    {
      "cell_type": "code",
      "execution_count": 1,
      "id": "38277dd1",
      "metadata": {
        "id": "38277dd1",
        "outputId": "9191cf13-f9bc-4db0-d803-99d7f59c017c",
        "colab": {
          "base_uri": "https://localhost:8080/"
        }
      },
      "outputs": [
        {
          "output_type": "stream",
          "name": "stdout",
          "text": [
            "  % Total    % Received % Xferd  Average Speed   Time    Time     Time  Current\n",
            "                                 Dload  Upload   Total   Spent    Left  Speed\n",
            "\r  0     0    0     0    0     0      0      0 --:--:-- --:--:-- --:--:--     0\r100  3944  100  3944    0     0  16552      0 --:--:-- --:--:-- --:--:-- 16571\n"
          ]
        }
      ],
      "source": [
        "### Download helper_function.py\n",
        "# * Set Secrets Variable for Gemini\n",
        "# * `GEMINI_API_KEY`\n",
        "\n",
        "!curl -o helper_functions.py https://raw.githubusercontent.com/panaversity/learn-cloud-native-modern-ai-python/main/04_natural_language_programming/02_ai_python_for_beginners/course1_basics/Lesson_9/helper_functions.py"
      ]
    },
    {
      "cell_type": "markdown",
      "id": "a9f73957",
      "metadata": {
        "id": "a9f73957"
      },
      "source": [
        "In the previous lesson, you went through how to use dictionaries to complete tasks by priority. In this lesson, you will see how you can use dictionaries to update LLM prompts and create food recipies that match your friends preferences, restrictions and cooking experience."
      ]
    },
    {
      "cell_type": "code",
      "execution_count": 2,
      "id": "0669df5d-5013-466b-90c8-679364ff80a1",
      "metadata": {
        "id": "0669df5d-5013-466b-90c8-679364ff80a1"
      },
      "outputs": [],
      "source": [
        "from helper_functions import print_llm_response, get_llm_response"
      ]
    },
    {
      "cell_type": "markdown",
      "id": "f2ddd461",
      "metadata": {
        "id": "f2ddd461"
      },
      "source": [
        "## Food preference dictionaries\n",
        "\n",
        "Dictionaries are a useful way to organize multiple variables associated with a single entity, like one of your friends. In the next dictionary, you store the food preferences and cooking experience for Tommy."
      ]
    },
    {
      "cell_type": "code",
      "execution_count": 3,
      "id": "5ccb6d62",
      "metadata": {
        "id": "5ccb6d62"
      },
      "outputs": [],
      "source": [
        "food_preferences_tommy = {\n",
        "        \"dietary_restrictions\": \"vegetarian\",\n",
        "        \"favorite_ingredients\": [\"tofu\", \"olives\"],\n",
        "        \"experience_level\": \"intermediate\",\n",
        "        \"maximum_spice_level\": 6\n",
        "}"
      ]
    },
    {
      "cell_type": "markdown",
      "id": "b27a261d",
      "metadata": {
        "id": "b27a261d"
      },
      "source": [
        "As you can see there, that dictionary has four keys, wich you can access using `\".keys()\"`:"
      ]
    },
    {
      "cell_type": "code",
      "execution_count": 4,
      "id": "8849cd3c",
      "metadata": {
        "id": "8849cd3c",
        "outputId": "4c304597-1a55-421f-a658-3cd3a84272d9",
        "colab": {
          "base_uri": "https://localhost:8080/"
        }
      },
      "outputs": [
        {
          "output_type": "stream",
          "name": "stdout",
          "text": [
            "dict_keys(['dietary_restrictions', 'favorite_ingredients', 'experience_level', 'maximum_spice_level'])\n"
          ]
        }
      ],
      "source": [
        "print(food_preferences_tommy.keys())"
      ]
    },
    {
      "cell_type": "markdown",
      "id": "d73a2a44",
      "metadata": {
        "id": "d73a2a44"
      },
      "source": [
        "And it has values with different data types: lists, strings and integers."
      ]
    },
    {
      "cell_type": "code",
      "execution_count": 5,
      "id": "31f98465",
      "metadata": {
        "id": "31f98465",
        "outputId": "3585cde0-0622-4ed3-d12a-a14b73f0a08d",
        "colab": {
          "base_uri": "https://localhost:8080/"
        }
      },
      "outputs": [
        {
          "output_type": "stream",
          "name": "stdout",
          "text": [
            "dict_values(['vegetarian', ['tofu', 'olives'], 'intermediate', 6])\n"
          ]
        }
      ],
      "source": [
        "print(food_preferences_tommy.values())"
      ]
    },
    {
      "cell_type": "markdown",
      "id": "4d786ed3",
      "metadata": {
        "id": "4d786ed3"
      },
      "source": [
        "Let's see how you can use these in a prompt to create recipes that take into account your friends dietary preferences."
      ]
    },
    {
      "cell_type": "markdown",
      "id": "5241f8b9",
      "metadata": {
        "id": "5241f8b9"
      },
      "source": [
        "## Using keys and values within AI prompt"
      ]
    },
    {
      "cell_type": "markdown",
      "id": "6a8f30dc",
      "metadata": {
        "id": "6a8f30dc"
      },
      "source": [
        "So here's a prompt that uses all the information in the dictionary to create a customized recipe"
      ]
    },
    {
      "cell_type": "code",
      "execution_count": 10,
      "id": "463a6d2a",
      "metadata": {
        "id": "463a6d2a"
      },
      "outputs": [],
      "source": [
        "prompt = f\"\"\"Please suggest a recipe that tries to include\n",
        "the following ingredients:\n",
        "{food_preferences_tommy[\"favorite_ingredients\"]}.\n",
        "The recipe should adhere to the following dietary restrictions:\n",
        "{food_preferences_tommy[\"dietary_restrictions\"]}.\n",
        "The difficulty of the recipe should be:\n",
        "{food_preferences_tommy[\"experience_level\"]}\n",
        "The maximum spice level on a scale of 10 should be:\n",
        "{food_preferences_tommy[\"maximum_spice_level\"]}\n",
        "Provide a two sentence description.\n",
        "\"\"\""
      ]
    },
    {
      "cell_type": "markdown",
      "id": "b24af997",
      "metadata": {
        "id": "b24af997"
      },
      "source": [
        "Run the cell below to print the prompt."
      ]
    },
    {
      "cell_type": "code",
      "execution_count": 11,
      "id": "6cceec03-639e-460c-a0d6-b34adb2cd28d",
      "metadata": {
        "id": "6cceec03-639e-460c-a0d6-b34adb2cd28d",
        "outputId": "810c8822-738d-48df-d165-d2b3fbd8fdba",
        "colab": {
          "base_uri": "https://localhost:8080/"
        }
      },
      "outputs": [
        {
          "output_type": "stream",
          "name": "stdout",
          "text": [
            "Please suggest a recipe that tries to include \n",
            "the following ingredients: \n",
            "['tofu', 'olives'].\n",
            "The recipe should adhere to the following dietary restrictions:\n",
            "vegetarian.\n",
            "The difficulty of the recipe should be: \n",
            "intermediate\n",
            "The maximum spice level on a scale of 10 should be: \n",
            "6 \n",
            "Provide a two sentence description.\n",
            "\n"
          ]
        }
      ],
      "source": [
        "print(prompt)"
      ]
    },
    {
      "cell_type": "markdown",
      "id": "10b37203",
      "metadata": {
        "id": "10b37203"
      },
      "source": [
        "Now, you can use that prompt with an LLM to suggest a recipe to fit Tommy's preferences:"
      ]
    },
    {
      "cell_type": "code",
      "execution_count": 12,
      "id": "14850b74",
      "metadata": {
        "id": "14850b74",
        "outputId": "deb8a597-6531-4af4-d682-ec2dd841ce11",
        "colab": {
          "base_uri": "https://localhost:8080/",
          "height": 622
        }
      },
      "outputs": [
        {
          "output_type": "stream",
          "name": "stdout",
          "text": [
            "## Mediterranean Tofu and Olive Skewers\n",
            "\n",
            "This recipe features juicy, flavorful tofu cubes marinated in Mediterranean spices and grilled alongside briny olives for a delicious and satisfying vegetarian meal.  The combination of sweet and savory flavors makes for a satisfying and easy-to-prepare dish that's perfect for a weeknight dinner or a casual gathering. \n",
            "\n",
            "**Ingredients:**\n",
            "\n",
            "* 1 block extra-firm tofu, pressed and cubed\n",
            "* 1/4 cup olive oil\n",
            "* 2 tablespoons lemon juice\n",
            "* 1 tablespoon dried oregano\n",
            "* 1 tablespoon dried thyme\n",
            "* 1 teaspoon garlic powder\n",
            "* 1/2 teaspoon salt\n",
            "* 1/4 teaspoon black pepper\n",
            "* 1/2 cup pitted Kalamata olives\n",
            "* 1/4 cup chopped red onion\n",
            "* 1/4 cup chopped fresh parsley\n",
            "* Optional: red pepper flakes for extra heat\n",
            "\n",
            "**Instructions:**\n",
            "\n",
            "1. In a bowl, whisk together olive oil, lemon juice, oregano, thyme, garlic powder, salt, and pepper. \n",
            "2. Add tofu cubes to the marinade and stir to coat. Marinate for at least 30 minutes, or up to 2 hours.\n",
            "3. Thread marinated tofu and olives onto skewers, alternating between the two.\n",
            "4. Preheat grill to medium-high heat.\n",
            "5. Grill skewers for 5-7 minutes per side, or until tofu is golden brown and cooked through.\n",
            "6. Remove skewers from grill and garnish with chopped red onion, parsley, and optional red pepper flakes.\n",
            "7. Serve immediately.\n",
            "\n",
            "**Spice Level:** 4/10 (can be adjusted with red pepper flakes)\n",
            "**Difficulty:** Intermediate \n",
            "\n"
          ]
        }
      ],
      "source": [
        "print_llm_response(prompt)"
      ]
    },
    {
      "cell_type": "markdown",
      "id": "e00bb0c1",
      "metadata": {
        "id": "e00bb0c1"
      },
      "source": [
        "The model followed the instructions. Tommy will be delighted!"
      ]
    },
    {
      "cell_type": "markdown",
      "id": "86e7ba47",
      "metadata": {
        "id": "86e7ba47"
      },
      "source": [
        "## Refining the prompt with available ingredients"
      ]
    },
    {
      "cell_type": "markdown",
      "id": "e813a9b6",
      "metadata": {
        "id": "e813a9b6"
      },
      "source": [
        "You can go a step further and consider the available ingredients at your house. To do so, let's use the following lists:"
      ]
    },
    {
      "cell_type": "code",
      "execution_count": 17,
      "id": "72256217-4474-4c48-a87d-36b444c25ea6",
      "metadata": {
        "id": "72256217-4474-4c48-a87d-36b444c25ea6"
      },
      "outputs": [],
      "source": [
        "available_spices = [\"cumin\", \"turmeric\", \"oregano\", \"paprika\"]"
      ]
    },
    {
      "cell_type": "markdown",
      "id": "b2f46ab1",
      "metadata": {
        "id": "b2f46ab1"
      },
      "source": [
        "You can add these directly to the prompt so that the LLM take those into consideration"
      ]
    },
    {
      "cell_type": "code",
      "execution_count": 18,
      "id": "3b73cd00-bf5e-4865-9a05-07e7f68b1296",
      "metadata": {
        "id": "3b73cd00-bf5e-4865-9a05-07e7f68b1296",
        "outputId": "8236f41c-1b20-45eb-f595-9501808c68b6",
        "colab": {
          "base_uri": "https://localhost:8080/"
        }
      },
      "outputs": [
        {
          "output_type": "stream",
          "name": "stdout",
          "text": [
            "Please suggest a recipe that tries to include \n",
            "the following ingredients: \n",
            "['tofu', 'olives'].\n",
            "The recipe should adhere to the following dietary restrictions:\n",
            "vegetarian.\n",
            "The difficulty of the recipe should be: \n",
            "intermediate\n",
            "The maximum spice level on a scale of 10 should be: \n",
            "6 \n",
            "Provide a two sentence description.\n",
            "\n",
            "The recipe should not include spices outside of this list:\n",
            "Spices: ['cumin', 'turmeric', 'oregano', 'paprika']\n",
            "\n",
            "\n"
          ]
        }
      ],
      "source": [
        "prompt = f\"\"\"Please suggest a recipe that tries to include\n",
        "the following ingredients:\n",
        "{food_preferences_tommy[\"favorite_ingredients\"]}.\n",
        "The recipe should adhere to the following dietary restrictions:\n",
        "{food_preferences_tommy[\"dietary_restrictions\"]}.\n",
        "The difficulty of the recipe should be:\n",
        "{food_preferences_tommy[\"experience_level\"]}\n",
        "The maximum spice level on a scale of 10 should be:\n",
        "{food_preferences_tommy[\"maximum_spice_level\"]}\n",
        "Provide a two sentence description.\n",
        "\n",
        "The recipe should not include spices outside of this list:\n",
        "Spices: {available_spices}\n",
        "\n",
        "\"\"\"\n",
        "print(prompt)"
      ]
    },
    {
      "cell_type": "markdown",
      "id": "4a78b961",
      "metadata": {
        "id": "4a78b961"
      },
      "source": [
        "Now, get the LLM response to that prompt and assign it to a variable:"
      ]
    },
    {
      "cell_type": "code",
      "execution_count": 19,
      "id": "bc9f9acf",
      "metadata": {
        "id": "bc9f9acf"
      },
      "outputs": [],
      "source": [
        "recipe = get_llm_response(prompt)"
      ]
    },
    {
      "cell_type": "markdown",
      "id": "c87c1079",
      "metadata": {
        "id": "c87c1079"
      },
      "source": [
        "And print the recipe that considers Tommy's restrictions as well as the available ingredients at your house."
      ]
    },
    {
      "cell_type": "code",
      "execution_count": 20,
      "id": "d211dac7",
      "metadata": {
        "id": "d211dac7",
        "outputId": "73411afb-bc04-4cdd-c404-b86affe317f7",
        "colab": {
          "base_uri": "https://localhost:8080/"
        }
      },
      "outputs": [
        {
          "output_type": "stream",
          "name": "stdout",
          "text": [
            "## Mediterranean Tofu and Olive Skewers\n",
            "\n",
            "This recipe features tofu marinated in a vibrant Mediterranean spice blend, then grilled alongside juicy olives and served with a refreshing lemon-herb sauce. The combination of savory flavors and smoky grill marks creates a delicious and satisfying vegetarian meal. \n",
            "\n",
            "**Ingredients:**\n",
            "\n",
            "* 1 block extra-firm tofu, pressed and cubed\n",
            "* 1/2 cup Kalamata olives, pitted and halved\n",
            "* 1/4 cup olive oil\n",
            "* 1 tablespoon lemon juice\n",
            "* 1 teaspoon dried oregano\n",
            "* 1 teaspoon paprika\n",
            "* 1/2 teaspoon cumin\n",
            "* 1/4 teaspoon turmeric\n",
            "* Salt and pepper to taste\n",
            "* 1/4 cup chopped fresh parsley\n",
            "* 1/4 cup chopped fresh mint\n",
            "\n",
            "**Instructions:**\n",
            "\n",
            "1. In a bowl, combine olive oil, lemon juice, oregano, paprika, cumin, turmeric, salt, and pepper.\n",
            "2. Add tofu cubes and olives to the marinade and stir to coat. \n",
            "3. Thread tofu and olives onto skewers, alternating between the two.\n",
            "4. Grill skewers over medium heat for 5-7 minutes per side, or until tofu is golden brown and cooked through. \n",
            "5. While skewers are grilling, combine parsley and mint in a small bowl. Add a drizzle of olive oil and lemon juice, and season with salt and pepper. \n",
            "6. Serve grilled skewers with the herb sauce.\n",
            "\n",
            "**Spice Level:** 6 \n",
            "\n"
          ]
        }
      ],
      "source": [
        "print(recipe)"
      ]
    },
    {
      "cell_type": "markdown",
      "id": "8dd1eebb",
      "metadata": {
        "id": "8dd1eebb"
      },
      "source": [
        "Try changing the prompt to give you step-by-step instructions and try adding a key-value pair to the dictionary that indicates favorite cuisine."
      ]
    },
    {
      "cell_type": "markdown",
      "id": "d21d016e-e278-47f9-a3da-b031eb6905e9",
      "metadata": {
        "id": "d21d016e-e278-47f9-a3da-b031eb6905e9"
      },
      "source": [
        "## Looking ahead"
      ]
    },
    {
      "cell_type": "markdown",
      "id": "71e7f4a4-efbe-4bbb-a6b4-60305a2e5427",
      "metadata": {
        "id": "71e7f4a4-efbe-4bbb-a6b4-60305a2e5427"
      },
      "source": [
        "Let's take another look at`food_preferences_tommy[\"dietary_restrictions\"]`"
      ]
    },
    {
      "cell_type": "code",
      "execution_count": 21,
      "id": "91bb95c7-1940-452d-a120-149bf8db61c7",
      "metadata": {
        "id": "91bb95c7-1940-452d-a120-149bf8db61c7",
        "outputId": "019b8549-2034-4215-f607-b69afebe6260",
        "colab": {
          "base_uri": "https://localhost:8080/"
        }
      },
      "outputs": [
        {
          "output_type": "stream",
          "name": "stdout",
          "text": [
            "vegetarian\n"
          ]
        }
      ],
      "source": [
        "print(food_preferences_tommy[\"dietary_restrictions\"])"
      ]
    },
    {
      "cell_type": "markdown",
      "id": "b5f5fe5e-feae-4a8a-9e11-9cfb99958df2",
      "metadata": {
        "id": "b5f5fe5e-feae-4a8a-9e11-9cfb99958df2"
      },
      "source": [
        "Here is a different way you could tell Python that Tommy is vegetarian:"
      ]
    },
    {
      "cell_type": "code",
      "source": [
        "food_preferences_tommy[\"is_vegetarian\"] = True"
      ],
      "metadata": {
        "id": "xJK11kV6HC3j"
      },
      "id": "xJK11kV6HC3j",
      "execution_count": 26,
      "outputs": []
    },
    {
      "cell_type": "code",
      "source": [
        "print(food_preferences_tommy)"
      ],
      "metadata": {
        "id": "L6NE3tegG4LJ",
        "outputId": "24512e4b-9abe-41e0-8ff4-9fb6adb23c9e",
        "colab": {
          "base_uri": "https://localhost:8080/"
        }
      },
      "id": "L6NE3tegG4LJ",
      "execution_count": 27,
      "outputs": [
        {
          "output_type": "stream",
          "name": "stdout",
          "text": [
            "{'dietary_restrictions': 'vegetarian', 'favorite_ingredients': ['tofu', 'olives'], 'experience_level': 'intermediate', 'maximum_spice_level': 6, 'is_vegetarian': True}\n"
          ]
        }
      ]
    },
    {
      "cell_type": "markdown",
      "id": "3e43d1db-4ce2-4444-9c47-d0ae02370976",
      "metadata": {
        "id": "3e43d1db-4ce2-4444-9c47-d0ae02370976"
      },
      "source": [
        "Go to next video to see what `True` and `False` are and how they work in Python"
      ]
    },
    {
      "cell_type": "markdown",
      "id": "cc7e65ef-1983-43d0-93b5-ce29a2c9f387",
      "metadata": {
        "id": "cc7e65ef-1983-43d0-93b5-ce29a2c9f387"
      },
      "source": [
        "## Extra practice"
      ]
    },
    {
      "cell_type": "markdown",
      "id": "7389bce5-8c0d-41cf-b347-01c741078ef0",
      "metadata": {
        "id": "7389bce5-8c0d-41cf-b347-01c741078ef0"
      },
      "source": [
        "Please go through the exercises in the cells below if you want some extra practice for the topics you covered in this lesson."
      ]
    },
    {
      "cell_type": "code",
      "execution_count": 28,
      "id": "83969e6c-e89b-4061-8a9b-69764225dccd",
      "metadata": {
        "id": "83969e6c-e89b-4061-8a9b-69764225dccd",
        "outputId": "2344e1e5-3d73-45c5-b405-e523ed8b1ce8",
        "colab": {
          "base_uri": "https://localhost:8080/"
        }
      },
      "outputs": [
        {
          "output_type": "stream",
          "name": "stdout",
          "text": [
            "{'dietary_restrictions': ['green vegetable'], 'favorite_ingredients': ['green chilli'], 'experience_level': 'Advance', 'maximum_spice_level': 6}\n"
          ]
        }
      ],
      "source": [
        "# Update the following dictionary\n",
        "# with your own preferences\n",
        "\n",
        "### EDIT THE FOLLOWING CODE ###\n",
        "my_food_preferences = {\n",
        "        \"dietary_restrictions\": ['green vegetable'], #List with dietary restrictions\n",
        "        \"favorite_ingredients\": [\"green chilli\"], #List with top three favorite ingredients\n",
        "        \"experience_level\": \"Advance\", #Experience level\n",
        "        \"maximum_spice_level\": 6 #Spice level in a scale from 1 to 10\n",
        "}\n",
        "### --------------- ###\n",
        "\n",
        "print(my_food_preferences)"
      ]
    },
    {
      "cell_type": "code",
      "execution_count": null,
      "id": "e22eb004-6a9c-4274-9ae3-c9ee106689fb",
      "metadata": {
        "id": "e22eb004-6a9c-4274-9ae3-c9ee106689fb"
      },
      "outputs": [],
      "source": [
        "# Modify the following prompt,\n",
        "# without adding more than two sentences,\n",
        "# so that the provided recipe includes detailed instructions.\n",
        "\n",
        "### EDIT THE FOLLOWING CODE ###\n",
        "#Hint: look at the last sentence in this prompt\n",
        "prompt = f\"\"\"Please suggest a recipe that tries to include\n",
        "the following ingredients:\n",
        "{food_preferences_tommy[\"favorite_ingredients\"]}.\n",
        "The recipe should adhere to the following dietary restrictions:\n",
        "{food_preferences_tommy[\"dietary_restrictions\"]}.\n",
        "The difficulty of the recipe should be:\n",
        "{food_preferences_tommy[\"experience_level\"]}\n",
        "The maximum spice level on a scale of 10 should be:\n",
        "{food_preferences_tommy[\"maximum_spice_level\"]}\n",
        "Provide a two sentence description.\n",
        "\"\"\"\n",
        "### --------------- ###\n",
        "\n",
        "print_llm_response(prompt)"
      ]
    }
  ],
  "metadata": {
    "kernelspec": {
      "display_name": "Python 3 (ipykernel)",
      "language": "python",
      "name": "python3"
    },
    "language_info": {
      "codemirror_mode": {
        "name": "ipython",
        "version": 3
      },
      "file_extension": ".py",
      "mimetype": "text/x-python",
      "name": "python",
      "nbconvert_exporter": "python",
      "pygments_lexer": "ipython3",
      "version": "3.9.19"
    },
    "colab": {
      "provenance": [],
      "include_colab_link": true
    }
  },
  "nbformat": 4,
  "nbformat_minor": 5
}