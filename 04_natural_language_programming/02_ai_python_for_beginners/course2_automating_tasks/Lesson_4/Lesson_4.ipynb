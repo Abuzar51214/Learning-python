{
  "cells": [
    {
      "cell_type": "markdown",
      "metadata": {
        "id": "view-in-github",
        "colab_type": "text"
      },
      "source": [
        "<a href=\"https://colab.research.google.com/github/Abuzar51214/Learning-python/blob/main/04_natural_language_programming/02_ai_python_for_beginners/course2_automating_tasks/Lesson_4/Lesson_4.ipynb\" target=\"_parent\"><img src=\"https://colab.research.google.com/assets/colab-badge.svg\" alt=\"Open In Colab\"/></a>"
      ]
    },
    {
      "cell_type": "markdown",
      "id": "f6bf49f7-21f0-47bc-9a3e-7fd325a0b9bf",
      "metadata": {
        "id": "f6bf49f7-21f0-47bc-9a3e-7fd325a0b9bf"
      },
      "source": [
        "# Lesson 4 - Customizing recipes with lists, dictionaries and AI"
      ]
    },
    {
      "cell_type": "markdown",
      "id": "3afb15ea",
      "metadata": {
        "id": "3afb15ea"
      },
      "source": [
        "### Download helper_function.py\n",
        "* pls set Secrets Variable for Gemini in Collab\n",
        "* `GEMINI_API_KEY`\n",
        "\n",
        "[Get API KEY From Google AI Studio](https://aistudio.google.com/app/apikey)"
      ]
    },
    {
      "cell_type": "code",
      "execution_count": 1,
      "id": "38277dd1",
      "metadata": {
        "id": "38277dd1",
        "outputId": "27fdf331-02c2-49fa-c5a7-1e8fc13d6e10",
        "colab": {
          "base_uri": "https://localhost:8080/"
        }
      },
      "outputs": [
        {
          "output_type": "stream",
          "name": "stdout",
          "text": [
            "  % Total    % Received % Xferd  Average Speed   Time    Time     Time  Current\n",
            "                                 Dload  Upload   Total   Spent    Left  Speed\n",
            "100  3944  100  3944    0     0  16807      0 --:--:-- --:--:-- --:--:-- 16782\n"
          ]
        }
      ],
      "source": [
        "### Download helper_function.py\n",
        "# * Set Secrets Variable for Gemini\n",
        "# * `GEMINI_API_KEY`\n",
        "\n",
        "!curl -o helper_functions.py https://raw.githubusercontent.com/panaversity/learn-cloud-native-modern-ai-python/main/04_natural_language_programming/02_ai_python_for_beginners/course1_basics/Lesson_9/helper_functions.py"
      ]
    },
    {
      "cell_type": "markdown",
      "id": "a9f73957",
      "metadata": {
        "id": "a9f73957"
      },
      "source": [
        "In the previous lesson, you went through how to use dictionaries to complete tasks by priority. In this lesson, you will see how you can use dictionaries to update LLM prompts and create food recipies that match your friends preferences, restrictions and cooking experience."
      ]
    },
    {
      "cell_type": "code",
      "execution_count": 2,
      "id": "0669df5d-5013-466b-90c8-679364ff80a1",
      "metadata": {
        "id": "0669df5d-5013-466b-90c8-679364ff80a1"
      },
      "outputs": [],
      "source": [
        "from helper_functions import print_llm_response, get_llm_response"
      ]
    },
    {
      "cell_type": "markdown",
      "id": "f2ddd461",
      "metadata": {
        "id": "f2ddd461"
      },
      "source": [
        "## Food preference dictionaries\n",
        "\n",
        "Dictionaries are a useful way to organize multiple variables associated with a single entity, like one of your friends. In the next dictionary, you store the food preferences and cooking experience for Tommy."
      ]
    },
    {
      "cell_type": "code",
      "execution_count": 8,
      "id": "5ccb6d62",
      "metadata": {
        "id": "5ccb6d62"
      },
      "outputs": [],
      "source": [
        "food_preferences_tommy = {\n",
        "        \"dietary_restrictions\": \"vegetarian\",\n",
        "        \"favorite_ingredients\": [\"tofu\", \"olives\"],\n",
        "        \"experience_level\": \"intermediate\",\n",
        "        \"maximum_spice_level\": 6\n",
        "}"
      ]
    },
    {
      "cell_type": "markdown",
      "id": "b27a261d",
      "metadata": {
        "id": "b27a261d"
      },
      "source": [
        "As you can see there, that dictionary has four keys, wich you can access using `\".keys()\"`:"
      ]
    },
    {
      "cell_type": "code",
      "execution_count": 9,
      "id": "8849cd3c",
      "metadata": {
        "id": "8849cd3c",
        "outputId": "f8faf3a6-da1c-42b0-96f9-1d8bd3365a3f",
        "colab": {
          "base_uri": "https://localhost:8080/"
        }
      },
      "outputs": [
        {
          "output_type": "stream",
          "name": "stdout",
          "text": [
            "dict_keys(['dietary_restrictions', 'favorite_ingredients', 'experience_level', 'maximum_spice_level'])\n"
          ]
        }
      ],
      "source": [
        "print(food_preferences_tommy.keys())"
      ]
    },
    {
      "cell_type": "markdown",
      "id": "d73a2a44",
      "metadata": {
        "id": "d73a2a44"
      },
      "source": [
        "And it has values with different data types: lists, strings and integers."
      ]
    },
    {
      "cell_type": "code",
      "execution_count": 10,
      "id": "31f98465",
      "metadata": {
        "id": "31f98465",
        "outputId": "2e67b029-b540-4d16-9094-a1170a562064",
        "colab": {
          "base_uri": "https://localhost:8080/"
        }
      },
      "outputs": [
        {
          "output_type": "stream",
          "name": "stdout",
          "text": [
            "dict_values(['vegetarian', ['tofu', 'olives'], 'intermediate', 6])\n"
          ]
        }
      ],
      "source": [
        "print(food_preferences_tommy.values())"
      ]
    },
    {
      "cell_type": "markdown",
      "id": "4d786ed3",
      "metadata": {
        "id": "4d786ed3"
      },
      "source": [
        "Let's see how you can use these in a prompt to create recipes that take into account your friends dietary preferences."
      ]
    },
    {
      "cell_type": "markdown",
      "id": "5241f8b9",
      "metadata": {
        "id": "5241f8b9"
      },
      "source": [
        "## Using keys and values within AI prompt"
      ]
    },
    {
      "cell_type": "markdown",
      "id": "6a8f30dc",
      "metadata": {
        "id": "6a8f30dc"
      },
      "source": [
        "So here's a prompt that uses all the information in the dictionary to create a customized recipe"
      ]
    },
    {
      "cell_type": "code",
      "execution_count": 11,
      "id": "463a6d2a",
      "metadata": {
        "id": "463a6d2a"
      },
      "outputs": [],
      "source": [
        "prompt = f\"\"\"Please suggest a recipe that tries to include\n",
        "the following ingredients:\n",
        "{food_preferences_tommy[\"favorite_ingredients\"]}.\n",
        "The recipe should adhere to the following dietary restrictions:\n",
        "{food_preferences_tommy[\"dietary_restrictions\"]}.\n",
        "The difficulty of the recipe should be:\n",
        "{food_preferences_tommy[\"experience_level\"]}\n",
        "The maximum spice level on a scale of 10 should be:\n",
        "{food_preferences_tommy[\"maximum_spice_level\"]}\n",
        "Provide a two sentence description.\n",
        "\"\"\""
      ]
    },
    {
      "cell_type": "markdown",
      "id": "b24af997",
      "metadata": {
        "id": "b24af997"
      },
      "source": [
        "Run the cell below to print the prompt."
      ]
    },
    {
      "cell_type": "code",
      "execution_count": 12,
      "id": "6cceec03-639e-460c-a0d6-b34adb2cd28d",
      "metadata": {
        "id": "6cceec03-639e-460c-a0d6-b34adb2cd28d",
        "outputId": "f328dcd3-ac51-4052-d02b-ebfc4fd885e2",
        "colab": {
          "base_uri": "https://localhost:8080/"
        }
      },
      "outputs": [
        {
          "output_type": "stream",
          "name": "stdout",
          "text": [
            "Please suggest a recipe that tries to include\n",
            "the following ingredients:\n",
            "['tofu', 'olives'].\n",
            "The recipe should adhere to the following dietary restrictions:\n",
            "vegetarian.\n",
            "The difficulty of the recipe should be:\n",
            "intermediate\n",
            "The maximum spice level on a scale of 10 should be:\n",
            "6\n",
            "Provide a two sentence description.\n",
            "\n"
          ]
        }
      ],
      "source": [
        "print(prompt)"
      ]
    },
    {
      "cell_type": "markdown",
      "id": "10b37203",
      "metadata": {
        "id": "10b37203"
      },
      "source": [
        "Now, you can use that prompt with an LLM to suggest a recipe to fit Tommy's preferences:"
      ]
    },
    {
      "cell_type": "code",
      "execution_count": 13,
      "id": "14850b74",
      "metadata": {
        "id": "14850b74",
        "outputId": "bfec6a90-44c1-4136-84af-3b87a99a28c7",
        "colab": {
          "base_uri": "https://localhost:8080/",
          "height": 530
        }
      },
      "outputs": [
        {
          "output_type": "stream",
          "name": "stdout",
          "text": [
            "## Mediterranean Tofu and Olive Skewers\n",
            "\n",
            "This recipe combines firm tofu marinated in vibrant Mediterranean flavors with juicy olives, creating a delicious and satisfying vegetarian meal.  Skewered and grilled, the tofu and olives char beautifully, offering a smoky aroma and a textural contrast.\n",
            "\n",
            "**Ingredients:**\n",
            "\n",
            "* 1 block firm tofu, pressed and cubed\n",
            "* 1/2 cup Kalamata olives, pitted and halved\n",
            "* 1/4 cup olive oil\n",
            "* 2 tablespoons lemon juice\n",
            "* 1 tablespoon chopped fresh oregano\n",
            "* 1 teaspoon garlic powder\n",
            "* 1/2 teaspoon salt\n",
            "* 1/4 teaspoon black pepper\n",
            "* 1/4 teaspoon red pepper flakes (optional)\n",
            "\n",
            "**Instructions:**\n",
            "\n",
            "1. In a large bowl, combine the olive oil, lemon juice, oregano, garlic powder, salt, pepper, and red pepper flakes (if using).\n",
            "2. Add the tofu cubes and olives to the marinade, toss to coat, and let marinate for at least 30 minutes.\n",
            "3. Thread tofu and olives onto skewers.\n",
            "4. Preheat grill to medium heat. \n",
            "5. Grill skewers for 5-7 minutes per side, or until tofu is golden brown and cooked through. \n",
            "6. Serve skewers with your favorite sides, such as couscous, grilled vegetables, or a simple salad.\n",
            "\n",
            "**Spice Level:** 4-6 (depending on red pepper flakes usage) \n",
            "\n"
          ]
        }
      ],
      "source": [
        "print_llm_response(prompt)"
      ]
    },
    {
      "cell_type": "markdown",
      "id": "e00bb0c1",
      "metadata": {
        "id": "e00bb0c1"
      },
      "source": [
        "The model followed the instructions. Tommy will be delighted!"
      ]
    },
    {
      "cell_type": "markdown",
      "id": "86e7ba47",
      "metadata": {
        "id": "86e7ba47"
      },
      "source": [
        "## Refining the prompt with available ingredients"
      ]
    },
    {
      "cell_type": "markdown",
      "id": "e813a9b6",
      "metadata": {
        "id": "e813a9b6"
      },
      "source": [
        "You can go a step further and consider the available ingredients at your house. To do so, let's use the following lists:"
      ]
    },
    {
      "cell_type": "code",
      "execution_count": 14,
      "id": "72256217-4474-4c48-a87d-36b444c25ea6",
      "metadata": {
        "id": "72256217-4474-4c48-a87d-36b444c25ea6"
      },
      "outputs": [],
      "source": [
        "available_spices = [\"cumin\", \"turmeric\", \"oregano\", \"paprika\"]"
      ]
    },
    {
      "cell_type": "markdown",
      "id": "b2f46ab1",
      "metadata": {
        "id": "b2f46ab1"
      },
      "source": [
        "You can add these directly to the prompt so that the LLM take those into consideration"
      ]
    },
    {
      "cell_type": "code",
      "execution_count": 15,
      "id": "3b73cd00-bf5e-4865-9a05-07e7f68b1296",
      "metadata": {
        "id": "3b73cd00-bf5e-4865-9a05-07e7f68b1296",
        "outputId": "c075d6a9-1280-4030-fd52-06bcd0e01e80",
        "colab": {
          "base_uri": "https://localhost:8080/"
        }
      },
      "outputs": [
        {
          "output_type": "stream",
          "name": "stdout",
          "text": [
            "Please suggest a recipe that tries to include\n",
            "the following ingredients:\n",
            "['tofu', 'olives'].\n",
            "The recipe should adhere to the following dietary restrictions:\n",
            "vegetarian.\n",
            "The difficulty of the recipe should be:\n",
            "intermediate\n",
            "The maximum spice level on a scale of 10 should be:\n",
            "6\n",
            "Provide a two sentence description.\n",
            "\n",
            "The recipe should not include spices outside of this list:\n",
            "Spices: ['cumin', 'turmeric', 'oregano', 'paprika']\n",
            "\n",
            "\n"
          ]
        }
      ],
      "source": [
        "prompt = f\"\"\"Please suggest a recipe that tries to include\n",
        "the following ingredients:\n",
        "{food_preferences_tommy[\"favorite_ingredients\"]}.\n",
        "The recipe should adhere to the following dietary restrictions:\n",
        "{food_preferences_tommy[\"dietary_restrictions\"]}.\n",
        "The difficulty of the recipe should be:\n",
        "{food_preferences_tommy[\"experience_level\"]}\n",
        "The maximum spice level on a scale of 10 should be:\n",
        "{food_preferences_tommy[\"maximum_spice_level\"]}\n",
        "Provide a two sentence description.\n",
        "\n",
        "The recipe should not include spices outside of this list:\n",
        "Spices: {available_spices}\n",
        "\n",
        "\"\"\"\n",
        "print(prompt)"
      ]
    },
    {
      "cell_type": "markdown",
      "id": "4a78b961",
      "metadata": {
        "id": "4a78b961"
      },
      "source": [
        "Now, get the LLM response to that prompt and assign it to a variable:"
      ]
    },
    {
      "cell_type": "code",
      "execution_count": 16,
      "id": "bc9f9acf",
      "metadata": {
        "id": "bc9f9acf"
      },
      "outputs": [],
      "source": [
        "recipe = get_llm_response(prompt)"
      ]
    },
    {
      "cell_type": "markdown",
      "id": "c87c1079",
      "metadata": {
        "id": "c87c1079"
      },
      "source": [
        "And print the recipe that considers Tommy's restrictions as well as the available ingredients at your house."
      ]
    },
    {
      "cell_type": "code",
      "execution_count": 17,
      "id": "d211dac7",
      "metadata": {
        "id": "d211dac7",
        "outputId": "21ec4e79-99ba-44b3-dd18-4f4c27be0096",
        "colab": {
          "base_uri": "https://localhost:8080/"
        }
      },
      "outputs": [
        {
          "output_type": "stream",
          "name": "stdout",
          "text": [
            "## Mediterranean Tofu Skewers with Olive Salsa\n",
            "\n",
            "This recipe features marinated tofu cubes and juicy olives skewered and grilled to perfection, served with a bright and flavorful salsa. The combination of smoky grilled tofu and the tangy, savory salsa makes for a delicious and satisfying vegetarian meal. \n",
            "\n",
            "**Ingredients:**\n",
            "\n",
            "* 1 block extra-firm tofu, pressed and cubed\n",
            "* 1/4 cup olive oil\n",
            "* 2 tbsp lemon juice\n",
            "* 1 tbsp cumin\n",
            "* 1 tsp turmeric\n",
            "* 1/2 tsp oregano\n",
            "* Salt and pepper to taste\n",
            "* 1 cup pitted olives, chopped\n",
            "* 1/4 cup chopped red onion\n",
            "* 2 tbsp chopped fresh parsley\n",
            "* 1 tbsp olive oil\n",
            "* 1 tbsp red wine vinegar\n",
            "* Salt and pepper to taste\n",
            "\n",
            "**Instructions:**\n",
            "\n",
            "1. In a bowl, combine the cubed tofu, olive oil, lemon juice, cumin, turmeric, oregano, salt, and pepper. Marinate for at least 30 minutes.\n",
            "2. While the tofu marinates, prepare the salsa. In a separate bowl, combine the chopped olives, red onion, parsley, olive oil, red wine vinegar, salt, and pepper.\n",
            "3. Thread the marinated tofu cubes onto skewers.\n",
            "4. Preheat grill to medium heat. Grill the skewers for 5-7 minutes per side, or until golden brown and cooked through.\n",
            "5. Serve the grilled skewers immediately with the olive salsa. \n",
            "\n"
          ]
        }
      ],
      "source": [
        "print(recipe)"
      ]
    },
    {
      "cell_type": "markdown",
      "id": "8dd1eebb",
      "metadata": {
        "id": "8dd1eebb"
      },
      "source": [
        "Try changing the prompt to give you step-by-step instructions and try adding a key-value pair to the dictionary that indicates favorite cuisine."
      ]
    },
    {
      "cell_type": "markdown",
      "id": "d21d016e-e278-47f9-a3da-b031eb6905e9",
      "metadata": {
        "id": "d21d016e-e278-47f9-a3da-b031eb6905e9"
      },
      "source": [
        "## Looking ahead"
      ]
    },
    {
      "cell_type": "markdown",
      "id": "71e7f4a4-efbe-4bbb-a6b4-60305a2e5427",
      "metadata": {
        "id": "71e7f4a4-efbe-4bbb-a6b4-60305a2e5427"
      },
      "source": [
        "Let's take another look at`food_preferences_tommy[\"dietary_restrictions\"]`"
      ]
    },
    {
      "cell_type": "code",
      "execution_count": 18,
      "id": "91bb95c7-1940-452d-a120-149bf8db61c7",
      "metadata": {
        "id": "91bb95c7-1940-452d-a120-149bf8db61c7",
        "outputId": "56e54768-f57d-44d5-a571-2941fc83e942",
        "colab": {
          "base_uri": "https://localhost:8080/"
        }
      },
      "outputs": [
        {
          "output_type": "stream",
          "name": "stdout",
          "text": [
            "vegetarian\n"
          ]
        }
      ],
      "source": [
        "print(food_preferences_tommy[\"dietary_restrictions\"])"
      ]
    },
    {
      "cell_type": "markdown",
      "id": "b5f5fe5e-feae-4a8a-9e11-9cfb99958df2",
      "metadata": {
        "id": "b5f5fe5e-feae-4a8a-9e11-9cfb99958df2"
      },
      "source": [
        "Here is a different way you could tell Python that Tommy is vegetarian:"
      ]
    },
    {
      "cell_type": "code",
      "source": [
        "food_preferences_tommy[\"is_vegetarian\"] = True"
      ],
      "metadata": {
        "id": "xJK11kV6HC3j"
      },
      "id": "xJK11kV6HC3j",
      "execution_count": 19,
      "outputs": []
    },
    {
      "cell_type": "code",
      "source": [
        "print(food_preferences_tommy)"
      ],
      "metadata": {
        "id": "L6NE3tegG4LJ",
        "outputId": "24512e4b-9abe-41e0-8ff4-9fb6adb23c9e",
        "colab": {
          "base_uri": "https://localhost:8080/"
        }
      },
      "id": "L6NE3tegG4LJ",
      "execution_count": null,
      "outputs": [
        {
          "output_type": "stream",
          "name": "stdout",
          "text": [
            "{'dietary_restrictions': 'vegetarian', 'favorite_ingredients': ['tofu', 'olives'], 'experience_level': 'intermediate', 'maximum_spice_level': 6, 'is_vegetarian': True}\n"
          ]
        }
      ]
    },
    {
      "cell_type": "markdown",
      "id": "3e43d1db-4ce2-4444-9c47-d0ae02370976",
      "metadata": {
        "id": "3e43d1db-4ce2-4444-9c47-d0ae02370976"
      },
      "source": [
        "Go to next video to see what `True` and `False` are and how they work in Python"
      ]
    },
    {
      "cell_type": "code",
      "source": [
        "# prompt: show all dict methods using list comprehension\n",
        "\n",
        "[method for method in dir(food_preferences_tommy) if callable(getattr(food_preferences_tommy, method)) and not method.startswith(\"__\")]\n"
      ],
      "metadata": {
        "id": "do_LzmM3huhE",
        "outputId": "61ed41ae-d822-4b56-e2ed-79592ddf2a8d",
        "colab": {
          "base_uri": "https://localhost:8080/"
        }
      },
      "id": "do_LzmM3huhE",
      "execution_count": 20,
      "outputs": [
        {
          "output_type": "execute_result",
          "data": {
            "text/plain": [
              "['clear',\n",
              " 'copy',\n",
              " 'fromkeys',\n",
              " 'get',\n",
              " 'items',\n",
              " 'keys',\n",
              " 'pop',\n",
              " 'popitem',\n",
              " 'setdefault',\n",
              " 'update',\n",
              " 'values']"
            ]
          },
          "metadata": {},
          "execution_count": 20
        }
      ]
    },
    {
      "cell_type": "code",
      "source": [
        "new_product:dict={\n",
        "    \"title\":\"Blackwell GPU\",\n",
        "    \"provider\":\"Nvidea\"\n",
        "}"
      ],
      "metadata": {
        "id": "y-JGUpDskAf9"
      },
      "id": "y-JGUpDskAf9",
      "execution_count": 26,
      "outputs": []
    },
    {
      "cell_type": "code",
      "source": [
        "new_product.values()"
      ],
      "metadata": {
        "id": "zHR7UQGLkV9t",
        "outputId": "1933cb4e-a62f-4448-c5ec-e4888224fbb2",
        "colab": {
          "base_uri": "https://localhost:8080/"
        }
      },
      "id": "zHR7UQGLkV9t",
      "execution_count": 27,
      "outputs": [
        {
          "output_type": "execute_result",
          "data": {
            "text/plain": [
              "dict_values(['Blackwell GPU', 'Nvidea'])"
            ]
          },
          "metadata": {},
          "execution_count": 27
        }
      ]
    },
    {
      "cell_type": "code",
      "source": [
        "new_product.update({\"price\":1000})\n",
        "print(new_product)"
      ],
      "metadata": {
        "id": "YZA06Zshk34Q",
        "outputId": "158a02b2-0d28-457e-ee1e-4948d8f95ed5",
        "colab": {
          "base_uri": "https://localhost:8080/"
        }
      },
      "id": "YZA06Zshk34Q",
      "execution_count": 29,
      "outputs": [
        {
          "output_type": "stream",
          "name": "stdout",
          "text": [
            "{'title': 'Blackwell GPU', 'provider': 'Nvidea', 'price': 1000}\n"
          ]
        }
      ]
    },
    {
      "cell_type": "code",
      "source": [
        "pop_data=new_product.pop(\"price\")\n",
        "print(new_product)\n",
        "print(pop_data)"
      ],
      "metadata": {
        "id": "Oa4dHb-klx9D",
        "outputId": "fe01b948-16c4-439c-de92-6ad13f753e1f",
        "colab": {
          "base_uri": "https://localhost:8080/"
        }
      },
      "id": "Oa4dHb-klx9D",
      "execution_count": 30,
      "outputs": [
        {
          "output_type": "stream",
          "name": "stdout",
          "text": [
            "{'title': 'Blackwell GPU', 'provider': 'Nvidea'}\n",
            "1000\n"
          ]
        }
      ]
    },
    {
      "cell_type": "code",
      "source": [
        "print(food_preferences_tommy.items())"
      ],
      "metadata": {
        "id": "KP1iyle-l63F",
        "outputId": "871a363f-0bd5-4da8-cb6c-fc233190d30a",
        "colab": {
          "base_uri": "https://localhost:8080/"
        }
      },
      "id": "KP1iyle-l63F",
      "execution_count": 31,
      "outputs": [
        {
          "output_type": "stream",
          "name": "stdout",
          "text": [
            "dict_items([('dietary_restrictions', 'vegetarian'), ('favorite_ingredients', ['tofu', 'olives']), ('experience_level', 'intermediate'), ('maximum_spice_level', 6), ('is_vegetarian', True)])\n"
          ]
        }
      ]
    },
    {
      "cell_type": "code",
      "source": [
        "brand_name=new_product.get(\"provider\",\"tech company\")\n",
        "print(brand_name)"
      ],
      "metadata": {
        "id": "RHDknhglnLYH",
        "outputId": "89c668ee-2f8d-40ab-885b-07e3b3657f51",
        "colab": {
          "base_uri": "https://localhost:8080/"
        }
      },
      "id": "RHDknhglnLYH",
      "execution_count": 34,
      "outputs": [
        {
          "output_type": "stream",
          "name": "stdout",
          "text": [
            "Nvidea\n"
          ]
        }
      ]
    },
    {
      "cell_type": "markdown",
      "id": "cc7e65ef-1983-43d0-93b5-ce29a2c9f387",
      "metadata": {
        "id": "cc7e65ef-1983-43d0-93b5-ce29a2c9f387"
      },
      "source": [
        "## Extra practice"
      ]
    },
    {
      "cell_type": "markdown",
      "id": "7389bce5-8c0d-41cf-b347-01c741078ef0",
      "metadata": {
        "id": "7389bce5-8c0d-41cf-b347-01c741078ef0"
      },
      "source": [
        "Please go through the exercises in the cells below if you want some extra practice for the topics you covered in this lesson."
      ]
    },
    {
      "cell_type": "code",
      "execution_count": null,
      "id": "83969e6c-e89b-4061-8a9b-69764225dccd",
      "metadata": {
        "id": "83969e6c-e89b-4061-8a9b-69764225dccd",
        "outputId": "2344e1e5-3d73-45c5-b405-e523ed8b1ce8",
        "colab": {
          "base_uri": "https://localhost:8080/"
        }
      },
      "outputs": [
        {
          "output_type": "stream",
          "name": "stdout",
          "text": [
            "{'dietary_restrictions': ['green vegetable'], 'favorite_ingredients': ['green chilli'], 'experience_level': 'Advance', 'maximum_spice_level': 6}\n"
          ]
        }
      ],
      "source": [
        "# Update the following dictionary\n",
        "# with your own preferences\n",
        "\n",
        "### EDIT THE FOLLOWING CODE ###\n",
        "my_food_preferences = {\n",
        "        \"dietary_restrictions\": ['green vegetable'], #List with dietary restrictions\n",
        "        \"favorite_ingredients\": [\"green chilli\"], #List with top three favorite ingredients\n",
        "        \"experience_level\": \"Advance\", #Experience level\n",
        "        \"maximum_spice_level\": 6 #Spice level in a scale from 1 to 10\n",
        "}\n",
        "### --------------- ###\n",
        "\n",
        "print(my_food_preferences)"
      ]
    },
    {
      "cell_type": "code",
      "execution_count": null,
      "id": "e22eb004-6a9c-4274-9ae3-c9ee106689fb",
      "metadata": {
        "id": "e22eb004-6a9c-4274-9ae3-c9ee106689fb"
      },
      "outputs": [],
      "source": [
        "# Modify the following prompt,\n",
        "# without adding more than two sentences,\n",
        "# so that the provided recipe includes detailed instructions.\n",
        "\n",
        "### EDIT THE FOLLOWING CODE ###\n",
        "#Hint: look at the last sentence in this prompt\n",
        "prompt = f\"\"\"Please suggest a recipe that tries to include\n",
        "the following ingredients:\n",
        "{food_preferences_tommy[\"favorite_ingredients\"]}.\n",
        "The recipe should adhere to the following dietary restrictions:\n",
        "{food_preferences_tommy[\"dietary_restrictions\"]}.\n",
        "The difficulty of the recipe should be:\n",
        "{food_preferences_tommy[\"experience_level\"]}\n",
        "The maximum spice level on a scale of 10 should be:\n",
        "{food_preferences_tommy[\"maximum_spice_level\"]}\n",
        "Provide a two sentence description.\n",
        "\"\"\"\n",
        "### --------------- ###\n",
        "\n",
        "print_llm_response(prompt)"
      ]
    }
  ],
  "metadata": {
    "kernelspec": {
      "display_name": "Python 3 (ipykernel)",
      "language": "python",
      "name": "python3"
    },
    "language_info": {
      "codemirror_mode": {
        "name": "ipython",
        "version": 3
      },
      "file_extension": ".py",
      "mimetype": "text/x-python",
      "name": "python",
      "nbconvert_exporter": "python",
      "pygments_lexer": "ipython3",
      "version": "3.9.19"
    },
    "colab": {
      "provenance": [],
      "include_colab_link": true
    }
  },
  "nbformat": 4,
  "nbformat_minor": 5
}