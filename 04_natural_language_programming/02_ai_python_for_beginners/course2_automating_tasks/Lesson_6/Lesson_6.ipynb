{
  "cells": [
    {
      "cell_type": "markdown",
      "metadata": {
        "id": "view-in-github",
        "colab_type": "text"
      },
      "source": [
        "<a href=\"https://colab.research.google.com/github/Abuzar51214/Learning-python/blob/main/04_natural_language_programming/02_ai_python_for_beginners/course2_automating_tasks/Lesson_6/Lesson_6.ipynb\" target=\"_parent\"><img src=\"https://colab.research.google.com/assets/colab-badge.svg\" alt=\"Open In Colab\"/></a>"
      ]
    },
    {
      "cell_type": "markdown",
      "id": "c37dfb58-902b-44dd-a56b-11d6afee457a",
      "metadata": {
        "id": "c37dfb58-902b-44dd-a56b-11d6afee457a"
      },
      "source": [
        "# Lesson 6 - Helping AI make decisions"
      ]
    },
    {
      "cell_type": "markdown",
      "id": "532a6c5d",
      "metadata": {
        "id": "532a6c5d"
      },
      "source": [
        "### Download helper_function.py\n",
        "* pls set Secrets Variable for Gemini in Collab\n",
        "* `GEMINI_API_KEY`\n",
        "\n",
        "[Get API KEY From Google AI Studio](https://aistudio.google.com/app/apikey)"
      ]
    },
    {
      "cell_type": "code",
      "execution_count": 1,
      "id": "917d339c",
      "metadata": {
        "id": "917d339c",
        "outputId": "0139b248-8dcc-4090-e0ab-2dfd34cefeeb",
        "colab": {
          "base_uri": "https://localhost:8080/"
        }
      },
      "outputs": [
        {
          "output_type": "stream",
          "name": "stdout",
          "text": [
            "  % Total    % Received % Xferd  Average Speed   Time    Time     Time  Current\n",
            "                                 Dload  Upload   Total   Spent    Left  Speed\n",
            "100  3944  100  3944    0     0  11357      0 --:--:-- --:--:-- --:--:-- 11365\n"
          ]
        }
      ],
      "source": [
        "### Download helper_function.py\n",
        "# * Set Secrets Variable for Gemini\n",
        "# * `GEMINI_API_KEY`\n",
        "\n",
        "!curl -o helper_functions.py https://raw.githubusercontent.com/panaversity/learn-cloud-native-modern-ai-python/main/04_natural_language_programming/02_ai_python_for_beginners/course1_basics/Lesson_9/helper_functions.py"
      ]
    },
    {
      "cell_type": "markdown",
      "id": "acc85383-e456-40d7-8b09-79bd91da0eed",
      "metadata": {
        "id": "acc85383-e456-40d7-8b09-79bd91da0eed"
      },
      "source": [
        "In this lesson you will see how booleans can be used to create sophisticated programs with branching decisions."
      ]
    },
    {
      "cell_type": "code",
      "execution_count": 2,
      "id": "09291854-2c07-4c09-8378-d825734df7c6",
      "metadata": {
        "id": "09291854-2c07-4c09-8378-d825734df7c6"
      },
      "outputs": [],
      "source": [
        "from helper_functions import print_llm_response"
      ]
    },
    {
      "cell_type": "markdown",
      "id": "3b5f7010-989e-4fc2-87be-ac437ce70df7",
      "metadata": {
        "id": "3b5f7010-989e-4fc2-87be-ac437ce70df7"
      },
      "source": [
        "## Performing tasks depending on their time to completion"
      ]
    },
    {
      "cell_type": "markdown",
      "id": "9d8faf4e-714e-492d-a3ef-c45a5fd02460",
      "metadata": {
        "id": "9d8faf4e-714e-492d-a3ef-c45a5fd02460"
      },
      "source": [
        "Let's say that you have a task list with tasks that LLMs could assist you with. Each element in that list is a dictionary with two keys: the `description` for the task and the `time_to_complete` after the LLM's first pass."
      ]
    },
    {
      "cell_type": "code",
      "execution_count": 4,
      "id": "224d7983-2e71-40e9-af21-92b9433c34c5",
      "metadata": {
        "id": "224d7983-2e71-40e9-af21-92b9433c34c5"
      },
      "outputs": [],
      "source": [
        "task_list: list[dict] = [\n",
        "    {\n",
        "        \"description\": \"Compose a brief email to my boss explaining that I will be late for next week's meeting.\",\n",
        "        \"time_to_complete\": 3\n",
        "    },\n",
        "    {\n",
        "        \"description\": \"Create an outline for a presentation on the benefits of remote work.\",\n",
        "        \"time_to_complete\": 60\n",
        "    },\n",
        "    {\n",
        "        \"description\": \"Write a 300-word review of the movie 'The Arrival'.\",\n",
        "        \"time_to_complete\": 30\n",
        "    },\n",
        "    {\n",
        "        \"description\": \"Create a shopping list for tofu and olive stir fry.\",\n",
        "        \"time_to_complete\": 5\n",
        "    }\n",
        "]"
      ]
    },
    {
      "cell_type": "markdown",
      "id": "e4326c98-b881-43aa-8c9a-c3dce0aa8312",
      "metadata": {
        "id": "e4326c98-b881-43aa-8c9a-c3dce0aa8312"
      },
      "source": [
        "So, if you access the first element, you will get the following dictionary:"
      ]
    },
    {
      "cell_type": "code",
      "source": [
        "type(task_list)"
      ],
      "metadata": {
        "id": "bGQ8hfEz_hxA",
        "outputId": "6d5abac2-3d54-4542-d01b-546bec9c9097",
        "colab": {
          "base_uri": "https://localhost:8080/"
        }
      },
      "id": "bGQ8hfEz_hxA",
      "execution_count": 5,
      "outputs": [
        {
          "output_type": "execute_result",
          "data": {
            "text/plain": [
              "list"
            ]
          },
          "metadata": {},
          "execution_count": 5
        }
      ]
    },
    {
      "cell_type": "code",
      "execution_count": 6,
      "id": "033a9da9-5d47-41e5-9366-eb396afdf87a",
      "metadata": {
        "id": "033a9da9-5d47-41e5-9366-eb396afdf87a",
        "outputId": "b39f87e7-e6fe-40eb-aab9-8127bca4205f",
        "colab": {
          "base_uri": "https://localhost:8080/"
        }
      },
      "outputs": [
        {
          "output_type": "stream",
          "name": "stdout",
          "text": [
            "{'description': \"Compose a brief email to my boss explaining that I will be late for next week's meeting.\", 'time_to_complete': 3}\n"
          ]
        }
      ],
      "source": [
        "task:dict[str,str|int] = task_list[0]\n",
        "print(task)"
      ]
    },
    {
      "cell_type": "markdown",
      "id": "f222c387-f959-4f24-98ac-8dabad18792c",
      "metadata": {
        "id": "f222c387-f959-4f24-98ac-8dabad18792c"
      },
      "source": [
        "Now, let's check whether the first task takes at most 5 minutes to complete after the LLM's first pass."
      ]
    },
    {
      "cell_type": "code",
      "source": [
        "print(task[\"time_to_complete\"])"
      ],
      "metadata": {
        "id": "Dluue5UYAzaa",
        "outputId": "65eaf813-6e5f-4737-d736-9ba0724d1416",
        "colab": {
          "base_uri": "https://localhost:8080/"
        }
      },
      "id": "Dluue5UYAzaa",
      "execution_count": 9,
      "outputs": [
        {
          "output_type": "stream",
          "name": "stdout",
          "text": [
            "3\n"
          ]
        }
      ]
    },
    {
      "cell_type": "code",
      "execution_count": 8,
      "id": "3e4d5838-e14a-4f10-8492-4b0f45491600",
      "metadata": {
        "id": "3e4d5838-e14a-4f10-8492-4b0f45491600",
        "outputId": "b5ff5125-2949-4343-b3f5-b567028b98ab",
        "colab": {
          "base_uri": "https://localhost:8080/"
        }
      },
      "outputs": [
        {
          "output_type": "execute_result",
          "data": {
            "text/plain": [
              "True"
            ]
          },
          "metadata": {},
          "execution_count": 8
        }
      ],
      "source": [
        "#complete time in mints\n",
        "task[\"time_to_complete\"] <= 5"
      ]
    },
    {
      "cell_type": "markdown",
      "id": "80a9bb09-1f08-48f0-94ae-ec81997fac3f",
      "metadata": {
        "id": "80a9bb09-1f08-48f0-94ae-ec81997fac3f"
      },
      "source": [
        "To complete a task that requires 5 minutes or less after the LLM's first pass, you can use an `if` statement like the one below:"
      ]
    },
    {
      "cell_type": "code",
      "execution_count": 10,
      "id": "48f46f36-1ddc-4add-850a-db1146ea255a",
      "metadata": {
        "id": "48f46f36-1ddc-4add-850a-db1146ea255a",
        "outputId": "2b3362bb-9d87-43c3-9c3b-fcaaa91adbc5",
        "colab": {
          "base_uri": "https://localhost:8080/",
          "height": 238
        }
      },
      "outputs": [
        {
          "output_type": "stream",
          "name": "stdout",
          "text": [
            "Subject: Late Arrival to Meeting on [Date of Meeting]\n",
            "\n",
            "Hi [Boss's Name],\n",
            "\n",
            "Please be aware that I will be running a bit late to our meeting next week on [Date of Meeting] due to [brief reason for lateness, e.g., a doctor's appointment]. \n",
            "\n",
            "I apologize for any inconvenience this may cause and will be joining the meeting as soon as possible.\n",
            "\n",
            "Best regards,\n",
            "[Your Name] \n",
            "\n"
          ]
        }
      ],
      "source": [
        "if task[\"time_to_complete\"] <= 5:\n",
        "    task_to_do = task[\"description\"]\n",
        "    print_llm_response(task_to_do)"
      ]
    },
    {
      "cell_type": "code",
      "source": [
        "if task[\"time_to_complete\"] <= 1:\n",
        "    task_to_do = task[\"description\"]\n",
        "    print_llm_response(task_to_do)"
      ],
      "metadata": {
        "id": "bpOOftCnB4_a"
      },
      "id": "bpOOftCnB4_a",
      "execution_count": 15,
      "outputs": []
    },
    {
      "cell_type": "markdown",
      "id": "94757062-3a0b-4988-bb33-147762c11d97",
      "metadata": {
        "id": "94757062-3a0b-4988-bb33-147762c11d97"
      },
      "source": [
        "Let's see what would happen if you execute that same code for the second task:"
      ]
    },
    {
      "cell_type": "code",
      "execution_count": 16,
      "id": "f868908d-2a8b-498f-954d-11e058694913",
      "metadata": {
        "id": "f868908d-2a8b-498f-954d-11e058694913"
      },
      "outputs": [],
      "source": [
        "task = task_list[1]\n",
        "if task[\"time_to_complete\"] <= 5:\n",
        "    task_to_do = task[\"description\"]\n",
        "    print_llm_response(task_to_do)"
      ]
    },
    {
      "cell_type": "code",
      "execution_count": 17,
      "id": "3e71c360-2aba-4fc8-9afe-6acedef33b57",
      "metadata": {
        "id": "3e71c360-2aba-4fc8-9afe-6acedef33b57",
        "outputId": "9481fd13-48ef-4fe4-969a-0cfcca1f3fd6",
        "colab": {
          "base_uri": "https://localhost:8080/"
        }
      },
      "outputs": [
        {
          "output_type": "execute_result",
          "data": {
            "text/plain": [
              "False"
            ]
          },
          "metadata": {},
          "execution_count": 17
        }
      ],
      "source": [
        "task[\"time_to_complete\"] <= 5"
      ]
    },
    {
      "cell_type": "code",
      "source": [
        "print(task[\"time_to_complete\"])"
      ],
      "metadata": {
        "id": "bDEuTKqpDfdp",
        "outputId": "fddade11-b4ca-40d3-efcd-fa894e7305d0",
        "colab": {
          "base_uri": "https://localhost:8080/"
        }
      },
      "id": "bDEuTKqpDfdp",
      "execution_count": 18,
      "outputs": [
        {
          "output_type": "stream",
          "name": "stdout",
          "text": [
            "60\n"
          ]
        }
      ]
    },
    {
      "cell_type": "markdown",
      "id": "ce67bfcc-bf70-4678-bc5f-fc70713aeb2f",
      "metadata": {
        "id": "ce67bfcc-bf70-4678-bc5f-fc70713aeb2f"
      },
      "source": [
        "And for the third and fourth tasks:"
      ]
    },
    {
      "cell_type": "code",
      "execution_count": 19,
      "id": "6d2d541f-be6c-43ac-8ce9-8088d6ac82fb",
      "metadata": {
        "id": "6d2d541f-be6c-43ac-8ce9-8088d6ac82fb"
      },
      "outputs": [],
      "source": [
        "task = task_list[2]\n",
        "if task[\"time_to_complete\"] <= 5:\n",
        "    task_to_do = task[\"description\"]\n",
        "    print_llm_response(task_to_do)"
      ]
    },
    {
      "cell_type": "code",
      "execution_count": 20,
      "id": "ee1a2257-e87a-4c01-91c0-649765cf3144",
      "metadata": {
        "id": "ee1a2257-e87a-4c01-91c0-649765cf3144",
        "outputId": "66ca55b5-d24f-42b3-ce1b-645d047f612a",
        "colab": {
          "base_uri": "https://localhost:8080/",
          "height": 748
        }
      },
      "outputs": [
        {
          "output_type": "stream",
          "name": "stdout",
          "text": [
            "## Tofu and Olive Stir-Fry Shopping List:\n",
            "\n",
            "**Main Ingredients:**\n",
            "\n",
            "* **Tofu:** Extra firm or firm, 1 block (about 14 ounces)\n",
            "* **Olive Oil:** 1/4 cup (or more, depending on your preference)\n",
            "* **Vegetables:** \n",
            "    * Broccoli florets (1 cup)\n",
            "    * Red bell pepper (1/2)\n",
            "    * Green bell pepper (1/2)\n",
            "    * Onion (1/2)\n",
            "    * Garlic (2-3 cloves)\n",
            "    * Optionally add other vegetables like carrots, mushrooms, or snap peas.\n",
            "* **Soy Sauce:** 1/4 cup\n",
            "* **Rice vinegar:** 1/4 cup\n",
            "* **Honey or brown sugar:** 1 tablespoon\n",
            "* **Cornstarch:** 1 teaspoon\n",
            "* **Sesame oil:** 1 teaspoon (optional)\n",
            "* **Salt & pepper:** to taste\n",
            "\n",
            "**Sides:**\n",
            "\n",
            "* **Rice:** Cooked rice to serve with the stir fry\n",
            "* **Noodles:** Thin noodles (like udon or ramen) can be added instead of rice\n",
            "\n",
            "**Optional Additions:**\n",
            "\n",
            "* **Ginger:** Fresh ginger for a spicy kick\n",
            "* **Chili flakes:** for added heat\n",
            "* **Fresh herbs:** Cilantro, parsley, or basil for garnish\n",
            "* **Toasted sesame seeds:** for a nutty flavor and texture\n",
            "* **Crushed red pepper:** for a touch of spice\n",
            "\n",
            "**Tips:**\n",
            "\n",
            "* Choose firm or extra firm tofu for this recipe, as it holds its shape better when stir-fried.\n",
            "* You can adjust the amount of vegetables based on your preference.\n",
            "* Don't forget to marinate the tofu for at least 30 minutes to infuse it with flavor.\n",
            "* Serve your stir fry with a side of rice or noodles and enjoy! \n",
            "\n"
          ]
        }
      ],
      "source": [
        "task = task_list[3]\n",
        "if task[\"time_to_complete\"] <= 5:\n",
        "    task_to_do = task[\"description\"]\n",
        "    print_llm_response(task_to_do)"
      ]
    },
    {
      "cell_type": "markdown",
      "id": "629e34bd-f02b-4163-b826-4626215f55f3",
      "metadata": {
        "id": "629e34bd-f02b-4163-b826-4626215f55f3"
      },
      "source": [
        "## Looping through the task list"
      ]
    },
    {
      "cell_type": "markdown",
      "id": "9bbb1658-819b-4f72-a90c-6d99643e6e20",
      "metadata": {
        "id": "9bbb1658-819b-4f72-a90c-6d99643e6e20"
      },
      "source": [
        "There is a more efficient way to avoid repeating the same code over and over again for different elements in a list. You have used the `for` loop in previous lessons. Here, you will use it to iterate through all the tasks, check if they take 5 minutes or less to complete, and ask the LLM to do a first pass at them if that's the case."
      ]
    },
    {
      "cell_type": "code",
      "execution_count": 25,
      "id": "af2044cb-6cc4-4ad7-aa70-a447641c5f63",
      "metadata": {
        "id": "af2044cb-6cc4-4ad7-aa70-a447641c5f63",
        "outputId": "0d64f1cb-c5c8-40f1-b87c-4c57f6ea4cc7",
        "colab": {
          "base_uri": "https://localhost:8080/",
          "height": 896
        }
      },
      "outputs": [
        {
          "output_type": "stream",
          "name": "stdout",
          "text": [
            "task[\"time to complete\"] 3\n",
            "Subject: Late Arrival for [Meeting Name] Next Week\n",
            "\n",
            "Hi [Boss's name],\n",
            "\n",
            "Just wanted to let you know that I will be running slightly late to our meeting next week on [Date] at [Time]. I'll be there by [Estimated arrival time] at the latest. \n",
            "\n",
            "My apologies for any inconvenience this may cause.\n",
            "\n",
            "Best,\n",
            "[Your Name] \n",
            "\n",
            "task[\"time to complete\"] 60\n",
            "task[\"time to complete\"] 30\n",
            "task[\"time to complete\"] 5\n",
            "## Tofu and Olive Stir-Fry Shopping List:\n",
            "\n",
            "**Main Ingredients:**\n",
            "\n",
            "* **Tofu:** Firm or extra firm (1 block)\n",
            "* **Olives:** Kalamata, green, or a mix (1/2 cup or more, depending on preference)\n",
            "* **Olive oil:** For cooking (2 tbsp)\n",
            "* **Soy sauce:** For flavoring (2 tbsp)\n",
            "* **Garlic:** 2-3 cloves\n",
            "* **Ginger:** 1 inch piece (or 1 tsp grated ginger)\n",
            "\n",
            "**Vegetables:**\n",
            "\n",
            "* **Onion:** 1 small\n",
            "* **Bell pepper:** 1 (red, green, or yellow)\n",
            "* **Broccoli:** 1 floret or 1/2 cup chopped\n",
            "* **Spinach or other greens:** 1 handful\n",
            "\n",
            "**Optional Ingredients:**\n",
            "\n",
            "* **Chili flakes:** For spice\n",
            "* **Sesame oil:** For flavor and aroma\n",
            "* **Honey or maple syrup:** For sweetness\n",
            "* **Rice or noodles:** To serve with the stir-fry\n",
            "\n",
            "**Other:**\n",
            "\n",
            "* **Salt and pepper:** To taste\n",
            "* **Fresh cilantro or parsley:** For garnish (optional)\n",
            "\n",
            "**Pro Tip:** For a heartier meal, add some chopped chicken or shrimp.\n",
            "\n"
          ]
        }
      ],
      "source": [
        "for task in task_list:\n",
        "    print(\"\"\"task[\"time to complete\"]\"\"\",task[\"time_to_complete\"])\n",
        "    if task[\"time_to_complete\"] <= 5:\n",
        "        task_to_do = task[\"description\"]\n",
        "        print_llm_response(task_to_do)"
      ]
    },
    {
      "cell_type": "markdown",
      "id": "77194b60-9e68-461a-a920-eb84d268bd87",
      "metadata": {
        "id": "77194b60-9e68-461a-a920-eb84d268bd87"
      },
      "source": [
        "## `if`-`else` blocks"
      ]
    },
    {
      "cell_type": "markdown",
      "id": "8f276ad1-48d1-4211-b509-20ce20ae3a1d",
      "metadata": {
        "id": "8f276ad1-48d1-4211-b509-20ce20ae3a1d"
      },
      "source": [
        "In some cases, you may want to perform another action when the `if` condition is not met. In those cases, you can use `else`. For instance, here Python will let you know that some of the tasks were not completed and will provide you with the `time_to_complete` information for those tasks."
      ]
    },
    {
      "cell_type": "code",
      "execution_count": 32,
      "id": "a403c715-e321-446c-9fd9-ee5db1c28b05",
      "metadata": {
        "id": "a403c715-e321-446c-9fd9-ee5db1c28b05",
        "outputId": "2ca02c9d-27be-4a29-c6fd-4463fb7355ea",
        "colab": {
          "base_uri": "https://localhost:8080/",
          "height": 1000
        }
      },
      "outputs": [
        {
          "output_type": "stream",
          "name": "stdout",
          "text": [
            "Subject: Running Late for Next Week's Meeting\n",
            "\n",
            "Hi [Boss's name],\n",
            "\n",
            "I'm writing to let you know that I will be running a few minutes late for our meeting next week on [date] at [time]. I apologize for any inconvenience this may cause.\n",
            "\n",
            "I will be sure to join the meeting as soon as I can.\n",
            "\n",
            "Thanks,\n",
            "[Your name] \n",
            "\n",
            "\n",
            "\n",
            "\n",
            "\n",
            "\n",
            "To complete later: 60 time to complete.\n",
            "\n",
            "\n",
            "\n",
            "\n",
            "\n",
            "To complete later: 30 time to complete.\n",
            "## Tofu and Olive Stir-Fry Shopping List:\n",
            "\n",
            "**Main Ingredients:**\n",
            "\n",
            "* **Tofu:** 1 block (firm or extra-firm)\n",
            "* **Olives:** 1 can (black or green, pitted)\n",
            "* **Vegetables:** \n",
            "    * 1 bell pepper (any color)\n",
            "    * 1 onion\n",
            "    * 1 cup broccoli florets\n",
            "    * 1/2 cup snow peas (optional)\n",
            "    * 1/4 cup chopped fresh ginger (optional)\n",
            "    * 1 clove garlic, minced (optional)\n",
            "\n",
            "**Sauce:**\n",
            "\n",
            "* **Soy sauce:** 1/4 cup\n",
            "* **Rice vinegar:** 2 tablespoons\n",
            "* **Sesame oil:** 1 tablespoon\n",
            "* **Honey or sugar:** 1 tablespoon\n",
            "* **Cornstarch:** 1 tablespoon\n",
            "* **Optional:** \n",
            "    * Sriracha sauce or chili flakes for spice\n",
            "    * Pinch of salt and black pepper\n",
            "\n",
            "**Other:**\n",
            "\n",
            "* **Oil:** For cooking (vegetable, canola, or sesame)\n",
            "* **Rice or noodles:** For serving (optional)\n",
            "\n",
            "**Notes:**\n",
            "\n",
            "* Adjust quantities based on how much you want to make. \n",
            "* You can swap out vegetables for your favorites.\n",
            "* If you're looking for a vegan stir-fry, use a vegan soy sauce or tamari.\n",
            "* To make it more flavorful, try adding a pinch of red pepper flakes or a dash of sesame seeds. \n",
            "\n"
          ]
        }
      ],
      "source": [
        "for task in task_list:\n",
        "    if task[\"time_to_complete\"] <= 5:\n",
        "        task_to_do = task[\"description\"]\n",
        "        print_llm_response(task_to_do)\n",
        "    else:\n",
        "        print(f\"\\n\\n\\n\\n\\nTo complete later: {task['time_to_complete']} time to complete.\")"
      ]
    },
    {
      "cell_type": "markdown",
      "id": "425e5bb2-c90e-42b0-a046-8b760ea007b7",
      "metadata": {
        "id": "425e5bb2-c90e-42b0-a046-8b760ea007b7"
      },
      "source": [
        "## Saving tasks for later using lists"
      ]
    },
    {
      "cell_type": "markdown",
      "id": "04030334-2cdf-4164-967d-4d2af593c3d9",
      "metadata": {
        "id": "04030334-2cdf-4164-967d-4d2af593c3d9"
      },
      "source": [
        "After you executed the previous cell, you saw that some of the tasks were not completed and their time to completion. However, it is better practice to save all the information from those tasks using a new list. Here, you will again use the coding paradigm where you initialize an empty list to save information (the tasks to complete later) using `.append()`."
      ]
    },
    {
      "cell_type": "code",
      "execution_count": 33,
      "id": "20751a1a-e73e-4ded-98a5-48c341debae5",
      "metadata": {
        "id": "20751a1a-e73e-4ded-98a5-48c341debae5",
        "outputId": "384a78c0-6b7f-48dc-860f-6963f6e88c92",
        "colab": {
          "base_uri": "https://localhost:8080/",
          "height": 1000
        }
      },
      "outputs": [
        {
          "output_type": "stream",
          "name": "stdout",
          "text": [
            "Subject: Late Arrival for [Meeting Name] - [Your Name]\n",
            "\n",
            "Hi [Boss's name],\n",
            "\n",
            "Please be advised that I will be a few minutes late to next week's [Meeting Name] meeting on [Date] at [Time] due to [Brief reason for lateness]. I apologize for any inconvenience this may cause. \n",
            "\n",
            "I will join the meeting as soon as possible.\n",
            "\n",
            "Thanks,\n",
            "[Your name] \n",
            "\n",
            "## Tofu & Olive Stir Fry Shopping List:\n",
            "\n",
            "**Protein:**\n",
            "\n",
            "* 1 block Firm Tofu (14 oz)\n",
            "\n",
            "**Vegetables:**\n",
            "\n",
            "* 1 Red Bell Pepper\n",
            "* 1 Green Bell Pepper\n",
            "* 1 Onion (medium)\n",
            "* 1 cup Broccoli Florets\n",
            "* 1 cup Snow Peas\n",
            "* 1/2 cup Black Olives (pitted)\n",
            "* 1-2 cloves Garlic\n",
            "\n",
            "**Sauce:**\n",
            "\n",
            "* 1/4 cup Soy Sauce\n",
            "* 1 tbsp Honey or Brown Sugar\n",
            "* 1 tbsp Olive Oil\n",
            "* 1 tsp Sesame Oil\n",
            "* 1 tsp Rice Vinegar\n",
            "* 1/2 tsp Ginger (grated or powdered)\n",
            "* 1/4 tsp Black Pepper\n",
            "* Optional: 1/4 cup Water (if sauce is too thick)\n",
            "\n",
            "**Other:**\n",
            "\n",
            "* Sesame Seeds (for garnish)\n",
            "* Cooking Oil (vegetable or canola)\n",
            "* Salt (to taste)\n",
            "\n",
            "**Optional Additions:**\n",
            "\n",
            "* **For a spicier dish:** Red pepper flakes, chili garlic sauce\n",
            "* **For more flavor:** Scallions, fresh cilantro, chopped peanuts \n",
            "* **For more protein:** Chicken breast, shrimp \n",
            "\n",
            "**Notes:**\n",
            "\n",
            "* This list is for a serving of 2-3 people. Adjust quantities as needed.\n",
            "* You can substitute vegetables with your preferred choices. \n",
            "* You can use pre-cut vegetables for convenience. \n",
            "* Fresh ginger can be substituted with 1/2 tsp ground ginger. \n",
            "* Don't forget to check your pantry for staples like oil, soy sauce, and pepper.\n",
            "\n"
          ]
        }
      ],
      "source": [
        "tasks_for_later = []\n",
        "\n",
        "for task in task_list:\n",
        "    if task[\"time_to_complete\"] <= 5:\n",
        "        task_to_do = task[\"description\"]\n",
        "        print_llm_response(task_to_do)\n",
        "    else:\n",
        "        tasks_for_later.append(task)"
      ]
    },
    {
      "cell_type": "code",
      "execution_count": 35,
      "id": "f5969c9f-57ac-4146-839b-226ce092387a",
      "metadata": {
        "id": "f5969c9f-57ac-4146-839b-226ce092387a",
        "outputId": "82811899-ed3c-49e7-822d-00c7d2b9bad5",
        "colab": {
          "base_uri": "https://localhost:8080/"
        }
      },
      "outputs": [
        {
          "output_type": "stream",
          "name": "stdout",
          "text": [
            "[{'description': 'Create an outline for a presentation on the benefits of remote work.', 'time_to_complete': 60}, {'description': \"Write a 300-word review of the movie 'The Arrival'.\", 'time_to_complete': 30}]\n",
            "2\n",
            "4\n"
          ]
        }
      ],
      "source": [
        "print(tasks_for_later)\n",
        "print(len(tasks_for_later))\n",
        "print(len(task_list))"
      ]
    },
    {
      "cell_type": "markdown",
      "id": "9d616998-e210-4d8b-8928-a9776856f518",
      "metadata": {
        "id": "9d616998-e210-4d8b-8928-a9776856f518"
      },
      "source": [
        "Congratulations 🎉🎉🎉, you are very close to completing this course. In the next lesson, you will go through a quick demo about working with files."
      ]
    },
    {
      "cell_type": "markdown",
      "id": "3b4a0ab3-f01a-4fe4-9a50-5f985972b51f",
      "metadata": {
        "id": "3b4a0ab3-f01a-4fe4-9a50-5f985972b51f"
      },
      "source": [
        "## Extra practice"
      ]
    },
    {
      "cell_type": "markdown",
      "id": "ecbfea5c-678a-4a50-9843-a8a939098c18",
      "metadata": {
        "id": "ecbfea5c-678a-4a50-9843-a8a939098c18"
      },
      "source": [
        "Please go through the exercises in the cells below if you want some extra practice for the topics you covered in this lesson."
      ]
    },
    {
      "cell_type": "code",
      "execution_count": 37,
      "id": "f625ce01-fca2-4754-9503-2c33020524be",
      "metadata": {
        "id": "f625ce01-fca2-4754-9503-2c33020524be",
        "outputId": "d62f4e08-6de4-4f27-ba63-a14c40df2f25",
        "colab": {
          "base_uri": "https://localhost:8080/",
          "height": 256
        }
      },
      "outputs": [
        {
          "output_type": "stream",
          "name": "stdout",
          "text": [
            "## The Arrival: A Thought-Provoking Journey Through Language and Loss\n",
            "\n",
            "\"The Arrival\" is not your typical alien invasion film. This 2016 masterpiece, directed by Denis Villeneuve, delves into themes of communication, loss, and the fragile nature of time, crafting a poignant and intellectually stimulating experience.\n",
            "\n",
            "Amy Adams delivers a mesmerizing performance as Louise Banks, a linguist tasked with deciphering the language of extraterrestrial visitors. The film masterfully uses visual storytelling to depict the alien communication, showcasing its complexity and beauty. We witness Louise's struggle to grasp a language that transcends linear time, leading to a profound emotional journey as she confronts her own past and present.\n",
            "\n",
            "The film's pacing is deliberate and deliberate, allowing the tension to build gradually. The focus on Louise's personal struggle, her grief over the loss of her daughter, adds a layer of humanity to the extraterrestrial encounter. The film explores the power of language to bridge divides, but also its limitations in the face of profound emotional experiences.\n",
            "\n",
            "\"The Arrival\" is a visually stunning film, with breathtaking cinematography and an evocative score that enhances the emotional impact of the story. The film leaves the audience with lingering questions about the nature of time and the power of communication, challenging conventional cinematic narratives and prompting reflection.\n",
            "\n",
            "While some might find the film's pace slow or its ending ambiguous, \"The Arrival\" is a powerful and thought-provoking experience. It transcends the typical alien invasion genre, offering a meditation on the human condition and the challenges of understanding a world beyond our own. \n",
            "\n"
          ]
        }
      ],
      "source": [
        "# Modify this code to complete the task\n",
        "# if it takes more than 15 minutes\n",
        "\n",
        "task:list(dict[str,str|int]) = task_list[2]\n",
        "\n",
        "### EDIT THE FOLLOWING CODE ###\n",
        "if task[\"time_to_complete\"]>15: #Modify this line\n",
        "    task_to_do = task[\"description\"]\n",
        "    print_llm_response(task_to_do)\n",
        "### --------------- ###"
      ]
    },
    {
      "cell_type": "code",
      "execution_count": 38,
      "id": "42a8fb32-b7f9-4dbb-be2b-0eaa790a0e0f",
      "metadata": {
        "id": "42a8fb32-b7f9-4dbb-be2b-0eaa790a0e0f",
        "outputId": "e3a7f0b2-017a-4071-8919-243140609997",
        "colab": {
          "base_uri": "https://localhost:8080/"
        }
      },
      "outputs": [
        {
          "output_type": "stream",
          "name": "stdout",
          "text": [
            "The list of flavors contains Chocolate, Andrew's favorite.\n"
          ]
        }
      ],
      "source": [
        "# Fix the code here by only using indentation.\n",
        "# It should print a message if the \"Chocolate\" ice cream flavor\n",
        "# is located in the ice_cream_flavors list.\n",
        "\n",
        "ice_cream_flavors = [\n",
        "    \"Vanilla\", \"Strawberry\", \"Mint Chocolate Chip\",\n",
        "    \"Cookies and Cream\", \"Rocky Road\", \"Butter Pecan\",\n",
        "    \"Pistachio\", \"Salted Caramel\", \"Chocolate\",\n",
        "    \"Mango\"\n",
        "]\n",
        "\n",
        "### EDIT THE FOLLOWING CODE ###\n",
        "#Hint: Recall that the code within for loops\n",
        "# and if statements is indented. The convention\n",
        "# in Python is to add four spaces for indented code.\n",
        "for flavor in ice_cream_flavors:\n",
        " if flavor == \"Chocolate\":\n",
        "   print(f\"The list of flavors contains {flavor}, Andrew's favorite.\")\n",
        "### --------------- ###"
      ]
    },
    {
      "cell_type": "code",
      "execution_count": 41,
      "id": "fe5406ef-5da6-41d3-993a-764ef3e6dff9",
      "metadata": {
        "id": "fe5406ef-5da6-41d3-993a-764ef3e6dff9",
        "outputId": "9c4a960b-c2b4-4fcc-a1a0-b39ac8181be3",
        "colab": {
          "base_uri": "https://localhost:8080/",
          "height": 930
        }
      },
      "outputs": [
        {
          "output_type": "stream",
          "name": "stdout",
          "text": [
            "Subject: Meeting Next Week - Running Late\n",
            "\n",
            "Hi [Boss's Name],\n",
            "\n",
            "Just wanted to let you know I may be a few minutes late to next week's meeting on [Date] at [Time]. \n",
            "\n",
            "I'll do my best to get there as quickly as possible. \n",
            "\n",
            "Thanks,\n",
            "\n",
            "[Your Name] \n",
            "\n",
            "To complete later:, {'Create an outline for a presentation on the benefits of remote work.'} {60}\n",
            "To complete later:, {\"Write a 300-word review of the movie 'The Arrival'.\"} {30}\n",
            "## Tofu and Olive Stir Fry Shopping List:\n",
            "\n",
            "**Main Ingredients:**\n",
            "\n",
            "* **Tofu:** Firm or extra firm (1 block)\n",
            "* **Olive oil:** (2-3 tablespoons)\n",
            "* **Garlic:** (2-3 cloves)\n",
            "* **Ginger:** (1 inch piece)\n",
            "* **Vegetables:** Choose your favorites! Here are some ideas:\n",
            "    * Broccoli\n",
            "    * Carrots\n",
            "    * Bell peppers\n",
            "    * Snow peas\n",
            "    * Onions\n",
            "    * Mushrooms\n",
            "    * Spinach\n",
            "* **Soy sauce:** (2-3 tablespoons)\n",
            "* **Honey or brown sugar:** (1-2 tablespoons) \n",
            "\n",
            "**Optional Additions:**\n",
            "\n",
            "* **Chili flakes:** (to taste)\n",
            "* **Sesame oil:** (1 teaspoon)\n",
            "* **Rice vinegar:** (1 tablespoon)\n",
            "* **Fresh herbs:** (e.g., cilantro, basil)\n",
            "* **Sesame seeds:** (for garnish)\n",
            "* **Rice or noodles:** to serve\n",
            "\n",
            "**Additional Notes:**\n",
            "\n",
            "* Adjust quantities based on the number of servings you want to make.\n",
            "* Feel free to swap out or add other vegetables according to your preferences. \n",
            "* For a spicier stir fry, add a pinch of chili flakes.\n",
            "* For a richer flavor, add a teaspoon of sesame oil.\n",
            "* Make sure to have a pot or pan big enough to comfortably stir-fry the ingredients.\n",
            "\n"
          ]
        }
      ],
      "source": [
        "# Add variables to the f-string to provide the\n",
        "# task description as well as the time to complete\n",
        "# for the tasks that are left for later.\n",
        "later=[]\n",
        "for task in task_list:\n",
        "    if task[\"time_to_complete\"] <= 5:\n",
        "        task_to_do = task[\"description\"]\n",
        "        print_llm_response(task_to_do)\n",
        "    else:\n",
        "        ### EDIT THE FOLLOWING CODE ###\n",
        "        # Hint: To add a variable in an f-string\n",
        "        # you need to use the following syntax: {variable_name}.\n",
        "        later.append(task)\n",
        "        print(f\"To complete later:,\", {task[\"description\"]},{task[\"time_to_complete\"]})\n",
        "        ### ---------------  ###"
      ]
    },
    {
      "cell_type": "code",
      "source": [
        "print(later)\n",
        "print(len(later))"
      ],
      "metadata": {
        "id": "GrCqeVKfOCyr",
        "outputId": "75005c09-3dd2-4187-cb94-e454e1531814",
        "colab": {
          "base_uri": "https://localhost:8080/"
        }
      },
      "id": "GrCqeVKfOCyr",
      "execution_count": 43,
      "outputs": [
        {
          "output_type": "stream",
          "name": "stdout",
          "text": [
            "[{'description': 'Create an outline for a presentation on the benefits of remote work.', 'time_to_complete': 60}, {'description': \"Write a 300-word review of the movie 'The Arrival'.\", 'time_to_complete': 30}]\n",
            "2\n"
          ]
        }
      ]
    }
  ],
  "metadata": {
    "kernelspec": {
      "display_name": "Python 3 (ipykernel)",
      "language": "python",
      "name": "python3"
    },
    "language_info": {
      "codemirror_mode": {
        "name": "ipython",
        "version": 3
      },
      "file_extension": ".py",
      "mimetype": "text/x-python",
      "name": "python",
      "nbconvert_exporter": "python",
      "pygments_lexer": "ipython3",
      "version": "3.9.19"
    },
    "colab": {
      "provenance": [],
      "include_colab_link": true
    }
  },
  "nbformat": 4,
  "nbformat_minor": 5
}