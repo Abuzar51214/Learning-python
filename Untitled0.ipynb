{
  "nbformat": 4,
  "nbformat_minor": 0,
  "metadata": {
    "colab": {
      "provenance": [],
      "authorship_tag": "ABX9TyPpp1UfmEmdMf9n1Wxwc5tP",
      "include_colab_link": true
    },
    "kernelspec": {
      "name": "python3",
      "display_name": "Python 3"
    },
    "language_info": {
      "name": "python"
    }
  },
  "cells": [
    {
      "cell_type": "markdown",
      "metadata": {
        "id": "view-in-github",
        "colab_type": "text"
      },
      "source": [
        "<a href=\"https://colab.research.google.com/github/Abuzar51214/Learning-python/blob/main/Untitled0.ipynb\" target=\"_parent\"><img src=\"https://colab.research.google.com/assets/colab-badge.svg\" alt=\"Open In Colab\"/></a>"
      ]
    },
    {
      "cell_type": "code",
      "execution_count": 7,
      "metadata": {
        "colab": {
          "base_uri": "https://localhost:8080/"
        },
        "id": "6UtXBMTE9ov9",
        "outputId": "259690bf-2224-49c9-f510-cfaf8e001297"
      },
      "outputs": [
        {
          "output_type": "stream",
          "name": "stdout",
          "text": [
            "True Abuzar is younger than manzar\n"
          ]
        }
      ],
      "source": [
        "#Control flow\n",
        "Abuzar_age:int=20\n",
        "Manzar_age:int=24\n",
        "if Abuzar_age<Manzar_age:\n",
        "  print(\"True Abuzar is younger than manzar\")\n",
        "elif Abuzar_age==Manzar_age:\n",
        "  print(\"Equal\")\n",
        "else:\n",
        "  print(\"False Manzar is older than Abuzar\")\n",
        "\n"
      ]
    },
    {
      "cell_type": "code",
      "source": [
        "# option02= Comprehensive style\n",
        "print(\"True Abuzar is younger than manzar\") if Abuzar_age<Manzar_age else print(\"False\")"
      ],
      "metadata": {
        "colab": {
          "base_uri": "https://localhost:8080/"
        },
        "id": "48RslLgbAK4l",
        "outputId": "0008b7e6-742d-40e8-f30f-748602e0b70d"
      },
      "execution_count": 8,
      "outputs": [
        {
          "output_type": "stream",
          "name": "stdout",
          "text": [
            "True Abuzar is younger than manzar\n"
          ]
        }
      ]
    },
    {
      "cell_type": "code",
      "source": [
        "def age_campare():\n",
        "  print(\"True Abuzar is younger than manzar\") if Abuzar_age<Manzar_age else print(\"False\")"
      ],
      "metadata": {
        "id": "3i4TiD8lDCHS"
      },
      "execution_count": 9,
      "outputs": []
    },
    {
      "cell_type": "code",
      "source": [
        "age_campare()"
      ],
      "metadata": {
        "colab": {
          "base_uri": "https://localhost:8080/"
        },
        "id": "F0LekZV_DfjK",
        "outputId": "f493a18c-3df1-48ad-f879-3ce3fef04073"
      },
      "execution_count": 10,
      "outputs": [
        {
          "output_type": "stream",
          "name": "stdout",
          "text": [
            "True Abuzar is younger than manzar\n"
          ]
        }
      ]
    },
    {
      "cell_type": "code",
      "source": [
        "def age_campare(student_age):\n",
        "  print(\"True\") if Abuzar_age<student_age else print(\"False\")\n"
      ],
      "metadata": {
        "id": "uZ0OBNxMDiy-"
      },
      "execution_count": 11,
      "outputs": []
    },
    {
      "cell_type": "code",
      "source": [
        "age_campare(student_age=23)"
      ],
      "metadata": {
        "colab": {
          "base_uri": "https://localhost:8080/"
        },
        "id": "tMDDUB5zGGoo",
        "outputId": "42829a50-d51b-4fad-c5c4-f002814b0941"
      },
      "execution_count": 12,
      "outputs": [
        {
          "output_type": "stream",
          "name": "stdout",
          "text": [
            "True\n"
          ]
        }
      ]
    },
    {
      "cell_type": "code",
      "source": [
        "def age_campare(student_age,name):\n",
        "  print(f\"{name} is older than Abuzar\") if Abuzar_age<student_age else print(f\"{name} is younger than Abuzar\")"
      ],
      "metadata": {
        "id": "2UiariRdHy_S"
      },
      "execution_count": 13,
      "outputs": []
    },
    {
      "cell_type": "code",
      "source": [
        "age_campare(student_age=25,name=\"danish\")"
      ],
      "metadata": {
        "colab": {
          "base_uri": "https://localhost:8080/"
        },
        "id": "Sgu-o5tDISbP",
        "outputId": "30a36f3e-bf18-4aed-8b6f-9acae86ba57c"
      },
      "execution_count": 14,
      "outputs": [
        {
          "output_type": "stream",
          "name": "stdout",
          "text": [
            "danish is older than Abuzar\n"
          ]
        }
      ]
    },
    {
      "cell_type": "code",
      "source": [
        "age_campare(29,\"babar\")"
      ],
      "metadata": {
        "colab": {
          "base_uri": "https://localhost:8080/"
        },
        "id": "bWp8MRfhlvKR",
        "outputId": "d2b92727-69ab-46ad-c90f-5c37d506704c"
      },
      "execution_count": 15,
      "outputs": [
        {
          "output_type": "stream",
          "name": "stdout",
          "text": [
            "babar is older than Abuzar\n"
          ]
        }
      ]
    },
    {
      "cell_type": "code",
      "source": [
        "def greeting():\n",
        "  print(\"hello\")"
      ],
      "metadata": {
        "id": "V5SV8R_1tYmk"
      },
      "execution_count": 16,
      "outputs": []
    },
    {
      "cell_type": "code",
      "source": [
        "#moduler approach\n",
        "Answer=greeting()\n",
        "print(Answer)\n",
        "\n",
        "# output=greet()\n",
        "# print(output)\n"
      ],
      "metadata": {
        "colab": {
          "base_uri": "https://localhost:8080/"
        },
        "id": "mTt2lhlWtd8y",
        "outputId": "6b8379a2-0acb-4300-f406-59568ea310c4"
      },
      "execution_count": 17,
      "outputs": [
        {
          "output_type": "stream",
          "name": "stdout",
          "text": [
            "hello\n",
            "None\n"
          ]
        }
      ]
    },
    {
      "cell_type": "code",
      "source": [
        "def greet()->str:\n",
        "  Hello= \"Hello\"\n",
        "  return Hello"
      ],
      "metadata": {
        "id": "EVCuge1Msuvk"
      },
      "execution_count": 18,
      "outputs": []
    },
    {
      "cell_type": "code",
      "source": [
        "answer=greet()\n",
        "print(answer)"
      ],
      "metadata": {
        "colab": {
          "base_uri": "https://localhost:8080/"
        },
        "id": "3MrBekHJs0JS",
        "outputId": "272d94fe-5c36-45f7-8829-126875543f7a"
      },
      "execution_count": 19,
      "outputs": [
        {
          "output_type": "stream",
          "name": "stdout",
          "text": [
            "Hello\n"
          ]
        }
      ]
    },
    {
      "cell_type": "code",
      "source": [
        "#Parameter(variable)\n",
        "def greet(name:str):\n",
        "  Hello= f\"Hello {name}\"\n",
        "  return Hello"
      ],
      "metadata": {
        "id": "_DN5seyxxrM2"
      },
      "execution_count": 20,
      "outputs": []
    },
    {
      "cell_type": "code",
      "source": [
        "#Arguments(value)\n",
        "var1=greet(\"Ali\")\n",
        "print(var1)\n",
        "print(greet(\"Abuzar\"))\n",
        "print(greet(\"Manzar\"))"
      ],
      "metadata": {
        "colab": {
          "base_uri": "https://localhost:8080/"
        },
        "id": "P7PPoij0xvGp",
        "outputId": "fb7f02dc-afc7-4ecf-ebb1-d3b021e6bd8f"
      },
      "execution_count": 21,
      "outputs": [
        {
          "output_type": "stream",
          "name": "stdout",
          "text": [
            "Hello Ali\n",
            "Hello Abuzar\n",
            "Hello Manzar\n"
          ]
        }
      ]
    },
    {
      "cell_type": "code",
      "source": [
        "def add(x:int,y:int)->int:\n",
        "  return x+y"
      ],
      "metadata": {
        "id": "4XQF5QQnzpR3"
      },
      "execution_count": 22,
      "outputs": []
    },
    {
      "cell_type": "code",
      "source": [
        "add(2,2)"
      ],
      "metadata": {
        "colab": {
          "base_uri": "https://localhost:8080/"
        },
        "id": "jOGxAM3ezwk4",
        "outputId": "005c22f1-d940-46b0-a216-515ca943614d"
      },
      "execution_count": 23,
      "outputs": [
        {
          "output_type": "execute_result",
          "data": {
            "text/plain": [
              "4"
            ]
          },
          "metadata": {},
          "execution_count": 23
        }
      ]
    },
    {
      "cell_type": "code",
      "source": [
        "#In function there is no control flow\n",
        "#this is a building block\n",
        "def age_campare(student_age:int,name:str) -> bool:\n",
        "  result:bool= True if Abuzar_age<student_age else False\n",
        "  return result"
      ],
      "metadata": {
        "id": "6YnQD_6Kmaet"
      },
      "execution_count": null,
      "outputs": []
    },
    {
      "cell_type": "code",
      "source": [
        "comparison_result=age_campare(student_age=24,name=\"feroz\")\n",
        "print(comparison_result)\n"
      ],
      "metadata": {
        "colab": {
          "base_uri": "https://localhost:8080/"
        },
        "id": "9AEDlGXGm8ji",
        "outputId": "311a1489-0824-4cfe-a8ac-0817bb5e6a1b"
      },
      "execution_count": null,
      "outputs": [
        {
          "output_type": "stream",
          "name": "stdout",
          "text": [
            "True\n"
          ]
        }
      ]
    },
    {
      "cell_type": "code",
      "source": [
        "#add all values passed\n",
        "#positional Arguments\n",
        "def add_all(*nums:int)-> int:\n",
        "  print(nums)\n",
        "  total=0\n",
        "  for num in nums:\n",
        "    total+=num\n",
        "  return total"
      ],
      "metadata": {
        "id": "pVzQaycM2wHw"
      },
      "execution_count": 24,
      "outputs": []
    },
    {
      "cell_type": "code",
      "source": [
        "add_all(2,3,4)\n"
      ],
      "metadata": {
        "id": "cRM9YJr325kj",
        "outputId": "34237d71-36a6-4895-da54-5b96a017a42d",
        "colab": {
          "base_uri": "https://localhost:8080/"
        }
      },
      "execution_count": 25,
      "outputs": [
        {
          "output_type": "stream",
          "name": "stdout",
          "text": [
            "(2, 3, 4)\n"
          ]
        },
        {
          "output_type": "execute_result",
          "data": {
            "text/plain": [
              "9"
            ]
          },
          "metadata": {},
          "execution_count": 25
        }
      ]
    },
    {
      "cell_type": "code",
      "source": [
        "def add_all(*num:int)-> int:\n",
        "  print(num)\n",
        "  return sum(num)"
      ],
      "metadata": {
        "id": "enO3v2jT27kR"
      },
      "execution_count": 26,
      "outputs": []
    },
    {
      "cell_type": "code",
      "source": [
        "add_all(3000,4300,5900)"
      ],
      "metadata": {
        "id": "p6sNbP-t2-sT",
        "outputId": "135fd158-58a7-44c6-9134-234fc4f05749",
        "colab": {
          "base_uri": "https://localhost:8080/"
        }
      },
      "execution_count": 28,
      "outputs": [
        {
          "output_type": "stream",
          "name": "stdout",
          "text": [
            "(3000, 4300, 5900)\n"
          ]
        },
        {
          "output_type": "execute_result",
          "data": {
            "text/plain": [
              "13200"
            ]
          },
          "metadata": {},
          "execution_count": 28
        }
      ]
    },
    {
      "cell_type": "code",
      "source": [
        "#Apply discount\n",
        "def apply_discount(price:int,discount:int=10)->int:\n",
        "  return price-(price*discount/100)"
      ],
      "metadata": {
        "id": "YktQJo_23BeA"
      },
      "execution_count": 29,
      "outputs": []
    },
    {
      "cell_type": "code",
      "source": [
        "apply_discount(13200)"
      ],
      "metadata": {
        "id": "1e5kqzhP3aXs",
        "outputId": "a19d8b2b-a765-404f-dc69-9a9bac21bf12",
        "colab": {
          "base_uri": "https://localhost:8080/"
        }
      },
      "execution_count": 30,
      "outputs": [
        {
          "output_type": "execute_result",
          "data": {
            "text/plain": [
              "11880.0"
            ]
          },
          "metadata": {},
          "execution_count": 30
        }
      ]
    },
    {
      "cell_type": "code",
      "source": [
        "#Total discounted price\n",
        "total=add_all(3000,4300,5900)\n",
        "discount_given=50\n",
        "apply_discount(total,discount_given)"
      ],
      "metadata": {
        "id": "YnW6z1HR3hI8",
        "outputId": "522491b2-ae99-44a1-e476-ddaa2b883900",
        "colab": {
          "base_uri": "https://localhost:8080/"
        }
      },
      "execution_count": 31,
      "outputs": [
        {
          "output_type": "stream",
          "name": "stdout",
          "text": [
            "(3000, 4300, 5900)\n"
          ]
        },
        {
          "output_type": "execute_result",
          "data": {
            "text/plain": [
              "6600.0"
            ]
          },
          "metadata": {},
          "execution_count": 31
        }
      ]
    },
    {
      "cell_type": "code",
      "source": [
        "#apply discount based on price backets\n",
        "#10000<=10%\n",
        "#50000<=30%\n",
        "#100000>50%\n",
        "\"\"\"\n",
        "Braintstroming:if discount==10000\n",
        "\n",
        "what amount of discount shall we apply\n",
        "\"\"\"\n",
        "def apply_discount(price:int)->int:\n",
        "  discount:float=0\n",
        "  print(\"initial discount\",discount)\n",
        "  if price<=10000:\n",
        "    print(\"block1\")\n",
        "    discount=10\n",
        "  elif price<=50000:\n",
        "    print(\"block2\")\n",
        "    discount=30\n",
        "  else:\n",
        "    print(\"block3\")\n",
        "    discount=50\n",
        "\n",
        "  print(\"final applicable discount\",discount)\n",
        "  return price-(price*discount/100)"
      ],
      "metadata": {
        "id": "bjb2bPfL3ipj"
      },
      "execution_count": 32,
      "outputs": []
    },
    {
      "cell_type": "code",
      "source": [
        "#Total discounted price\n",
        "total=add_all(3000,4300,5900)\n",
        "apply_discount(total)"
      ],
      "metadata": {
        "id": "RMxzoSFm3uaI",
        "outputId": "ce32b95a-1900-4948-cb5d-f050e628d9a1",
        "colab": {
          "base_uri": "https://localhost:8080/"
        }
      },
      "execution_count": 33,
      "outputs": [
        {
          "output_type": "stream",
          "name": "stdout",
          "text": [
            "(3000, 4300, 5900)\n",
            "initial discount 0\n",
            "block2\n",
            "final applicable discount 30\n"
          ]
        },
        {
          "output_type": "execute_result",
          "data": {
            "text/plain": [
              "9240.0"
            ]
          },
          "metadata": {},
          "execution_count": 33
        }
      ]
    },
    {
      "cell_type": "code",
      "source": [
        "apply_discount(100000)"
      ],
      "metadata": {
        "id": "pGh1GDER3yVY",
        "outputId": "56a836a5-bf40-496e-f161-794304ebc125",
        "colab": {
          "base_uri": "https://localhost:8080/"
        }
      },
      "execution_count": 34,
      "outputs": [
        {
          "output_type": "stream",
          "name": "stdout",
          "text": [
            "initial discount 0\n",
            "block3\n",
            "final applicable discount 50\n"
          ]
        },
        {
          "output_type": "execute_result",
          "data": {
            "text/plain": [
              "50000.0"
            ]
          },
          "metadata": {},
          "execution_count": 34
        }
      ]
    },
    {
      "cell_type": "code",
      "source": [
        "#claculate tax\n",
        "def calculate_tax(gross_total:int, tax:float=17)->float:\n",
        "  return gross_total+(gross_total*tax/100)"
      ],
      "metadata": {
        "id": "FvkffAun31_O"
      },
      "execution_count": 35,
      "outputs": []
    },
    {
      "cell_type": "code",
      "source": [
        "calculate_tax(13200)"
      ],
      "metadata": {
        "id": "s2XGeXO536yX",
        "outputId": "6372c4c6-001f-4dc7-b5b6-f65cde3210d4",
        "colab": {
          "base_uri": "https://localhost:8080/"
        }
      },
      "execution_count": 36,
      "outputs": [
        {
          "output_type": "execute_result",
          "data": {
            "text/plain": [
              "15444.0"
            ]
          },
          "metadata": {},
          "execution_count": 36
        }
      ]
    },
    {
      "cell_type": "code",
      "source": [
        "#funtion created\n",
        "#1-total shopping price\n",
        "#2-apply discount based on totla price\n",
        "#3-apply GST\n",
        "\n",
        "total=add_all(3000,4300,5900)\n",
        "print(\"total price\",total)\n",
        "gross_total=apply_discount(total)\n",
        "print(\"gross total\",gross_total)\n",
        "net_total=calculate_tax(gross_total)\n",
        "print(\"net total\",net_total)"
      ],
      "metadata": {
        "id": "DxGNzxUX4ZW5",
        "outputId": "45c744d9-aa59-4798-eab4-7bee108017ac",
        "colab": {
          "base_uri": "https://localhost:8080/"
        }
      },
      "execution_count": 37,
      "outputs": [
        {
          "output_type": "stream",
          "name": "stdout",
          "text": [
            "(3000, 4300, 5900)\n",
            "total price 13200\n",
            "initial discount 0\n",
            "block2\n",
            "final applicable discount 30\n",
            "gross total 9240.0\n",
            "net total 10810.8\n"
          ]
        }
      ]
    },
    {
      "cell_type": "code",
      "source": [
        "def checkout(*num:int)->int:\n",
        "    return sum(num)\n",
        "\n",
        "def checkout(*num:int)->int:\n",
        "  total=add_all(*num)\n",
        "\n",
        "  gross_total=apply_discount(total)\n",
        "\n",
        "  net_total=calculate_tax(gross_total)\n",
        "\n",
        "  return net_total"
      ],
      "metadata": {
        "id": "-5yQU1c_4cSW"
      },
      "execution_count": 43,
      "outputs": []
    },
    {
      "cell_type": "code",
      "source": [
        "checkout(10000,4000,400)"
      ],
      "metadata": {
        "id": "n22Oq6rv4sQh",
        "outputId": "d18d47c5-75c2-4279-afe0-6b48909db9f2",
        "colab": {
          "base_uri": "https://localhost:8080/"
        }
      },
      "execution_count": 44,
      "outputs": [
        {
          "output_type": "stream",
          "name": "stdout",
          "text": [
            "(10000, 4000, 400)\n",
            "initial discount 0\n",
            "block2\n",
            "final applicable discount 30\n"
          ]
        },
        {
          "output_type": "execute_result",
          "data": {
            "text/plain": [
              "11793.6"
            ]
          },
          "metadata": {},
          "execution_count": 44
        }
      ]
    },
    {
      "cell_type": "code",
      "source": [
        "def register_company(name:str,password:str)->None:\n",
        "  print(name,password)\n",
        ""
      ],
      "metadata": {
        "id": "dj9Ssz3t7BHS"
      },
      "execution_count": null,
      "outputs": []
    },
    {
      "cell_type": "code",
      "source": [
        "#Keyword arguments\n",
        "register_company(name=\"abuzar\",password=\"110\")\n",
        "\n",
        "#Positional arguments\n",
        "register_company(\"abuzar\",\"110\")"
      ],
      "metadata": {
        "id": "hvxZwvgl7VN_"
      },
      "execution_count": null,
      "outputs": []
    },
    {
      "cell_type": "code",
      "source": [
        "def register_company(name:str,password:str,*directors:str)->None:\n",
        "  print(\"Basic info\",name,password)\n",
        "  print(\"Directors\")\n",
        "  for director in directors:\n",
        "    print(director)\n",
        "\n",
        "\n",
        "register_company(\"PIAIC\",\"pass\",\"sir zia\",\"sir qasim\",\"sir ameen\",\"hamza syed\")"
      ],
      "metadata": {
        "id": "hXxextEH8dS7",
        "outputId": "820e56f4-ed99-4711-a05c-71c5553a8444",
        "colab": {
          "base_uri": "https://localhost:8080/"
        }
      },
      "execution_count": 84,
      "outputs": [
        {
          "output_type": "stream",
          "name": "stdout",
          "text": [
            "Basic info PIAIC pass\n",
            "Directors\n",
            "sir zia\n",
            "sir qasim\n",
            "sir ameen\n",
            "hamza syed\n"
          ]
        }
      ]
    },
    {
      "cell_type": "code",
      "source": [
        "#*directors = values\n",
        "#**directors = key,value\n",
        "\n",
        "def register_company(name:str,passwrod:str,*directors:str,**offices:dict)->None:\n",
        "  print(\"Basic info\",name,passwrod)\n",
        "  print(\"Directors\")\n",
        "  for director in directors:\n",
        "    print(director)\n",
        "  print(\"Offices\")\n",
        "  for key,value in offices.items():\n",
        "    print(key,value)\n",
        "\n",
        "register_company(\"PIAIC\",\"pass\",\"sir zia\",\"sir qasim\",khi_institute_name=\"UIT\",lhr_institute_name=\"UMT\")"
      ],
      "metadata": {
        "id": "V9f4B5l9A__p",
        "outputId": "3b4d3822-f217-41fc-9e06-174f8c466fac",
        "colab": {
          "base_uri": "https://localhost:8080/"
        }
      },
      "execution_count": 85,
      "outputs": [
        {
          "output_type": "stream",
          "name": "stdout",
          "text": [
            "Basic info PIAIC pass\n",
            "Directors\n",
            "sir zia\n",
            "sir qasim\n",
            "Offices\n",
            "khi_institute_name UIT\n",
            "lhr_institute_name UMT\n"
          ]
        }
      ]
    }
  ]
}