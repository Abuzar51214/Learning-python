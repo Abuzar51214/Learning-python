{
  "nbformat": 4,
  "nbformat_minor": 0,
  "metadata": {
    "colab": {
      "provenance": [],
      "authorship_tag": "ABX9TyP55doFYoDsn+KWL5j7Xpy0",
      "include_colab_link": true
    },
    "kernelspec": {
      "name": "python3",
      "display_name": "Python 3"
    },
    "language_info": {
      "name": "python"
    }
  },
  "cells": [
    {
      "cell_type": "markdown",
      "metadata": {
        "id": "view-in-github",
        "colab_type": "text"
      },
      "source": [
        "<a href=\"https://colab.research.google.com/github/Abuzar51214/Learning-python/blob/main/Untitled0.ipynb\" target=\"_parent\"><img src=\"https://colab.research.google.com/assets/colab-badge.svg\" alt=\"Open In Colab\"/></a>"
      ]
    },
    {
      "cell_type": "code",
      "execution_count": 12,
      "metadata": {
        "colab": {
          "base_uri": "https://localhost:8080/"
        },
        "id": "6UtXBMTE9ov9",
        "outputId": "a1d37124-6421-484f-cf84-1005a4bc7ca8"
      },
      "outputs": [
        {
          "output_type": "stream",
          "name": "stdout",
          "text": [
            "True Abuzar is younger than manzar\n"
          ]
        }
      ],
      "source": [
        "#Control flow\n",
        "Abuzar_age:int=20\n",
        "Manzar_age:int=24\n",
        "if Abuzar_age<Manzar_age:\n",
        "  print(\"True Abuzar is younger than manzar\")\n",
        "elif Abuzar_age==Manzar_age:\n",
        "  print(\"Equal\")\n",
        "else:\n",
        "  print(\"False Manzar is older than Abuzar\")\n",
        "\n"
      ]
    },
    {
      "cell_type": "code",
      "source": [
        "# option02= Comprehensive style\n",
        "print(\"True Abuzar is younger than manzar\") if Abuzar_age<Manzar_age else print(\"False\")"
      ],
      "metadata": {
        "colab": {
          "base_uri": "https://localhost:8080/"
        },
        "id": "48RslLgbAK4l",
        "outputId": "3c51cbe0-fba8-4c94-9372-2303c02568bd"
      },
      "execution_count": 13,
      "outputs": [
        {
          "output_type": "stream",
          "name": "stdout",
          "text": [
            "True Abuzar is younger than manzar\n"
          ]
        }
      ]
    },
    {
      "cell_type": "code",
      "source": [
        "def age_campare():\n",
        "  print(\"True Abuzar is younger than manzar\") if Abuzar_age<Manzar_age else print(\"False\")"
      ],
      "metadata": {
        "id": "3i4TiD8lDCHS"
      },
      "execution_count": 14,
      "outputs": []
    },
    {
      "cell_type": "code",
      "source": [
        "age_campare()"
      ],
      "metadata": {
        "colab": {
          "base_uri": "https://localhost:8080/"
        },
        "id": "F0LekZV_DfjK",
        "outputId": "9d8ae99b-f6f6-49a1-f65d-83b9c982992c"
      },
      "execution_count": 15,
      "outputs": [
        {
          "output_type": "stream",
          "name": "stdout",
          "text": [
            "True Abuzar is younger than manzar\n"
          ]
        }
      ]
    },
    {
      "cell_type": "code",
      "source": [
        "def age_campare(student_age):\n",
        "  print(\"True\") if Abuzar_age<student_age else print(\"False\")\n"
      ],
      "metadata": {
        "id": "uZ0OBNxMDiy-"
      },
      "execution_count": 16,
      "outputs": []
    },
    {
      "cell_type": "code",
      "source": [
        "age_campare(student_age=23)"
      ],
      "metadata": {
        "colab": {
          "base_uri": "https://localhost:8080/"
        },
        "id": "tMDDUB5zGGoo",
        "outputId": "f62c89a1-a5d9-4c10-f18c-9bd14f4838ed"
      },
      "execution_count": 17,
      "outputs": [
        {
          "output_type": "stream",
          "name": "stdout",
          "text": [
            "True\n"
          ]
        }
      ]
    },
    {
      "cell_type": "code",
      "source": [
        "def age_campare(student_age,name):\n",
        "  print(f\"{name} is older than Abuzar\") if Abuzar_age<student_age else print(f\"{name} is younger than Abuzar\")"
      ],
      "metadata": {
        "id": "2UiariRdHy_S"
      },
      "execution_count": 18,
      "outputs": []
    },
    {
      "cell_type": "code",
      "source": [
        "age_campare(student_age=25,name=\"danish\")"
      ],
      "metadata": {
        "colab": {
          "base_uri": "https://localhost:8080/"
        },
        "id": "Sgu-o5tDISbP",
        "outputId": "23666e6e-3c1a-49df-9396-c8814cb37c93"
      },
      "execution_count": 19,
      "outputs": [
        {
          "output_type": "stream",
          "name": "stdout",
          "text": [
            "danish is older than Abuzar\n"
          ]
        }
      ]
    },
    {
      "cell_type": "code",
      "source": [
        "age_campare(29,\"babar\")"
      ],
      "metadata": {
        "colab": {
          "base_uri": "https://localhost:8080/"
        },
        "id": "bWp8MRfhlvKR",
        "outputId": "2296eb54-c4ab-4f66-f4e7-ee22ae9df10e"
      },
      "execution_count": 20,
      "outputs": [
        {
          "output_type": "stream",
          "name": "stdout",
          "text": [
            "babar is older than Abuzar\n"
          ]
        }
      ]
    },
    {
      "cell_type": "code",
      "source": [
        "def greeting():\n",
        "  print(\"hello\")"
      ],
      "metadata": {
        "id": "V5SV8R_1tYmk"
      },
      "execution_count": 46,
      "outputs": []
    },
    {
      "cell_type": "code",
      "source": [
        "#moduler approach\n",
        "Answer=greeting()\n",
        "print(Answer)\n",
        "\n",
        "# output=greet()\n",
        "# print(output)\n"
      ],
      "metadata": {
        "colab": {
          "base_uri": "https://localhost:8080/"
        },
        "id": "mTt2lhlWtd8y",
        "outputId": "6a4b18bb-5a3a-4390-fce7-d772163dc230"
      },
      "execution_count": 47,
      "outputs": [
        {
          "output_type": "stream",
          "name": "stdout",
          "text": [
            "hello\n",
            "None\n"
          ]
        }
      ]
    },
    {
      "cell_type": "code",
      "source": [
        "def greet()->str:\n",
        "  Hello= \"Hello\"\n",
        "  return Hello"
      ],
      "metadata": {
        "id": "EVCuge1Msuvk"
      },
      "execution_count": 50,
      "outputs": []
    },
    {
      "cell_type": "code",
      "source": [
        "answer=greet()\n",
        "print(answer)"
      ],
      "metadata": {
        "colab": {
          "base_uri": "https://localhost:8080/"
        },
        "id": "3MrBekHJs0JS",
        "outputId": "43d98c70-32ac-4d58-c9f1-5a10779fe738"
      },
      "execution_count": 51,
      "outputs": [
        {
          "output_type": "stream",
          "name": "stdout",
          "text": [
            "Hello\n"
          ]
        }
      ]
    },
    {
      "cell_type": "code",
      "source": [
        "#Parameter(variable)\n",
        "def greet(name:str):\n",
        "  Hello= f\"Hello {name}\"\n",
        "  return Hello"
      ],
      "metadata": {
        "id": "_DN5seyxxrM2"
      },
      "execution_count": 56,
      "outputs": []
    },
    {
      "cell_type": "code",
      "source": [
        "#Arguments(value)\n",
        "var1=greet(\"Ali\")\n",
        "print(var1)\n",
        "print(greet(\"Abuzar\"))\n",
        "print(greet(\"Manzar\"))"
      ],
      "metadata": {
        "colab": {
          "base_uri": "https://localhost:8080/"
        },
        "id": "P7PPoij0xvGp",
        "outputId": "86029b09-f4ba-43c2-9091-bba2613596f5"
      },
      "execution_count": 60,
      "outputs": [
        {
          "output_type": "stream",
          "name": "stdout",
          "text": [
            "Hello Ali\n",
            "Hello Abuzar\n",
            "Hello Manzar\n"
          ]
        }
      ]
    },
    {
      "cell_type": "code",
      "source": [
        "def add(x:int,y:int)->int:\n",
        "  return x+y"
      ],
      "metadata": {
        "id": "4XQF5QQnzpR3"
      },
      "execution_count": 61,
      "outputs": []
    },
    {
      "cell_type": "code",
      "source": [
        "add(2,2)"
      ],
      "metadata": {
        "colab": {
          "base_uri": "https://localhost:8080/"
        },
        "id": "jOGxAM3ezwk4",
        "outputId": "ac0e46d4-a73b-4c82-e908-6aa102ec2f62"
      },
      "execution_count": 62,
      "outputs": [
        {
          "output_type": "execute_result",
          "data": {
            "text/plain": [
              "4"
            ]
          },
          "metadata": {},
          "execution_count": 62
        }
      ]
    },
    {
      "cell_type": "code",
      "source": [
        "#In function there is no control flow\n",
        "#this is a building block\n",
        "def age_campare(student_age:int,name:str) -> bool:\n",
        "  result:bool= True if Abuzar_age<student_age else False\n",
        "  return result"
      ],
      "metadata": {
        "id": "6YnQD_6Kmaet"
      },
      "execution_count": 29,
      "outputs": []
    },
    {
      "cell_type": "code",
      "source": [
        "comparison_result=age_campare(student_age=24,name=\"feroz\")\n",
        "print(comparison_result)\n"
      ],
      "metadata": {
        "colab": {
          "base_uri": "https://localhost:8080/"
        },
        "id": "9AEDlGXGm8ji",
        "outputId": "311a1489-0824-4cfe-a8ac-0817bb5e6a1b"
      },
      "execution_count": 30,
      "outputs": [
        {
          "output_type": "stream",
          "name": "stdout",
          "text": [
            "True\n"
          ]
        }
      ]
    }
  ]
}