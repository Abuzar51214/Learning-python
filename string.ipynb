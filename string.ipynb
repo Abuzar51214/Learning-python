{
  "nbformat": 4,
  "nbformat_minor": 0,
  "metadata": {
    "colab": {
      "provenance": [],
      "authorship_tag": "ABX9TyNCxhmHDjCGCeIjwDhdhMyY",
      "include_colab_link": true
    },
    "kernelspec": {
      "name": "python3",
      "display_name": "Python 3"
    },
    "language_info": {
      "name": "python"
    }
  },
  "cells": [
    {
      "cell_type": "markdown",
      "metadata": {
        "id": "view-in-github",
        "colab_type": "text"
      },
      "source": [
        "<a href=\"https://colab.research.google.com/github/Abuzar51214/Learning-python/blob/main/string.ipynb\" target=\"_parent\"><img src=\"https://colab.research.google.com/assets/colab-badge.svg\" alt=\"Open In Colab\"/></a>"
      ]
    },
    {
      "cell_type": "code",
      "execution_count": null,
      "metadata": {
        "colab": {
          "base_uri": "https://localhost:8080/"
        },
        "id": "2gYDA6hiEqdb",
        "outputId": "6d76f84b-44da-4247-b2b6-5de16a5f9c8f"
      },
      "outputs": [
        {
          "output_type": "stream",
          "name": "stdout",
          "text": [
            "Abuzar ali\n",
            "<class 'str'>\n",
            "136601081835952\n",
            "10\n"
          ]
        }
      ],
      "source": [
        "data : str = 'Abuzar ali'\n",
        "print(data)\n",
        "print(type(data))\n",
        "print(id(data))\n",
        "print(len(data))"
      ]
    },
    {
      "cell_type": "code",
      "source": [
        "name1 : str = 'Abuzar'\n",
        "name2 : str = 'Abuzar'\n",
        "print(id(name1))\n",
        "print(id(name2))\n"
      ],
      "metadata": {
        "colab": {
          "base_uri": "https://localhost:8080/"
        },
        "id": "guH9XfdxGJ7r",
        "outputId": "4ea53dd8-a79c-4ad8-df22-909b5b2f4a5f"
      },
      "execution_count": null,
      "outputs": [
        {
          "output_type": "stream",
          "name": "stdout",
          "text": [
            "136600611250288\n",
            "136600611250288\n"
          ]
        }
      ]
    },
    {
      "cell_type": "code",
      "source": [
        "Name: str ='abuzar'\n",
        "Father_name:str='Irshad'\n",
        "Roll : int = 123\n",
        "messege:str='hello I am'+Name+'and my father name is'+Father_name+'and my roll no is'+str(Roll)\n",
        "print(messege)"
      ],
      "metadata": {
        "colab": {
          "base_uri": "https://localhost:8080/"
        },
        "id": "ZMRSueWyJmZb",
        "outputId": "39739a2f-149e-41e1-cab4-23def8665c9d"
      },
      "execution_count": null,
      "outputs": [
        {
          "output_type": "stream",
          "name": "stdout",
          "text": [
            "hello I amabuzarand my father name isIrshadand my roll no is123\n"
          ]
        }
      ]
    },
    {
      "cell_type": "code",
      "source": [
        "Name: str ='abuzar'\n",
        "Father_name:str='Irshad'\n",
        "Roll : int = 123\n",
        "massege=f'Name: {Name} fatehr:  {Father_name} Roll.No  {Roll}'\n",
        "print(massege)\n"
      ],
      "metadata": {
        "colab": {
          "base_uri": "https://localhost:8080/"
        },
        "id": "XyFKLwnFQ0Ag",
        "outputId": "e015d915-be77-4793-b00c-604dc457511f"
      },
      "execution_count": 2,
      "outputs": [
        {
          "output_type": "stream",
          "name": "stdout",
          "text": [
            "Name: abuzar fatehr:  Irshad Roll.No  123\n"
          ]
        }
      ]
    },
    {
      "cell_type": "code",
      "source": [
        "# prompt: create a card from last cell data\n",
        "\n",
        "Name: str ='abuzar'\n",
        "Father_name:str='Irshad'\n",
        "Roll : int = 123\n",
        "massege=f'Name: {Name} \\n fatehr:  {Father_name} \\n Roll.No  {Roll}'\n",
        "print(massege)\n"
      ],
      "metadata": {
        "colab": {
          "base_uri": "https://localhost:8080/"
        },
        "id": "ADkIz0tTXzZ4",
        "outputId": "2ebce8ef-26fe-4d76-dddd-0eee863df755"
      },
      "execution_count": null,
      "outputs": [
        {
          "output_type": "stream",
          "name": "stdout",
          "text": [
            "Name: abuzar \n",
            " fatehr:  Irshad \n",
            " Roll.No  123\n"
          ]
        }
      ]
    },
    {
      "cell_type": "markdown",
      "source": [],
      "metadata": {
        "id": "tK4TMtZOaqMF"
      }
    },
    {
      "cell_type": "code",
      "source": [
        "# prompt: create card from last cell with dummy image and text should be left side text should be step by step\n",
        "\n",
        "from IPython.display import HTML\n",
        "\n",
        "# Dummy image URL (replace with your actual image)\n",
        "image_url = \"https://via.placeholder.com/150\"\n",
        "\n",
        "# Card HTML with left-aligned text and step-by-step formatting\n",
        "card_html = f\"\"\"\n",
        "<div style=\"display: flex; border: 1px solid #ccc; padding: 10px; border-radius: 5px;\">\n",
        "  <img src=\"{image_url}\" alt=\"Dummy Image\" style=\"width: 100px; height: 100px; margin-right: 10px;\">\n",
        "  <div style=\"flex-grow: 1;\">\n",
        "    <p style=\"margin-bottom: 5px;\"><strong>Step 1:</strong> {Name}</p>\n",
        "    <p style=\"margin-bottom: 5px;\"><strong>Step 2:</strong> {Father_name}</p>\n",
        "    <p style=\"margin-bottom: 5px;\"><strong>Step 3:</strong> {Roll}</p>\n",
        "  </div>\n",
        "</div>\n",
        "\"\"\"\n",
        "\n",
        "display(HTML(card_html))\n"
      ],
      "metadata": {
        "colab": {
          "base_uri": "https://localhost:8080/",
          "height": 139
        },
        "id": "OGfN05uYZk1z",
        "outputId": "db95dfd7-8535-4aea-b2cb-056cd65a2dfb"
      },
      "execution_count": null,
      "outputs": [
        {
          "output_type": "display_data",
          "data": {
            "text/plain": [
              "<IPython.core.display.HTML object>"
            ],
            "text/html": [
              "\n",
              "<div style=\"display: flex; border: 1px solid #ccc; padding: 10px; border-radius: 5px;\">\n",
              "  <img src=\"https://via.placeholder.com/150\" alt=\"Dummy Image\" style=\"width: 100px; height: 100px; margin-right: 10px;\">\n",
              "  <div style=\"flex-grow: 1;\">\n",
              "    <p style=\"margin-bottom: 5px;\"><strong>Step 1:</strong> abuzar</p>\n",
              "    <p style=\"margin-bottom: 5px;\"><strong>Step 2:</strong> Irshad</p>\n",
              "    <p style=\"margin-bottom: 5px;\"><strong>Step 3:</strong> 123</p>\n",
              "  </div>\n",
              "</div>\n"
            ]
          },
          "metadata": {}
        }
      ]
    },
    {
      "cell_type": "code",
      "source": [
        "# prompt: create card from last cell with dummy image and text should be left side text should be step by step give this card in pdf give text to right side and picture left side\n",
        "\n",
        "from IPython.display import HTML\n",
        "\n",
        "# Dummy image URL (replace with your actual image)\n",
        "image_url = \"https://via.placeholder.com/150\"\n",
        "\n",
        "Name: str ='abuzar'\n",
        "Father_name:str='Irshad'\n",
        "Roll : int = 123\n",
        "\n",
        "# Card HTML with right-aligned text and step-by-step formatting\n",
        "card_html = f\"\"\"\n",
        "<div style=\"display: flex; border: 1px solid #ccc; padding: 10px; border-radius: 5px;\">\n",
        "  <div style=\"flex-grow: 1; text-align: right;\">\n",
        "    <p style=\"margin-bottom: 5px;\"><strong>Step 1:</strong> {Name}</p>\n",
        "    <p style=\"margin-bottom: 5px;\"><strong>Step 2:</strong> {Father_name}</p>\n",
        "    <p style=\"margin-bottom: 5px;\"><strong>Step 3:</strong> {Roll}</p>\n",
        "  </div>\n",
        "  <img src=\"{image_url}\" alt=\"Dummy Image\" style=\"width: 100px; height: 100px; margin-left: 10px;\">\n",
        "</div>\n",
        "\"\"\"\n",
        "\n",
        "display(HTML(card_html))\n"
      ],
      "metadata": {
        "colab": {
          "base_uri": "https://localhost:8080/",
          "height": 139
        },
        "id": "Hje_tEeha3Dh",
        "outputId": "7f3c1cf2-5aea-43b4-e361-1bf980638771"
      },
      "execution_count": null,
      "outputs": [
        {
          "output_type": "display_data",
          "data": {
            "text/plain": [
              "<IPython.core.display.HTML object>"
            ],
            "text/html": [
              "\n",
              "<div style=\"display: flex; border: 1px solid #ccc; padding: 10px; border-radius: 5px;\">\n",
              "  <div style=\"flex-grow: 1; text-align: right;\">\n",
              "    <p style=\"margin-bottom: 5px;\"><strong>Step 1:</strong> abuzar</p>\n",
              "    <p style=\"margin-bottom: 5px;\"><strong>Step 2:</strong> Irshad</p>\n",
              "    <p style=\"margin-bottom: 5px;\"><strong>Step 3:</strong> 123</p>\n",
              "  </div>\n",
              "  <img src=\"https://via.placeholder.com/150\" alt=\"Dummy Image\" style=\"width: 100px; height: 100px; margin-left: 10px;\">\n",
              "</div>\n"
            ]
          },
          "metadata": {}
        }
      ]
    },
    {
      "cell_type": "code",
      "source": [
        "# prompt: create a student card text right side and picture left side\n",
        "\n",
        "from IPython.display import HTML\n",
        "\n",
        "# Dummy image URL (replace with your actual image)\n",
        "image_url = \"https://via.placeholder.com/150\"\n",
        "\n",
        "Name: str ='abuzar'\n",
        "Father_name:str='Irshad'\n",
        "Roll : int = 123\n",
        "\n",
        "# Card HTML with left-aligned text and step-by-step formatting\n",
        "card_html = f\"\"\"\n",
        "<div style=\"display: flex; border: 1px solid #ccc; padding: 10px; border-radius: 5px;\">\n",
        "  <img src=\"{image_url}\" alt=\"Dummy Image\" style=\"width: 100px; height: 100px; margin-right: 10px;\">\n",
        "  <div style=\"flex-grow: 1;\">\n",
        "    <p style=\"margin-bottom: 5px;\"><strong>Name:</strong> {Name}</p>\n",
        "    <p style=\"margin-bottom: 5px;\"><strong>Father Name:</strong> {Father_name}</p>\n",
        "    <p style=\"margin-bottom: 5px;\"><strong>Roll No:</strong> {Roll}</p>\n",
        "  </div>\n",
        "</div>\n",
        "\"\"\"\n",
        "\n",
        "display(HTML(card_html))\n"
      ],
      "metadata": {
        "colab": {
          "base_uri": "https://localhost:8080/",
          "height": 139
        },
        "id": "ViKCFWJKbrvv",
        "outputId": "898cd67b-6f25-435b-a85f-44ad3b4af4e7"
      },
      "execution_count": null,
      "outputs": [
        {
          "output_type": "display_data",
          "data": {
            "text/plain": [
              "<IPython.core.display.HTML object>"
            ],
            "text/html": [
              "\n",
              "<div style=\"display: flex; border: 1px solid #ccc; padding: 10px; border-radius: 5px;\">\n",
              "  <img src=\"https://via.placeholder.com/150\" alt=\"Dummy Image\" style=\"width: 100px; height: 100px; margin-right: 10px;\">\n",
              "  <div style=\"flex-grow: 1;\">\n",
              "    <p style=\"margin-bottom: 5px;\"><strong>Name:</strong> abuzar</p>\n",
              "    <p style=\"margin-bottom: 5px;\"><strong>Father Name:</strong> Irshad</p>\n",
              "    <p style=\"margin-bottom: 5px;\"><strong>Roll No:</strong> 123</p>\n",
              "  </div>\n",
              "</div>\n"
            ]
          },
          "metadata": {}
        }
      ]
    },
    {
      "cell_type": "code",
      "source": [
        "# prompt: take last cell data and create student card with PIAIC heading\n",
        "\n",
        "from IPython.display import HTML\n",
        "\n",
        "# Dummy image URL (replace with your actual image)\n",
        "image_url = \"https://via.placeholder.com/150\"\n",
        "\n",
        "Name: str ='abuzar'\n",
        "Father_name:str='Irshad'\n",
        "Roll : int = 123\n",
        "\n",
        "# Card HTML with left-aligned text and step-by-step formatting\n",
        "card_html = f\"\"\"\n",
        "<div style=\"display: flex; border: 1px solid #ccc; padding: 10px; border-radius: 5px;\">\n",
        "  <img src=\"{image_url}\" alt=\"Dummy Image\" style=\"width: 100px; height: 100px; margin-right: 10px;\">\n",
        "  <div style=\"flex-grow: 1;\">\n",
        "    <h2 style=\"margin-bottom: 10px;\">PIAIC Student Card</h2>\n",
        "    <p style=\"margin-bottom: 5px;\"><strong>Name:</strong> {Name}</p>\n",
        "    <p style=\"margin-bottom: 5px;\"><strong>Father Name:</strong> {Father_name}</p>\n",
        "    <p style=\"margin-bottom: 5px;\"><strong>Roll No:</strong> {Roll}</p>\n",
        "  </div>\n",
        "</div>\n",
        "\"\"\"\n",
        "\n",
        "display(HTML(card_html))\n"
      ],
      "metadata": {
        "colab": {
          "base_uri": "https://localhost:8080/",
          "height": 161
        },
        "id": "UhZkStYXfQZC",
        "outputId": "54ada1ae-bf9d-4767-a22b-735b6449f941"
      },
      "execution_count": null,
      "outputs": [
        {
          "output_type": "display_data",
          "data": {
            "text/plain": [
              "<IPython.core.display.HTML object>"
            ],
            "text/html": [
              "\n",
              "<div style=\"display: flex; border: 1px solid #ccc; padding: 10px; border-radius: 5px;\">\n",
              "  <img src=\"https://via.placeholder.com/150\" alt=\"Dummy Image\" style=\"width: 100px; height: 100px; margin-right: 10px;\">\n",
              "  <div style=\"flex-grow: 1;\">\n",
              "    <h2 style=\"margin-bottom: 10px;\">PIAIC Student Card</h2>\n",
              "    <p style=\"margin-bottom: 5px;\"><strong>Name:</strong> abuzar</p>\n",
              "    <p style=\"margin-bottom: 5px;\"><strong>Father Name:</strong> Irshad</p>\n",
              "    <p style=\"margin-bottom: 5px;\"><strong>Roll No:</strong> 123</p>\n",
              "  </div>\n",
              "</div>\n"
            ]
          },
          "metadata": {}
        }
      ]
    },
    {
      "cell_type": "code",
      "source": [
        "name = 'Abuzar'\n",
        "father = 'Irshad ali'\n",
        "Roll = 'piaic512'\n",
        "messege=f'name:{name}\\n father:{father}\\n Roll:{Roll}'\n",
        "print(messege)\n",
        "\n",
        "\n"
      ],
      "metadata": {
        "colab": {
          "base_uri": "https://localhost:8080/"
        },
        "id": "X6geCq_7qcjd",
        "outputId": "04eecebb-6477-4264-89ff-5d7eac32dc60"
      },
      "execution_count": 14,
      "outputs": [
        {
          "output_type": "stream",
          "name": "stdout",
          "text": [
            "name:Abuzar\n",
            " father:Irshad ali\n",
            " Roll:piaic512\n"
          ]
        }
      ]
    },
    {
      "cell_type": "code",
      "source": [
        "# prompt: pick last cell data and create student card\n",
        "\n",
        "from IPython.display import HTML\n",
        "\n",
        "# Assuming the last cell data is stored in a variable called 'last_cell_data'\n",
        "# Replace this with your actual data retrieval logic\n",
        "\n",
        "last_cell_data = ['abuzar', 'Irshad', 'piaic512']\n",
        "\n",
        "Name = last_cell_data[0]\n",
        "Father_name = last_cell_data[1]\n",
        "Roll = last_cell_data[2]\n",
        "\n",
        "# Dummy image URL (replace with your actual image)\n",
        "image_url = \"https://via.placeholder.com/150\"\n",
        "\n",
        "# Card HTML with left-aligned text and step-by-step formatting\n",
        "card_html = f\"\"\"\n",
        "<div style=\"display: flex; border: 1px solid #ccc; padding: 10px; border-radius: 5px;\">\n",
        "  <img src=\"{image_url}\" alt=\"Dummy Image\" style=\"width: 100px; height: 100px; margin-right: 10px;\">\n",
        "  <div style=\"flex-grow: 1;\">\n",
        "    <h2 style=\"margin-bottom: 10px;\">PIAIC Student Card</h2>\n",
        "    <p style=\"margin-bottom: 5px;\"><strong>Name:</strong> {Name}</p>\n",
        "    <p style=\"margin-bottom: 5px;\"><strong>Father Name:</strong> {Father_name}</p>\n",
        "    <p style=\"margin-bottom: 5px;\"><strong>Roll No:</strong> {Roll}</p>\n",
        "  </div>\n",
        "</div>\n",
        "\"\"\"\n",
        "\n",
        "display(HTML(card_html))\n"
      ],
      "metadata": {
        "colab": {
          "base_uri": "https://localhost:8080/",
          "height": 161
        },
        "id": "ie8XCQjqso8F",
        "outputId": "a257b40a-a0f6-4f12-d8ab-69bdbd5a6c72"
      },
      "execution_count": 23,
      "outputs": [
        {
          "output_type": "display_data",
          "data": {
            "text/plain": [
              "<IPython.core.display.HTML object>"
            ],
            "text/html": [
              "\n",
              "<div style=\"display: flex; border: 1px solid #ccc; padding: 10px; border-radius: 5px;\">\n",
              "  <img src=\"https://via.placeholder.com/150\" alt=\"Dummy Image\" style=\"width: 100px; height: 100px; margin-right: 10px;\">\n",
              "  <div style=\"flex-grow: 1;\">\n",
              "    <h2 style=\"margin-bottom: 10px;\">PIAIC Student Card</h2>\n",
              "    <p style=\"margin-bottom: 5px;\"><strong>Name:</strong> abuzar</p>\n",
              "    <p style=\"margin-bottom: 5px;\"><strong>Father Name:</strong> Irshad</p>\n",
              "    <p style=\"margin-bottom: 5px;\"><strong>Roll No:</strong> piaic512</p>\n",
              "  </div>\n",
              "</div>\n"
            ]
          },
          "metadata": {}
        }
      ]
    },
    {
      "cell_type": "code",
      "source": [
        "# prompt: https://encrypted-tbn0.gstatic.com/images?q=tbn:ANd9GcQKMkYFl_x7_uJCJt3xdCiLw_rsBADvEkwx_A&s add this picture in last cell card in card 150×150px from the right side of card and\n",
        "\n",
        "# Assuming the last cell data is stored in a variable called 'last_cell_data'\n",
        "# Replace this with your actual data retrieval logic\n",
        "\n",
        "last_cell_data = ['abuzar', 'Irshad', 'piaic512']\n",
        "\n",
        "Name = last_cell_data[0]\n",
        "Father_name = last_cell_data[1]\n",
        "Roll = last_cell_data[2]\n",
        "\n",
        "# Image URL\n",
        "image_url = \"https://encrypted-tbn0.gstatic.com/images?q=tbn:ANd9GcQKMkYFl_x7_uJCJt3xdCiLw_rsBADvEkwx_A&s\"\n",
        "\n",
        "# Card HTML with left-aligned text and step-by-step formatting\n",
        "card_html = f\"\"\"\n",
        "<div style=\"display: flex; border: 1px solid #ccc; padding: 10px; border-radius: 5px;\">\n",
        "  <div style=\"flex-grow: 1;\">\n",
        "    <h2 style=\"margin-bottom: 10px;\">PIAIC Student Card</h2>\n",
        "    <p style=\"margin-bottom: 5px;\"><strong>Name:</strong> {Name}</p>\n",
        "    <p style=\"margin-bottom: 5px;\"><strong>Father Name:</strong> {Father_name}</p>\n",
        "    <p style=\"margin-bottom: 5px;\"><strong>Roll No:</strong> {Roll}</p>\n",
        "  </div>\n",
        "  <img src=\"{image_url}\" alt=\"Dummy Image\" style=\"width: 150px; height: 150px; margin-left: 10px;\">\n",
        "</div>\n",
        "\"\"\"\n",
        "\n",
        "display(HTML(card_html))\n"
      ],
      "metadata": {
        "colab": {
          "base_uri": "https://localhost:8080/",
          "height": 189
        },
        "id": "F4Rl89dOvm5O",
        "outputId": "51b86daa-0af9-41fb-c45e-896ab7e75ed7"
      },
      "execution_count": 20,
      "outputs": [
        {
          "output_type": "display_data",
          "data": {
            "text/plain": [
              "<IPython.core.display.HTML object>"
            ],
            "text/html": [
              "\n",
              "<div style=\"display: flex; border: 1px solid #ccc; padding: 10px; border-radius: 5px;\">\n",
              "  <div style=\"flex-grow: 1;\">\n",
              "    <h2 style=\"margin-bottom: 10px;\">PIAIC Student Card</h2>\n",
              "    <p style=\"margin-bottom: 5px;\"><strong>Name:</strong> abuzar</p>\n",
              "    <p style=\"margin-bottom: 5px;\"><strong>Father Name:</strong> Irshad</p>\n",
              "    <p style=\"margin-bottom: 5px;\"><strong>Roll No:</strong> piaic512</p>\n",
              "  </div>\n",
              "  <img src=\"https://encrypted-tbn0.gstatic.com/images?q=tbn:ANd9GcQKMkYFl_x7_uJCJt3xdCiLw_rsBADvEkwx_A&s\" alt=\"Dummy Image\" style=\"width: 150px; height: 150px; margin-left: 10px;\">\n",
              "</div>\n"
            ]
          },
          "metadata": {}
        }
      ]
    },
    {
      "cell_type": "code",
      "source": [
        "# prompt: add background blue design color last card\n",
        "\n",
        "# Assuming the last cell data is stored in a variable called 'last_cell_data'\n",
        "# Replace this with your actual data retrieval logic\n",
        "\n",
        "last_cell_data = ['abuzar', 'Irshad', 'piaic512']\n",
        "\n",
        "Name = last_cell_data[0]\n",
        "Father_name = last_cell_data[1]\n",
        "Roll = last_cell_data[2]\n",
        "\n",
        "# Image URL\n",
        "image_url = \"https://encrypted-tbn0.gstatic.com/images?q=tbn:ANd9GcQKMkYFl_x7_uJCJt3xdCiLw_rsBADvEkwx_A&s\"\n",
        "\n",
        "# Card HTML with left-aligned text and step-by-step formatting\n",
        "card_html = f\"\"\"\n",
        "<div style=\"display: flex; border: 1px solid #ccc; padding: 10px; border-radius: 5px; background-color: #ADD8E6;\">\n",
        "  <div style=\"flex-grow: 1;\">\n",
        "    <h2 style=\"margin-bottom: 10px;\">PIAIC Student Card</h2>\n",
        "    <p style=\"margin-bottom: 5px;\"><strong>Name:</strong> {Name}</p>\n",
        "    <p style=\"margin-bottom: 5px;\"><strong>Father Name:</strong> {Father_name}</p>\n",
        "    <p style=\"margin-bottom: 5px;\"><strong>Roll No:</strong> {Roll}</p>\n",
        "  </div>\n",
        "  <img src=\"{image_url}\" alt=\"Dummy Image\" style=\"width: 150px; height: 150px; margin-left: 10px;\">\n",
        "</div>\n",
        "\"\"\"\n",
        "\n",
        "display(HTML(card_html))\n"
      ],
      "metadata": {
        "colab": {
          "base_uri": "https://localhost:8080/",
          "height": 189
        },
        "id": "G4MiJBnAfV8k",
        "outputId": "88702784-a7ff-4451-f689-6fae7d9a068b"
      },
      "execution_count": 23,
      "outputs": [
        {
          "output_type": "display_data",
          "data": {
            "text/plain": [
              "<IPython.core.display.HTML object>"
            ],
            "text/html": [
              "\n",
              "<div style=\"display: flex; border: 1px solid #ccc; padding: 10px; border-radius: 5px; background-color: #ADD8E6;\"> \n",
              "  <div style=\"flex-grow: 1;\">\n",
              "    <h2 style=\"margin-bottom: 10px;\">PIAIC Student Card</h2>\n",
              "    <p style=\"margin-bottom: 5px;\"><strong>Name:</strong> abuzar</p>\n",
              "    <p style=\"margin-bottom: 5px;\"><strong>Father Name:</strong> Irshad</p>\n",
              "    <p style=\"margin-bottom: 5px;\"><strong>Roll No:</strong> piaic512</p>\n",
              "  </div>\n",
              "  <img src=\"https://encrypted-tbn0.gstatic.com/images?q=tbn:ANd9GcQKMkYFl_x7_uJCJt3xdCiLw_rsBADvEkwx_A&s\" alt=\"Dummy Image\" style=\"width: 150px; height: 150px; margin-left: 10px;\">\n",
              "</div>\n"
            ]
          },
          "metadata": {}
        }
      ]
    },
    {
      "cell_type": "code",
      "source": [
        "name = 'Abuzar'\n",
        "father = 'Irshad ali'\n",
        "Roll = 'piaic512'\n",
        "messege='name{}\\n  father{}\\n Roll{}'.format(name,father,Roll)\n",
        "print(messege)\n"
      ],
      "metadata": {
        "id": "wHYh18xOkW0g",
        "outputId": "eb327a9d-ec99-42d6-cdd3-9d913ae917ed",
        "colab": {
          "base_uri": "https://localhost:8080/"
        }
      },
      "execution_count": 35,
      "outputs": [
        {
          "output_type": "stream",
          "name": "stdout",
          "text": [
            "nameAbuzar\n",
            "  fatherIrshad ali\n",
            " Rollpiaic512\n"
          ]
        }
      ]
    }
  ]
}